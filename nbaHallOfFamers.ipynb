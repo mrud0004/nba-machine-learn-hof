{
  "nbformat": 4,
  "nbformat_minor": 0,
  "metadata": {
    "colab": {
      "provenance": []
    },
    "kernelspec": {
      "name": "python3",
      "display_name": "Python 3"
    },
    "language_info": {
      "name": "python"
    }
  },
  "cells": [
    {
      "cell_type": "markdown",
      "source": [
        "Python Sentiment Analsyis for NBA as to if they will reach the hall of fame."
      ],
      "metadata": {
        "id": "DozMOXMaN8Qn"
      }
    },
    {
      "cell_type": "code",
      "execution_count": 282,
      "metadata": {
        "id": "pFCeaFlkNqXq"
      },
      "outputs": [],
      "source": [
        "#import packages for analysis\n",
        "import pandas as pd\n",
        "from sklearn.ensemble import RandomForestClassifier\n",
        "from sklearn.metrics import accuracy_score\n",
        "import numpy as np\n",
        "import seaborn as sns\n",
        "import matplotlib.pyplot as plt\n",
        "import plotly.express as px\n",
        "from sklearn.model_selection import train_test_split"
      ]
    },
    {
      "cell_type": "code",
      "source": [
        "#import the inital player data with additional information\n",
        "dsPlayers = pd.read_csv('Player Career Info.csv')\n",
        "endOfSeason = pd.read_csv('End of Season Teams.csv')\n",
        "allStarSelections = pd.read_csv('All-Star Selections.csv')\n",
        "nbaCleanData = pd.read_csv('NBA_players_clean.csv')\n",
        "awardShares = pd.read_csv('Player Award Shares.csv')"
      ],
      "metadata": {
        "id": "K7Bd9yYX9EeK"
      },
      "execution_count": 283,
      "outputs": []
    },
    {
      "cell_type": "markdown",
      "source": [
        "Okay, so we have all the information that we need, and now we can combine it all together to then make some machine learning predictions."
      ],
      "metadata": {
        "id": "bhd3A4hE8VGU"
      }
    },
    {
      "cell_type": "code",
      "source": [
        "# We are starting with dsPlayers, our data set that we will work with.\n",
        "\n",
        "#got rid of birth year as it is filled with NaN's and is irrelevant to work with.\n",
        "dsPlayers.drop(columns=['birth_year'], inplace=True)\n",
        "\n",
        "#lets restrict it to 2020 as it is unlikely these players will be in HOF in the\n",
        "#first place\n",
        "dsPlayers=dsPlayers[dsPlayers['first_seas']<2020]"
      ],
      "metadata": {
        "id": "vw0wBk2VKVCe"
      },
      "execution_count": 284,
      "outputs": []
    },
    {
      "cell_type": "markdown",
      "source": [
        "Let's also make it possible to work with the HOF data so that it is useable with 1's and 0's instead of true and false."
      ],
      "metadata": {
        "id": "MqNFWJg4LDzU"
      }
    },
    {
      "cell_type": "code",
      "source": [
        "i = 0\n",
        "\n",
        "#here we are converting all of our true and false values\n",
        "for player in dsPlayers['player']:\n",
        "  if dsPlayers.at[i, 'hof'] == True:\n",
        "    dsPlayers.at[i, 'hof'] = 1\n",
        "  elif dsPlayers.at[i, 'hof'] == False:\n",
        "    dsPlayers.at[i, 'hof'] = 0\n",
        "  else:\n",
        "    print(\"error\")\n",
        "  i += 1\n",
        "\n"
      ],
      "metadata": {
        "id": "IHnMVhnTLMew"
      },
      "execution_count": 285,
      "outputs": []
    },
    {
      "cell_type": "markdown",
      "source": [
        "Now let's add some collated data, which gives us better prediction models, but first let's check for any null values in the entire dataset, and then we will fix those."
      ],
      "metadata": {
        "id": "sXT0maqNA4_V"
      }
    },
    {
      "cell_type": "code",
      "source": [
        "dsPlayers.isnull().sum()\n"
      ],
      "metadata": {
        "colab": {
          "base_uri": "https://localhost:8080/"
        },
        "id": "_W4h5lbjBM4s",
        "outputId": "ae656b97-378a-4024-df86-cc8f66492fab"
      },
      "execution_count": 286,
      "outputs": [
        {
          "output_type": "execute_result",
          "data": {
            "text/plain": [
              "player_id      0\n",
              "player         0\n",
              "hof            0\n",
              "num_seasons    0\n",
              "first_seas     0\n",
              "last_seas      0\n",
              "dtype: int64"
            ]
          },
          "metadata": {},
          "execution_count": 286
        }
      ]
    },
    {
      "cell_type": "markdown",
      "source": [
        "Ok, as we have no null values in this case, we can move on and add some additional values which should better help predict our hall of famers. We should add individual data for all players, we will start with the essential data to do with player performance, using our NBA clean player data. However, there are some issues with the data as asterix's mean that the name's can't always be filtered properly, so we will fix that."
      ],
      "metadata": {
        "id": "skkjZ1K6BXPj"
      }
    },
    {
      "cell_type": "code",
      "source": [
        "i = 0\n",
        "#here we iterate through all of the players, if we find one with\n",
        "#an asterix at the end of the name, we know it belongs to a HOF player,\n",
        "#so we remove it, and then we add 1 to the hof column so we have a record of this\n",
        "for name in nbaCleanData['Player']:\n",
        "  if name.endswith('*'):\n",
        "    nbaCleanData.at[i, 'Player'] = name[:-1]\n",
        "\n",
        "\n",
        "  i += 1\n",
        "\n"
      ],
      "metadata": {
        "id": "RWvGEJKj8mq8"
      },
      "execution_count": 287,
      "outputs": []
    },
    {
      "cell_type": "markdown",
      "source": [
        "Ok, so now that is fixed, let's make a list of all the data that we want to add. With all of the columns of data from the other data set."
      ],
      "metadata": {
        "id": "qbAaZDRgNdoU"
      }
    },
    {
      "cell_type": "code",
      "source": [
        "columnsToAdd = ['Height','Wt','G','PTS','TRB','AST','FG%','FT%','eFG%','PER','WS']\n",
        "columnsToAdd2 = ['Championships','Finals MVP', 'Scoring Champ', 'AST Champ', 'TRB Champ']\n",
        "columnsToAdd3 = ['STL Champ','BLK Champ','AS MVP', 'CF MVP', 'NBA 75 Team', 'ABA All-Time Team']\n",
        "columnsToAdd4 = ['eFG%','PER']"
      ],
      "metadata": {
        "id": "8sYgG-nRN9NB"
      },
      "execution_count": 288,
      "outputs": []
    },
    {
      "cell_type": "markdown",
      "source": [
        "I will now work with this data to add it to the player data that we already have."
      ],
      "metadata": {
        "id": "lr-cdvjZQtV0"
      }
    },
    {
      "cell_type": "code",
      "source": [
        "#first lets collate all of the columns\n",
        "\n",
        "all_columns = [columnsToAdd,columnsToAdd2,columnsToAdd3,columnsToAdd4]\n",
        "\n",
        "#let us create a dictionary of player names to store to check against later\n",
        "#(reduces complexity in this case)\n",
        "player_data_map = {row['Player']: row for idx, row in nbaCleanData.iterrows()}"
      ],
      "metadata": {
        "id": "sfdqp7IXRN-7"
      },
      "execution_count": 289,
      "outputs": []
    },
    {
      "cell_type": "code",
      "source": [
        "#lets now create all of the new columns which we will use and collate.\n",
        "\n",
        "for columns in all_columns:\n",
        "  for columns in columns:\n",
        "    dsPlayers[columns] = 0\n",
        "\n",
        "dsPlayers"
      ],
      "metadata": {
        "colab": {
          "base_uri": "https://localhost:8080/",
          "height": 510
        },
        "id": "oxHolGB6UC_R",
        "outputId": "39316354-43e6-4eab-a92d-f800dc04ee2a"
      },
      "execution_count": 290,
      "outputs": [
        {
          "output_type": "execute_result",
          "data": {
            "text/plain": [
              "      player_id              player hof  num_seasons  first_seas  last_seas  \\\n",
              "0             1        Al Brightman   0            1        1947       1947   \n",
              "1             2           Al Lujack   0            1        1947       1947   \n",
              "2             3         Al Negratti   0            1        1947       1947   \n",
              "3             4         Angelo Musi   0            3        1947       1949   \n",
              "4             5       Ariel Maughan   0            5        1947       1951   \n",
              "...         ...                 ...  ..          ...         ...        ...   \n",
              "4681       4682  Wendell Carter Jr.   0            6        2019       2024   \n",
              "4682       4683         Yante Maten   0            1        2019       2019   \n",
              "4683       4684       Yuta Watanabe   0            6        2019       2024   \n",
              "4684       4685         Zach Lofton   0            1        2019       2019   \n",
              "4685       4686        Zhaire Smith   0            2        2019       2020   \n",
              "\n",
              "      Height  Wt  G  PTS  ...  Finals MVP  Scoring Champ  AST Champ  \\\n",
              "0          0   0  0    0  ...           0              0          0   \n",
              "1          0   0  0    0  ...           0              0          0   \n",
              "2          0   0  0    0  ...           0              0          0   \n",
              "3          0   0  0    0  ...           0              0          0   \n",
              "4          0   0  0    0  ...           0              0          0   \n",
              "...      ...  .. ..  ...  ...         ...            ...        ...   \n",
              "4681       0   0  0    0  ...           0              0          0   \n",
              "4682       0   0  0    0  ...           0              0          0   \n",
              "4683       0   0  0    0  ...           0              0          0   \n",
              "4684       0   0  0    0  ...           0              0          0   \n",
              "4685       0   0  0    0  ...           0              0          0   \n",
              "\n",
              "      TRB Champ  STL Champ  BLK Champ  AS MVP  CF MVP  NBA 75 Team  \\\n",
              "0             0          0          0       0       0            0   \n",
              "1             0          0          0       0       0            0   \n",
              "2             0          0          0       0       0            0   \n",
              "3             0          0          0       0       0            0   \n",
              "4             0          0          0       0       0            0   \n",
              "...         ...        ...        ...     ...     ...          ...   \n",
              "4681          0          0          0       0       0            0   \n",
              "4682          0          0          0       0       0            0   \n",
              "4683          0          0          0       0       0            0   \n",
              "4684          0          0          0       0       0            0   \n",
              "4685          0          0          0       0       0            0   \n",
              "\n",
              "      ABA All-Time Team  \n",
              "0                     0  \n",
              "1                     0  \n",
              "2                     0  \n",
              "3                     0  \n",
              "4                     0  \n",
              "...                 ...  \n",
              "4681                  0  \n",
              "4682                  0  \n",
              "4683                  0  \n",
              "4684                  0  \n",
              "4685                  0  \n",
              "\n",
              "[4686 rows x 28 columns]"
            ],
            "text/html": [
              "\n",
              "  <div id=\"df-dfa144ee-79cd-4d76-98a1-5002c36b4b87\" class=\"colab-df-container\">\n",
              "    <div>\n",
              "<style scoped>\n",
              "    .dataframe tbody tr th:only-of-type {\n",
              "        vertical-align: middle;\n",
              "    }\n",
              "\n",
              "    .dataframe tbody tr th {\n",
              "        vertical-align: top;\n",
              "    }\n",
              "\n",
              "    .dataframe thead th {\n",
              "        text-align: right;\n",
              "    }\n",
              "</style>\n",
              "<table border=\"1\" class=\"dataframe\">\n",
              "  <thead>\n",
              "    <tr style=\"text-align: right;\">\n",
              "      <th></th>\n",
              "      <th>player_id</th>\n",
              "      <th>player</th>\n",
              "      <th>hof</th>\n",
              "      <th>num_seasons</th>\n",
              "      <th>first_seas</th>\n",
              "      <th>last_seas</th>\n",
              "      <th>Height</th>\n",
              "      <th>Wt</th>\n",
              "      <th>G</th>\n",
              "      <th>PTS</th>\n",
              "      <th>...</th>\n",
              "      <th>Finals MVP</th>\n",
              "      <th>Scoring Champ</th>\n",
              "      <th>AST Champ</th>\n",
              "      <th>TRB Champ</th>\n",
              "      <th>STL Champ</th>\n",
              "      <th>BLK Champ</th>\n",
              "      <th>AS MVP</th>\n",
              "      <th>CF MVP</th>\n",
              "      <th>NBA 75 Team</th>\n",
              "      <th>ABA All-Time Team</th>\n",
              "    </tr>\n",
              "  </thead>\n",
              "  <tbody>\n",
              "    <tr>\n",
              "      <th>0</th>\n",
              "      <td>1</td>\n",
              "      <td>Al Brightman</td>\n",
              "      <td>0</td>\n",
              "      <td>1</td>\n",
              "      <td>1947</td>\n",
              "      <td>1947</td>\n",
              "      <td>0</td>\n",
              "      <td>0</td>\n",
              "      <td>0</td>\n",
              "      <td>0</td>\n",
              "      <td>...</td>\n",
              "      <td>0</td>\n",
              "      <td>0</td>\n",
              "      <td>0</td>\n",
              "      <td>0</td>\n",
              "      <td>0</td>\n",
              "      <td>0</td>\n",
              "      <td>0</td>\n",
              "      <td>0</td>\n",
              "      <td>0</td>\n",
              "      <td>0</td>\n",
              "    </tr>\n",
              "    <tr>\n",
              "      <th>1</th>\n",
              "      <td>2</td>\n",
              "      <td>Al Lujack</td>\n",
              "      <td>0</td>\n",
              "      <td>1</td>\n",
              "      <td>1947</td>\n",
              "      <td>1947</td>\n",
              "      <td>0</td>\n",
              "      <td>0</td>\n",
              "      <td>0</td>\n",
              "      <td>0</td>\n",
              "      <td>...</td>\n",
              "      <td>0</td>\n",
              "      <td>0</td>\n",
              "      <td>0</td>\n",
              "      <td>0</td>\n",
              "      <td>0</td>\n",
              "      <td>0</td>\n",
              "      <td>0</td>\n",
              "      <td>0</td>\n",
              "      <td>0</td>\n",
              "      <td>0</td>\n",
              "    </tr>\n",
              "    <tr>\n",
              "      <th>2</th>\n",
              "      <td>3</td>\n",
              "      <td>Al Negratti</td>\n",
              "      <td>0</td>\n",
              "      <td>1</td>\n",
              "      <td>1947</td>\n",
              "      <td>1947</td>\n",
              "      <td>0</td>\n",
              "      <td>0</td>\n",
              "      <td>0</td>\n",
              "      <td>0</td>\n",
              "      <td>...</td>\n",
              "      <td>0</td>\n",
              "      <td>0</td>\n",
              "      <td>0</td>\n",
              "      <td>0</td>\n",
              "      <td>0</td>\n",
              "      <td>0</td>\n",
              "      <td>0</td>\n",
              "      <td>0</td>\n",
              "      <td>0</td>\n",
              "      <td>0</td>\n",
              "    </tr>\n",
              "    <tr>\n",
              "      <th>3</th>\n",
              "      <td>4</td>\n",
              "      <td>Angelo Musi</td>\n",
              "      <td>0</td>\n",
              "      <td>3</td>\n",
              "      <td>1947</td>\n",
              "      <td>1949</td>\n",
              "      <td>0</td>\n",
              "      <td>0</td>\n",
              "      <td>0</td>\n",
              "      <td>0</td>\n",
              "      <td>...</td>\n",
              "      <td>0</td>\n",
              "      <td>0</td>\n",
              "      <td>0</td>\n",
              "      <td>0</td>\n",
              "      <td>0</td>\n",
              "      <td>0</td>\n",
              "      <td>0</td>\n",
              "      <td>0</td>\n",
              "      <td>0</td>\n",
              "      <td>0</td>\n",
              "    </tr>\n",
              "    <tr>\n",
              "      <th>4</th>\n",
              "      <td>5</td>\n",
              "      <td>Ariel Maughan</td>\n",
              "      <td>0</td>\n",
              "      <td>5</td>\n",
              "      <td>1947</td>\n",
              "      <td>1951</td>\n",
              "      <td>0</td>\n",
              "      <td>0</td>\n",
              "      <td>0</td>\n",
              "      <td>0</td>\n",
              "      <td>...</td>\n",
              "      <td>0</td>\n",
              "      <td>0</td>\n",
              "      <td>0</td>\n",
              "      <td>0</td>\n",
              "      <td>0</td>\n",
              "      <td>0</td>\n",
              "      <td>0</td>\n",
              "      <td>0</td>\n",
              "      <td>0</td>\n",
              "      <td>0</td>\n",
              "    </tr>\n",
              "    <tr>\n",
              "      <th>...</th>\n",
              "      <td>...</td>\n",
              "      <td>...</td>\n",
              "      <td>...</td>\n",
              "      <td>...</td>\n",
              "      <td>...</td>\n",
              "      <td>...</td>\n",
              "      <td>...</td>\n",
              "      <td>...</td>\n",
              "      <td>...</td>\n",
              "      <td>...</td>\n",
              "      <td>...</td>\n",
              "      <td>...</td>\n",
              "      <td>...</td>\n",
              "      <td>...</td>\n",
              "      <td>...</td>\n",
              "      <td>...</td>\n",
              "      <td>...</td>\n",
              "      <td>...</td>\n",
              "      <td>...</td>\n",
              "      <td>...</td>\n",
              "      <td>...</td>\n",
              "    </tr>\n",
              "    <tr>\n",
              "      <th>4681</th>\n",
              "      <td>4682</td>\n",
              "      <td>Wendell Carter Jr.</td>\n",
              "      <td>0</td>\n",
              "      <td>6</td>\n",
              "      <td>2019</td>\n",
              "      <td>2024</td>\n",
              "      <td>0</td>\n",
              "      <td>0</td>\n",
              "      <td>0</td>\n",
              "      <td>0</td>\n",
              "      <td>...</td>\n",
              "      <td>0</td>\n",
              "      <td>0</td>\n",
              "      <td>0</td>\n",
              "      <td>0</td>\n",
              "      <td>0</td>\n",
              "      <td>0</td>\n",
              "      <td>0</td>\n",
              "      <td>0</td>\n",
              "      <td>0</td>\n",
              "      <td>0</td>\n",
              "    </tr>\n",
              "    <tr>\n",
              "      <th>4682</th>\n",
              "      <td>4683</td>\n",
              "      <td>Yante Maten</td>\n",
              "      <td>0</td>\n",
              "      <td>1</td>\n",
              "      <td>2019</td>\n",
              "      <td>2019</td>\n",
              "      <td>0</td>\n",
              "      <td>0</td>\n",
              "      <td>0</td>\n",
              "      <td>0</td>\n",
              "      <td>...</td>\n",
              "      <td>0</td>\n",
              "      <td>0</td>\n",
              "      <td>0</td>\n",
              "      <td>0</td>\n",
              "      <td>0</td>\n",
              "      <td>0</td>\n",
              "      <td>0</td>\n",
              "      <td>0</td>\n",
              "      <td>0</td>\n",
              "      <td>0</td>\n",
              "    </tr>\n",
              "    <tr>\n",
              "      <th>4683</th>\n",
              "      <td>4684</td>\n",
              "      <td>Yuta Watanabe</td>\n",
              "      <td>0</td>\n",
              "      <td>6</td>\n",
              "      <td>2019</td>\n",
              "      <td>2024</td>\n",
              "      <td>0</td>\n",
              "      <td>0</td>\n",
              "      <td>0</td>\n",
              "      <td>0</td>\n",
              "      <td>...</td>\n",
              "      <td>0</td>\n",
              "      <td>0</td>\n",
              "      <td>0</td>\n",
              "      <td>0</td>\n",
              "      <td>0</td>\n",
              "      <td>0</td>\n",
              "      <td>0</td>\n",
              "      <td>0</td>\n",
              "      <td>0</td>\n",
              "      <td>0</td>\n",
              "    </tr>\n",
              "    <tr>\n",
              "      <th>4684</th>\n",
              "      <td>4685</td>\n",
              "      <td>Zach Lofton</td>\n",
              "      <td>0</td>\n",
              "      <td>1</td>\n",
              "      <td>2019</td>\n",
              "      <td>2019</td>\n",
              "      <td>0</td>\n",
              "      <td>0</td>\n",
              "      <td>0</td>\n",
              "      <td>0</td>\n",
              "      <td>...</td>\n",
              "      <td>0</td>\n",
              "      <td>0</td>\n",
              "      <td>0</td>\n",
              "      <td>0</td>\n",
              "      <td>0</td>\n",
              "      <td>0</td>\n",
              "      <td>0</td>\n",
              "      <td>0</td>\n",
              "      <td>0</td>\n",
              "      <td>0</td>\n",
              "    </tr>\n",
              "    <tr>\n",
              "      <th>4685</th>\n",
              "      <td>4686</td>\n",
              "      <td>Zhaire Smith</td>\n",
              "      <td>0</td>\n",
              "      <td>2</td>\n",
              "      <td>2019</td>\n",
              "      <td>2020</td>\n",
              "      <td>0</td>\n",
              "      <td>0</td>\n",
              "      <td>0</td>\n",
              "      <td>0</td>\n",
              "      <td>...</td>\n",
              "      <td>0</td>\n",
              "      <td>0</td>\n",
              "      <td>0</td>\n",
              "      <td>0</td>\n",
              "      <td>0</td>\n",
              "      <td>0</td>\n",
              "      <td>0</td>\n",
              "      <td>0</td>\n",
              "      <td>0</td>\n",
              "      <td>0</td>\n",
              "    </tr>\n",
              "  </tbody>\n",
              "</table>\n",
              "<p>4686 rows × 28 columns</p>\n",
              "</div>\n",
              "    <div class=\"colab-df-buttons\">\n",
              "\n",
              "  <div class=\"colab-df-container\">\n",
              "    <button class=\"colab-df-convert\" onclick=\"convertToInteractive('df-dfa144ee-79cd-4d76-98a1-5002c36b4b87')\"\n",
              "            title=\"Convert this dataframe to an interactive table.\"\n",
              "            style=\"display:none;\">\n",
              "\n",
              "  <svg xmlns=\"http://www.w3.org/2000/svg\" height=\"24px\" viewBox=\"0 -960 960 960\">\n",
              "    <path d=\"M120-120v-720h720v720H120Zm60-500h600v-160H180v160Zm220 220h160v-160H400v160Zm0 220h160v-160H400v160ZM180-400h160v-160H180v160Zm440 0h160v-160H620v160ZM180-180h160v-160H180v160Zm440 0h160v-160H620v160Z\"/>\n",
              "  </svg>\n",
              "    </button>\n",
              "\n",
              "  <style>\n",
              "    .colab-df-container {\n",
              "      display:flex;\n",
              "      gap: 12px;\n",
              "    }\n",
              "\n",
              "    .colab-df-convert {\n",
              "      background-color: #E8F0FE;\n",
              "      border: none;\n",
              "      border-radius: 50%;\n",
              "      cursor: pointer;\n",
              "      display: none;\n",
              "      fill: #1967D2;\n",
              "      height: 32px;\n",
              "      padding: 0 0 0 0;\n",
              "      width: 32px;\n",
              "    }\n",
              "\n",
              "    .colab-df-convert:hover {\n",
              "      background-color: #E2EBFA;\n",
              "      box-shadow: 0px 1px 2px rgba(60, 64, 67, 0.3), 0px 1px 3px 1px rgba(60, 64, 67, 0.15);\n",
              "      fill: #174EA6;\n",
              "    }\n",
              "\n",
              "    .colab-df-buttons div {\n",
              "      margin-bottom: 4px;\n",
              "    }\n",
              "\n",
              "    [theme=dark] .colab-df-convert {\n",
              "      background-color: #3B4455;\n",
              "      fill: #D2E3FC;\n",
              "    }\n",
              "\n",
              "    [theme=dark] .colab-df-convert:hover {\n",
              "      background-color: #434B5C;\n",
              "      box-shadow: 0px 1px 3px 1px rgba(0, 0, 0, 0.15);\n",
              "      filter: drop-shadow(0px 1px 2px rgba(0, 0, 0, 0.3));\n",
              "      fill: #FFFFFF;\n",
              "    }\n",
              "  </style>\n",
              "\n",
              "    <script>\n",
              "      const buttonEl =\n",
              "        document.querySelector('#df-dfa144ee-79cd-4d76-98a1-5002c36b4b87 button.colab-df-convert');\n",
              "      buttonEl.style.display =\n",
              "        google.colab.kernel.accessAllowed ? 'block' : 'none';\n",
              "\n",
              "      async function convertToInteractive(key) {\n",
              "        const element = document.querySelector('#df-dfa144ee-79cd-4d76-98a1-5002c36b4b87');\n",
              "        const dataTable =\n",
              "          await google.colab.kernel.invokeFunction('convertToInteractive',\n",
              "                                                    [key], {});\n",
              "        if (!dataTable) return;\n",
              "\n",
              "        const docLinkHtml = 'Like what you see? Visit the ' +\n",
              "          '<a target=\"_blank\" href=https://colab.research.google.com/notebooks/data_table.ipynb>data table notebook</a>'\n",
              "          + ' to learn more about interactive tables.';\n",
              "        element.innerHTML = '';\n",
              "        dataTable['output_type'] = 'display_data';\n",
              "        await google.colab.output.renderOutput(dataTable, element);\n",
              "        const docLink = document.createElement('div');\n",
              "        docLink.innerHTML = docLinkHtml;\n",
              "        element.appendChild(docLink);\n",
              "      }\n",
              "    </script>\n",
              "  </div>\n",
              "\n",
              "\n",
              "<div id=\"df-276276f2-0428-4752-aaaa-c5304f871f36\">\n",
              "  <button class=\"colab-df-quickchart\" onclick=\"quickchart('df-276276f2-0428-4752-aaaa-c5304f871f36')\"\n",
              "            title=\"Suggest charts\"\n",
              "            style=\"display:none;\">\n",
              "\n",
              "<svg xmlns=\"http://www.w3.org/2000/svg\" height=\"24px\"viewBox=\"0 0 24 24\"\n",
              "     width=\"24px\">\n",
              "    <g>\n",
              "        <path d=\"M19 3H5c-1.1 0-2 .9-2 2v14c0 1.1.9 2 2 2h14c1.1 0 2-.9 2-2V5c0-1.1-.9-2-2-2zM9 17H7v-7h2v7zm4 0h-2V7h2v10zm4 0h-2v-4h2v4z\"/>\n",
              "    </g>\n",
              "</svg>\n",
              "  </button>\n",
              "\n",
              "<style>\n",
              "  .colab-df-quickchart {\n",
              "      --bg-color: #E8F0FE;\n",
              "      --fill-color: #1967D2;\n",
              "      --hover-bg-color: #E2EBFA;\n",
              "      --hover-fill-color: #174EA6;\n",
              "      --disabled-fill-color: #AAA;\n",
              "      --disabled-bg-color: #DDD;\n",
              "  }\n",
              "\n",
              "  [theme=dark] .colab-df-quickchart {\n",
              "      --bg-color: #3B4455;\n",
              "      --fill-color: #D2E3FC;\n",
              "      --hover-bg-color: #434B5C;\n",
              "      --hover-fill-color: #FFFFFF;\n",
              "      --disabled-bg-color: #3B4455;\n",
              "      --disabled-fill-color: #666;\n",
              "  }\n",
              "\n",
              "  .colab-df-quickchart {\n",
              "    background-color: var(--bg-color);\n",
              "    border: none;\n",
              "    border-radius: 50%;\n",
              "    cursor: pointer;\n",
              "    display: none;\n",
              "    fill: var(--fill-color);\n",
              "    height: 32px;\n",
              "    padding: 0;\n",
              "    width: 32px;\n",
              "  }\n",
              "\n",
              "  .colab-df-quickchart:hover {\n",
              "    background-color: var(--hover-bg-color);\n",
              "    box-shadow: 0 1px 2px rgba(60, 64, 67, 0.3), 0 1px 3px 1px rgba(60, 64, 67, 0.15);\n",
              "    fill: var(--button-hover-fill-color);\n",
              "  }\n",
              "\n",
              "  .colab-df-quickchart-complete:disabled,\n",
              "  .colab-df-quickchart-complete:disabled:hover {\n",
              "    background-color: var(--disabled-bg-color);\n",
              "    fill: var(--disabled-fill-color);\n",
              "    box-shadow: none;\n",
              "  }\n",
              "\n",
              "  .colab-df-spinner {\n",
              "    border: 2px solid var(--fill-color);\n",
              "    border-color: transparent;\n",
              "    border-bottom-color: var(--fill-color);\n",
              "    animation:\n",
              "      spin 1s steps(1) infinite;\n",
              "  }\n",
              "\n",
              "  @keyframes spin {\n",
              "    0% {\n",
              "      border-color: transparent;\n",
              "      border-bottom-color: var(--fill-color);\n",
              "      border-left-color: var(--fill-color);\n",
              "    }\n",
              "    20% {\n",
              "      border-color: transparent;\n",
              "      border-left-color: var(--fill-color);\n",
              "      border-top-color: var(--fill-color);\n",
              "    }\n",
              "    30% {\n",
              "      border-color: transparent;\n",
              "      border-left-color: var(--fill-color);\n",
              "      border-top-color: var(--fill-color);\n",
              "      border-right-color: var(--fill-color);\n",
              "    }\n",
              "    40% {\n",
              "      border-color: transparent;\n",
              "      border-right-color: var(--fill-color);\n",
              "      border-top-color: var(--fill-color);\n",
              "    }\n",
              "    60% {\n",
              "      border-color: transparent;\n",
              "      border-right-color: var(--fill-color);\n",
              "    }\n",
              "    80% {\n",
              "      border-color: transparent;\n",
              "      border-right-color: var(--fill-color);\n",
              "      border-bottom-color: var(--fill-color);\n",
              "    }\n",
              "    90% {\n",
              "      border-color: transparent;\n",
              "      border-bottom-color: var(--fill-color);\n",
              "    }\n",
              "  }\n",
              "</style>\n",
              "\n",
              "  <script>\n",
              "    async function quickchart(key) {\n",
              "      const quickchartButtonEl =\n",
              "        document.querySelector('#' + key + ' button');\n",
              "      quickchartButtonEl.disabled = true;  // To prevent multiple clicks.\n",
              "      quickchartButtonEl.classList.add('colab-df-spinner');\n",
              "      try {\n",
              "        const charts = await google.colab.kernel.invokeFunction(\n",
              "            'suggestCharts', [key], {});\n",
              "      } catch (error) {\n",
              "        console.error('Error during call to suggestCharts:', error);\n",
              "      }\n",
              "      quickchartButtonEl.classList.remove('colab-df-spinner');\n",
              "      quickchartButtonEl.classList.add('colab-df-quickchart-complete');\n",
              "    }\n",
              "    (() => {\n",
              "      let quickchartButtonEl =\n",
              "        document.querySelector('#df-276276f2-0428-4752-aaaa-c5304f871f36 button');\n",
              "      quickchartButtonEl.style.display =\n",
              "        google.colab.kernel.accessAllowed ? 'block' : 'none';\n",
              "    })();\n",
              "  </script>\n",
              "</div>\n",
              "    </div>\n",
              "  </div>\n"
            ],
            "application/vnd.google.colaboratory.intrinsic+json": {
              "type": "dataframe",
              "variable_name": "dsPlayers"
            }
          },
          "metadata": {},
          "execution_count": 290
        }
      ]
    },
    {
      "cell_type": "markdown",
      "source": [
        "Now let's go about adding all of our data here so we can later analysis it."
      ],
      "metadata": {
        "id": "rMGIqdJGVIgO"
      }
    },
    {
      "cell_type": "code",
      "source": [
        "#iterate over all the rows to get data\n",
        "i = 0\n",
        "for player_name in dsPlayers['player']:\n",
        "    if player_name in player_data_map:\n",
        "        for column in all_columns:\n",
        "          for columns in column:\n",
        "            #for all columns lets collate the data together\n",
        "            dsPlayers.at[i, columns] = player_data_map[player_name][columns]\n",
        "\n",
        "    i += 1\n"
      ],
      "metadata": {
        "id": "8kjqxfq0VHd-"
      },
      "execution_count": 291,
      "outputs": []
    },
    {
      "cell_type": "code",
      "source": [
        "#some NaN Values snuck in so lets drop these\n",
        "dsPlayers.dropna(inplace=True)\n",
        "dsPlayers\n"
      ],
      "metadata": {
        "colab": {
          "base_uri": "https://localhost:8080/",
          "height": 597
        },
        "id": "tbQgAvWBZulh",
        "outputId": "9a2188f2-3bd7-48e7-a138-b026f752fa47"
      },
      "execution_count": 292,
      "outputs": [
        {
          "output_type": "execute_result",
          "data": {
            "text/plain": [
              "      player_id              player hof  num_seasons  first_seas  last_seas  \\\n",
              "0             1        Al Brightman   0            1        1947       1947   \n",
              "1             2           Al Lujack   0            1        1947       1947   \n",
              "2             3         Al Negratti   0            1        1947       1947   \n",
              "3             4         Angelo Musi   0            3        1947       1949   \n",
              "4             5       Ariel Maughan   0            5        1947       1951   \n",
              "...         ...                 ...  ..          ...         ...        ...   \n",
              "4681       4682  Wendell Carter Jr.   0            6        2019       2024   \n",
              "4682       4683         Yante Maten   0            1        2019       2019   \n",
              "4683       4684       Yuta Watanabe   0            6        2019       2024   \n",
              "4684       4685         Zach Lofton   0            1        2019       2019   \n",
              "4685       4686        Zhaire Smith   0            2        2019       2020   \n",
              "\n",
              "        Height     Wt    G   PTS  ...  Finals MVP  Scoring Champ  AST Champ  \\\n",
              "0     6.166667  195.0   58   9.8  ...           0              0          0   \n",
              "1     6.250000  220.0    5   0.8  ...           0              0          0   \n",
              "2     6.250000  200.0   11   2.8  ...           0              0          0   \n",
              "3     5.750000  145.0  161   8.4  ...           0              0          0   \n",
              "4     6.333333  190.0  259   7.9  ...           0              0          0   \n",
              "...        ...    ...  ...   ...  ...         ...            ...        ...   \n",
              "4681  6.833333  270.0  203  12.2  ...           0              0          0   \n",
              "4682  6.666667  240.0    2   1.0  ...           0              0          0   \n",
              "4683  6.750000  215.0  121   3.8  ...           0              0          0   \n",
              "4684  6.333333  180.0    1   0.0  ...           0              0          0   \n",
              "4685  6.250000  205.0   13   3.7  ...           0              0          0   \n",
              "\n",
              "      TRB Champ  STL Champ  BLK Champ  AS MVP  CF MVP  NBA 75 Team  \\\n",
              "0             0          0          0       0       0            0   \n",
              "1             0          0          0       0       0            0   \n",
              "2             0          0          0       0       0            0   \n",
              "3             0          0          0       0       0            0   \n",
              "4             0          0          0       0       0            0   \n",
              "...         ...        ...        ...     ...     ...          ...   \n",
              "4681          0          0          0       0       0            0   \n",
              "4682          0          0          0       0       0            0   \n",
              "4683          0          0          0       0       0            0   \n",
              "4684          0          0          0       0       0            0   \n",
              "4685          0          0          0       0       0            0   \n",
              "\n",
              "      ABA All-Time Team  \n",
              "0                     0  \n",
              "1                     0  \n",
              "2                     0  \n",
              "3                     0  \n",
              "4                     0  \n",
              "...                 ...  \n",
              "4681                  0  \n",
              "4682                  0  \n",
              "4683                  0  \n",
              "4684                  0  \n",
              "4685                  0  \n",
              "\n",
              "[4686 rows x 28 columns]"
            ],
            "text/html": [
              "\n",
              "  <div id=\"df-24aff297-c6b0-4c85-8ac7-105a3d0b7c39\" class=\"colab-df-container\">\n",
              "    <div>\n",
              "<style scoped>\n",
              "    .dataframe tbody tr th:only-of-type {\n",
              "        vertical-align: middle;\n",
              "    }\n",
              "\n",
              "    .dataframe tbody tr th {\n",
              "        vertical-align: top;\n",
              "    }\n",
              "\n",
              "    .dataframe thead th {\n",
              "        text-align: right;\n",
              "    }\n",
              "</style>\n",
              "<table border=\"1\" class=\"dataframe\">\n",
              "  <thead>\n",
              "    <tr style=\"text-align: right;\">\n",
              "      <th></th>\n",
              "      <th>player_id</th>\n",
              "      <th>player</th>\n",
              "      <th>hof</th>\n",
              "      <th>num_seasons</th>\n",
              "      <th>first_seas</th>\n",
              "      <th>last_seas</th>\n",
              "      <th>Height</th>\n",
              "      <th>Wt</th>\n",
              "      <th>G</th>\n",
              "      <th>PTS</th>\n",
              "      <th>...</th>\n",
              "      <th>Finals MVP</th>\n",
              "      <th>Scoring Champ</th>\n",
              "      <th>AST Champ</th>\n",
              "      <th>TRB Champ</th>\n",
              "      <th>STL Champ</th>\n",
              "      <th>BLK Champ</th>\n",
              "      <th>AS MVP</th>\n",
              "      <th>CF MVP</th>\n",
              "      <th>NBA 75 Team</th>\n",
              "      <th>ABA All-Time Team</th>\n",
              "    </tr>\n",
              "  </thead>\n",
              "  <tbody>\n",
              "    <tr>\n",
              "      <th>0</th>\n",
              "      <td>1</td>\n",
              "      <td>Al Brightman</td>\n",
              "      <td>0</td>\n",
              "      <td>1</td>\n",
              "      <td>1947</td>\n",
              "      <td>1947</td>\n",
              "      <td>6.166667</td>\n",
              "      <td>195.0</td>\n",
              "      <td>58</td>\n",
              "      <td>9.8</td>\n",
              "      <td>...</td>\n",
              "      <td>0</td>\n",
              "      <td>0</td>\n",
              "      <td>0</td>\n",
              "      <td>0</td>\n",
              "      <td>0</td>\n",
              "      <td>0</td>\n",
              "      <td>0</td>\n",
              "      <td>0</td>\n",
              "      <td>0</td>\n",
              "      <td>0</td>\n",
              "    </tr>\n",
              "    <tr>\n",
              "      <th>1</th>\n",
              "      <td>2</td>\n",
              "      <td>Al Lujack</td>\n",
              "      <td>0</td>\n",
              "      <td>1</td>\n",
              "      <td>1947</td>\n",
              "      <td>1947</td>\n",
              "      <td>6.250000</td>\n",
              "      <td>220.0</td>\n",
              "      <td>5</td>\n",
              "      <td>0.8</td>\n",
              "      <td>...</td>\n",
              "      <td>0</td>\n",
              "      <td>0</td>\n",
              "      <td>0</td>\n",
              "      <td>0</td>\n",
              "      <td>0</td>\n",
              "      <td>0</td>\n",
              "      <td>0</td>\n",
              "      <td>0</td>\n",
              "      <td>0</td>\n",
              "      <td>0</td>\n",
              "    </tr>\n",
              "    <tr>\n",
              "      <th>2</th>\n",
              "      <td>3</td>\n",
              "      <td>Al Negratti</td>\n",
              "      <td>0</td>\n",
              "      <td>1</td>\n",
              "      <td>1947</td>\n",
              "      <td>1947</td>\n",
              "      <td>6.250000</td>\n",
              "      <td>200.0</td>\n",
              "      <td>11</td>\n",
              "      <td>2.8</td>\n",
              "      <td>...</td>\n",
              "      <td>0</td>\n",
              "      <td>0</td>\n",
              "      <td>0</td>\n",
              "      <td>0</td>\n",
              "      <td>0</td>\n",
              "      <td>0</td>\n",
              "      <td>0</td>\n",
              "      <td>0</td>\n",
              "      <td>0</td>\n",
              "      <td>0</td>\n",
              "    </tr>\n",
              "    <tr>\n",
              "      <th>3</th>\n",
              "      <td>4</td>\n",
              "      <td>Angelo Musi</td>\n",
              "      <td>0</td>\n",
              "      <td>3</td>\n",
              "      <td>1947</td>\n",
              "      <td>1949</td>\n",
              "      <td>5.750000</td>\n",
              "      <td>145.0</td>\n",
              "      <td>161</td>\n",
              "      <td>8.4</td>\n",
              "      <td>...</td>\n",
              "      <td>0</td>\n",
              "      <td>0</td>\n",
              "      <td>0</td>\n",
              "      <td>0</td>\n",
              "      <td>0</td>\n",
              "      <td>0</td>\n",
              "      <td>0</td>\n",
              "      <td>0</td>\n",
              "      <td>0</td>\n",
              "      <td>0</td>\n",
              "    </tr>\n",
              "    <tr>\n",
              "      <th>4</th>\n",
              "      <td>5</td>\n",
              "      <td>Ariel Maughan</td>\n",
              "      <td>0</td>\n",
              "      <td>5</td>\n",
              "      <td>1947</td>\n",
              "      <td>1951</td>\n",
              "      <td>6.333333</td>\n",
              "      <td>190.0</td>\n",
              "      <td>259</td>\n",
              "      <td>7.9</td>\n",
              "      <td>...</td>\n",
              "      <td>0</td>\n",
              "      <td>0</td>\n",
              "      <td>0</td>\n",
              "      <td>0</td>\n",
              "      <td>0</td>\n",
              "      <td>0</td>\n",
              "      <td>0</td>\n",
              "      <td>0</td>\n",
              "      <td>0</td>\n",
              "      <td>0</td>\n",
              "    </tr>\n",
              "    <tr>\n",
              "      <th>...</th>\n",
              "      <td>...</td>\n",
              "      <td>...</td>\n",
              "      <td>...</td>\n",
              "      <td>...</td>\n",
              "      <td>...</td>\n",
              "      <td>...</td>\n",
              "      <td>...</td>\n",
              "      <td>...</td>\n",
              "      <td>...</td>\n",
              "      <td>...</td>\n",
              "      <td>...</td>\n",
              "      <td>...</td>\n",
              "      <td>...</td>\n",
              "      <td>...</td>\n",
              "      <td>...</td>\n",
              "      <td>...</td>\n",
              "      <td>...</td>\n",
              "      <td>...</td>\n",
              "      <td>...</td>\n",
              "      <td>...</td>\n",
              "      <td>...</td>\n",
              "    </tr>\n",
              "    <tr>\n",
              "      <th>4681</th>\n",
              "      <td>4682</td>\n",
              "      <td>Wendell Carter Jr.</td>\n",
              "      <td>0</td>\n",
              "      <td>6</td>\n",
              "      <td>2019</td>\n",
              "      <td>2024</td>\n",
              "      <td>6.833333</td>\n",
              "      <td>270.0</td>\n",
              "      <td>203</td>\n",
              "      <td>12.2</td>\n",
              "      <td>...</td>\n",
              "      <td>0</td>\n",
              "      <td>0</td>\n",
              "      <td>0</td>\n",
              "      <td>0</td>\n",
              "      <td>0</td>\n",
              "      <td>0</td>\n",
              "      <td>0</td>\n",
              "      <td>0</td>\n",
              "      <td>0</td>\n",
              "      <td>0</td>\n",
              "    </tr>\n",
              "    <tr>\n",
              "      <th>4682</th>\n",
              "      <td>4683</td>\n",
              "      <td>Yante Maten</td>\n",
              "      <td>0</td>\n",
              "      <td>1</td>\n",
              "      <td>2019</td>\n",
              "      <td>2019</td>\n",
              "      <td>6.666667</td>\n",
              "      <td>240.0</td>\n",
              "      <td>2</td>\n",
              "      <td>1.0</td>\n",
              "      <td>...</td>\n",
              "      <td>0</td>\n",
              "      <td>0</td>\n",
              "      <td>0</td>\n",
              "      <td>0</td>\n",
              "      <td>0</td>\n",
              "      <td>0</td>\n",
              "      <td>0</td>\n",
              "      <td>0</td>\n",
              "      <td>0</td>\n",
              "      <td>0</td>\n",
              "    </tr>\n",
              "    <tr>\n",
              "      <th>4683</th>\n",
              "      <td>4684</td>\n",
              "      <td>Yuta Watanabe</td>\n",
              "      <td>0</td>\n",
              "      <td>6</td>\n",
              "      <td>2019</td>\n",
              "      <td>2024</td>\n",
              "      <td>6.750000</td>\n",
              "      <td>215.0</td>\n",
              "      <td>121</td>\n",
              "      <td>3.8</td>\n",
              "      <td>...</td>\n",
              "      <td>0</td>\n",
              "      <td>0</td>\n",
              "      <td>0</td>\n",
              "      <td>0</td>\n",
              "      <td>0</td>\n",
              "      <td>0</td>\n",
              "      <td>0</td>\n",
              "      <td>0</td>\n",
              "      <td>0</td>\n",
              "      <td>0</td>\n",
              "    </tr>\n",
              "    <tr>\n",
              "      <th>4684</th>\n",
              "      <td>4685</td>\n",
              "      <td>Zach Lofton</td>\n",
              "      <td>0</td>\n",
              "      <td>1</td>\n",
              "      <td>2019</td>\n",
              "      <td>2019</td>\n",
              "      <td>6.333333</td>\n",
              "      <td>180.0</td>\n",
              "      <td>1</td>\n",
              "      <td>0.0</td>\n",
              "      <td>...</td>\n",
              "      <td>0</td>\n",
              "      <td>0</td>\n",
              "      <td>0</td>\n",
              "      <td>0</td>\n",
              "      <td>0</td>\n",
              "      <td>0</td>\n",
              "      <td>0</td>\n",
              "      <td>0</td>\n",
              "      <td>0</td>\n",
              "      <td>0</td>\n",
              "    </tr>\n",
              "    <tr>\n",
              "      <th>4685</th>\n",
              "      <td>4686</td>\n",
              "      <td>Zhaire Smith</td>\n",
              "      <td>0</td>\n",
              "      <td>2</td>\n",
              "      <td>2019</td>\n",
              "      <td>2020</td>\n",
              "      <td>6.250000</td>\n",
              "      <td>205.0</td>\n",
              "      <td>13</td>\n",
              "      <td>3.7</td>\n",
              "      <td>...</td>\n",
              "      <td>0</td>\n",
              "      <td>0</td>\n",
              "      <td>0</td>\n",
              "      <td>0</td>\n",
              "      <td>0</td>\n",
              "      <td>0</td>\n",
              "      <td>0</td>\n",
              "      <td>0</td>\n",
              "      <td>0</td>\n",
              "      <td>0</td>\n",
              "    </tr>\n",
              "  </tbody>\n",
              "</table>\n",
              "<p>4686 rows × 28 columns</p>\n",
              "</div>\n",
              "    <div class=\"colab-df-buttons\">\n",
              "\n",
              "  <div class=\"colab-df-container\">\n",
              "    <button class=\"colab-df-convert\" onclick=\"convertToInteractive('df-24aff297-c6b0-4c85-8ac7-105a3d0b7c39')\"\n",
              "            title=\"Convert this dataframe to an interactive table.\"\n",
              "            style=\"display:none;\">\n",
              "\n",
              "  <svg xmlns=\"http://www.w3.org/2000/svg\" height=\"24px\" viewBox=\"0 -960 960 960\">\n",
              "    <path d=\"M120-120v-720h720v720H120Zm60-500h600v-160H180v160Zm220 220h160v-160H400v160Zm0 220h160v-160H400v160ZM180-400h160v-160H180v160Zm440 0h160v-160H620v160ZM180-180h160v-160H180v160Zm440 0h160v-160H620v160Z\"/>\n",
              "  </svg>\n",
              "    </button>\n",
              "\n",
              "  <style>\n",
              "    .colab-df-container {\n",
              "      display:flex;\n",
              "      gap: 12px;\n",
              "    }\n",
              "\n",
              "    .colab-df-convert {\n",
              "      background-color: #E8F0FE;\n",
              "      border: none;\n",
              "      border-radius: 50%;\n",
              "      cursor: pointer;\n",
              "      display: none;\n",
              "      fill: #1967D2;\n",
              "      height: 32px;\n",
              "      padding: 0 0 0 0;\n",
              "      width: 32px;\n",
              "    }\n",
              "\n",
              "    .colab-df-convert:hover {\n",
              "      background-color: #E2EBFA;\n",
              "      box-shadow: 0px 1px 2px rgba(60, 64, 67, 0.3), 0px 1px 3px 1px rgba(60, 64, 67, 0.15);\n",
              "      fill: #174EA6;\n",
              "    }\n",
              "\n",
              "    .colab-df-buttons div {\n",
              "      margin-bottom: 4px;\n",
              "    }\n",
              "\n",
              "    [theme=dark] .colab-df-convert {\n",
              "      background-color: #3B4455;\n",
              "      fill: #D2E3FC;\n",
              "    }\n",
              "\n",
              "    [theme=dark] .colab-df-convert:hover {\n",
              "      background-color: #434B5C;\n",
              "      box-shadow: 0px 1px 3px 1px rgba(0, 0, 0, 0.15);\n",
              "      filter: drop-shadow(0px 1px 2px rgba(0, 0, 0, 0.3));\n",
              "      fill: #FFFFFF;\n",
              "    }\n",
              "  </style>\n",
              "\n",
              "    <script>\n",
              "      const buttonEl =\n",
              "        document.querySelector('#df-24aff297-c6b0-4c85-8ac7-105a3d0b7c39 button.colab-df-convert');\n",
              "      buttonEl.style.display =\n",
              "        google.colab.kernel.accessAllowed ? 'block' : 'none';\n",
              "\n",
              "      async function convertToInteractive(key) {\n",
              "        const element = document.querySelector('#df-24aff297-c6b0-4c85-8ac7-105a3d0b7c39');\n",
              "        const dataTable =\n",
              "          await google.colab.kernel.invokeFunction('convertToInteractive',\n",
              "                                                    [key], {});\n",
              "        if (!dataTable) return;\n",
              "\n",
              "        const docLinkHtml = 'Like what you see? Visit the ' +\n",
              "          '<a target=\"_blank\" href=https://colab.research.google.com/notebooks/data_table.ipynb>data table notebook</a>'\n",
              "          + ' to learn more about interactive tables.';\n",
              "        element.innerHTML = '';\n",
              "        dataTable['output_type'] = 'display_data';\n",
              "        await google.colab.output.renderOutput(dataTable, element);\n",
              "        const docLink = document.createElement('div');\n",
              "        docLink.innerHTML = docLinkHtml;\n",
              "        element.appendChild(docLink);\n",
              "      }\n",
              "    </script>\n",
              "  </div>\n",
              "\n",
              "\n",
              "<div id=\"df-65b2c186-84e3-4ead-8558-19c657522750\">\n",
              "  <button class=\"colab-df-quickchart\" onclick=\"quickchart('df-65b2c186-84e3-4ead-8558-19c657522750')\"\n",
              "            title=\"Suggest charts\"\n",
              "            style=\"display:none;\">\n",
              "\n",
              "<svg xmlns=\"http://www.w3.org/2000/svg\" height=\"24px\"viewBox=\"0 0 24 24\"\n",
              "     width=\"24px\">\n",
              "    <g>\n",
              "        <path d=\"M19 3H5c-1.1 0-2 .9-2 2v14c0 1.1.9 2 2 2h14c1.1 0 2-.9 2-2V5c0-1.1-.9-2-2-2zM9 17H7v-7h2v7zm4 0h-2V7h2v10zm4 0h-2v-4h2v4z\"/>\n",
              "    </g>\n",
              "</svg>\n",
              "  </button>\n",
              "\n",
              "<style>\n",
              "  .colab-df-quickchart {\n",
              "      --bg-color: #E8F0FE;\n",
              "      --fill-color: #1967D2;\n",
              "      --hover-bg-color: #E2EBFA;\n",
              "      --hover-fill-color: #174EA6;\n",
              "      --disabled-fill-color: #AAA;\n",
              "      --disabled-bg-color: #DDD;\n",
              "  }\n",
              "\n",
              "  [theme=dark] .colab-df-quickchart {\n",
              "      --bg-color: #3B4455;\n",
              "      --fill-color: #D2E3FC;\n",
              "      --hover-bg-color: #434B5C;\n",
              "      --hover-fill-color: #FFFFFF;\n",
              "      --disabled-bg-color: #3B4455;\n",
              "      --disabled-fill-color: #666;\n",
              "  }\n",
              "\n",
              "  .colab-df-quickchart {\n",
              "    background-color: var(--bg-color);\n",
              "    border: none;\n",
              "    border-radius: 50%;\n",
              "    cursor: pointer;\n",
              "    display: none;\n",
              "    fill: var(--fill-color);\n",
              "    height: 32px;\n",
              "    padding: 0;\n",
              "    width: 32px;\n",
              "  }\n",
              "\n",
              "  .colab-df-quickchart:hover {\n",
              "    background-color: var(--hover-bg-color);\n",
              "    box-shadow: 0 1px 2px rgba(60, 64, 67, 0.3), 0 1px 3px 1px rgba(60, 64, 67, 0.15);\n",
              "    fill: var(--button-hover-fill-color);\n",
              "  }\n",
              "\n",
              "  .colab-df-quickchart-complete:disabled,\n",
              "  .colab-df-quickchart-complete:disabled:hover {\n",
              "    background-color: var(--disabled-bg-color);\n",
              "    fill: var(--disabled-fill-color);\n",
              "    box-shadow: none;\n",
              "  }\n",
              "\n",
              "  .colab-df-spinner {\n",
              "    border: 2px solid var(--fill-color);\n",
              "    border-color: transparent;\n",
              "    border-bottom-color: var(--fill-color);\n",
              "    animation:\n",
              "      spin 1s steps(1) infinite;\n",
              "  }\n",
              "\n",
              "  @keyframes spin {\n",
              "    0% {\n",
              "      border-color: transparent;\n",
              "      border-bottom-color: var(--fill-color);\n",
              "      border-left-color: var(--fill-color);\n",
              "    }\n",
              "    20% {\n",
              "      border-color: transparent;\n",
              "      border-left-color: var(--fill-color);\n",
              "      border-top-color: var(--fill-color);\n",
              "    }\n",
              "    30% {\n",
              "      border-color: transparent;\n",
              "      border-left-color: var(--fill-color);\n",
              "      border-top-color: var(--fill-color);\n",
              "      border-right-color: var(--fill-color);\n",
              "    }\n",
              "    40% {\n",
              "      border-color: transparent;\n",
              "      border-right-color: var(--fill-color);\n",
              "      border-top-color: var(--fill-color);\n",
              "    }\n",
              "    60% {\n",
              "      border-color: transparent;\n",
              "      border-right-color: var(--fill-color);\n",
              "    }\n",
              "    80% {\n",
              "      border-color: transparent;\n",
              "      border-right-color: var(--fill-color);\n",
              "      border-bottom-color: var(--fill-color);\n",
              "    }\n",
              "    90% {\n",
              "      border-color: transparent;\n",
              "      border-bottom-color: var(--fill-color);\n",
              "    }\n",
              "  }\n",
              "</style>\n",
              "\n",
              "  <script>\n",
              "    async function quickchart(key) {\n",
              "      const quickchartButtonEl =\n",
              "        document.querySelector('#' + key + ' button');\n",
              "      quickchartButtonEl.disabled = true;  // To prevent multiple clicks.\n",
              "      quickchartButtonEl.classList.add('colab-df-spinner');\n",
              "      try {\n",
              "        const charts = await google.colab.kernel.invokeFunction(\n",
              "            'suggestCharts', [key], {});\n",
              "      } catch (error) {\n",
              "        console.error('Error during call to suggestCharts:', error);\n",
              "      }\n",
              "      quickchartButtonEl.classList.remove('colab-df-spinner');\n",
              "      quickchartButtonEl.classList.add('colab-df-quickchart-complete');\n",
              "    }\n",
              "    (() => {\n",
              "      let quickchartButtonEl =\n",
              "        document.querySelector('#df-65b2c186-84e3-4ead-8558-19c657522750 button');\n",
              "      quickchartButtonEl.style.display =\n",
              "        google.colab.kernel.accessAllowed ? 'block' : 'none';\n",
              "    })();\n",
              "  </script>\n",
              "</div>\n",
              "    </div>\n",
              "  </div>\n"
            ],
            "application/vnd.google.colaboratory.intrinsic+json": {
              "type": "dataframe",
              "variable_name": "dsPlayers"
            }
          },
          "metadata": {},
          "execution_count": 292
        }
      ]
    },
    {
      "cell_type": "markdown",
      "source": [
        "Ok, So finally let's add some last bits of data so we can then begin the analysis stage of the data with machine learning."
      ],
      "metadata": {
        "id": "Us4w56CSacYW"
      }
    },
    {
      "cell_type": "code",
      "source": [
        "#we want to learn if players have been all-nba (1st, 2nd or 3rd), all- defense(1st or 2nd),\n",
        "#all rookie (1st or 2nd), all star appearances, mvp's, dpoy, nba roy,\n",
        "#mip, smoy, aba mvp, aba roy\n",
        "\n",
        "#lets start with our end of season data set, and work from that.\n",
        "\n",
        "#creating an index for the players in our original data set\n",
        "player_name_data_map = {}\n",
        "i = 0\n",
        "for player_name in dsPlayers['player']:\n",
        "    player_name_data_map[player_name] = i\n",
        "    i+=1\n",
        "\n"
      ],
      "metadata": {
        "id": "pxtLuZp-abp4"
      },
      "execution_count": 293,
      "outputs": []
    },
    {
      "cell_type": "code",
      "source": [
        "#adding the new columns for the data.\n",
        "\n",
        "columnsv2 = ['all-nba1','all-nba2','all-nba3','all-def1','all-def2','all-rook1','all-rook2']\n",
        "\n",
        "for columns in columnsv2:\n",
        "  dsPlayers[columns] = 0\n"
      ],
      "metadata": {
        "id": "pf5qJEfheAvP"
      },
      "execution_count": 294,
      "outputs": []
    },
    {
      "cell_type": "code",
      "source": [
        "for player in endOfSeason[endOfSeason['type'] == 'All-Rookie']['player']:\n",
        "  if player in player_name_data_map:\n",
        "\n",
        "\n",
        "    player_endOfSeason = endOfSeason[endOfSeason['player'] == player]\n",
        "\n",
        "\n",
        "    if any(player_endOfSeason['number_tm'] == '1st'):\n",
        "        dsPlayers.loc[dsPlayers['player'] == player, 'all-rook1'] += 1\n",
        "\n",
        "    if any(player_endOfSeason['number_tm'] == '2nd'):\n",
        "        dsPlayers.loc[dsPlayers['player'] == player, 'all-rook2'] += 1\n",
        "\n",
        ""
      ],
      "metadata": {
        "id": "_aYOm0d2jJ4q"
      },
      "execution_count": 295,
      "outputs": []
    },
    {
      "cell_type": "markdown",
      "source": [
        "So above we have added the player data for rookies players, and we can continue this for the rest of the categories."
      ],
      "metadata": {
        "id": "iaaPWlWelhBH"
      }
    },
    {
      "cell_type": "code",
      "source": [
        "#add the all defense players\n",
        "\n",
        "for player in endOfSeason[endOfSeason['type'] == 'All-Defense']['player']:\n",
        "  if player in player_name_data_map:\n",
        "\n",
        "\n",
        "    player_endOfSeason = endOfSeason[endOfSeason['player'] == player]\n",
        "\n",
        "\n",
        "    if any(player_endOfSeason['number_tm'] == '1st'):\n",
        "        dsPlayers.loc[dsPlayers['player'] == player, 'all-def1'] += 1\n",
        "\n",
        "    if any(player_endOfSeason['number_tm'] == '2nd'):\n",
        "        dsPlayers.loc[dsPlayers['player'] == player, 'all-def2'] += 1\n"
      ],
      "metadata": {
        "id": "Hv2zVtwhl1Iq"
      },
      "execution_count": 296,
      "outputs": []
    },
    {
      "cell_type": "code",
      "source": [
        "#add the all all-nba players\n",
        "\n",
        "for player in endOfSeason[endOfSeason['type'] == 'All-NBA']['player']:\n",
        "  if player in player_name_data_map:\n",
        "\n",
        "\n",
        "    player_endOfSeason = endOfSeason[endOfSeason['player'] == player]\n",
        "\n",
        "\n",
        "    if any(player_endOfSeason['number_tm'] == '1st'):\n",
        "        dsPlayers.loc[dsPlayers['player'] == player, 'all-nba1'] += 1\n",
        "\n",
        "    if any(player_endOfSeason['number_tm'] == '2nd'):\n",
        "        dsPlayers.loc[dsPlayers['player'] == player, 'all-nba2'] += 1\n",
        "\n",
        "    if any(player_endOfSeason['number_tm'] == '3rd'):\n",
        "        dsPlayers.loc[dsPlayers['player'] == player, 'all-nba3']+= 1\n",
        "\n"
      ],
      "metadata": {
        "id": "q9K7aRtll_eB"
      },
      "execution_count": 297,
      "outputs": []
    },
    {
      "cell_type": "markdown",
      "source": [
        "Ok, so now we have added this data, let us add the final data of the award winners throughout the NBA season."
      ],
      "metadata": {
        "id": "n9Yw4X-1mZz2"
      }
    },
    {
      "cell_type": "code",
      "source": [
        "#adding the new columns for the data for the awards section.\n",
        "\n",
        "columnsv3 = ['dpoy','mip','nba-mvp','nba-roy','smoy']\n",
        "\n",
        "for columns in columnsv3:\n",
        "  dsPlayers[columns] = 0\n"
      ],
      "metadata": {
        "id": "e54mF49emUkp"
      },
      "execution_count": 298,
      "outputs": []
    },
    {
      "cell_type": "code",
      "source": [
        "#add dpoy\n",
        "\n",
        "for player in awardShares[awardShares['award'] == 'dpoy']['player']:\n",
        "  if player in player_name_data_map:\n",
        "\n",
        "    player_award =  awardShares[awardShares['player'] == player]\n",
        "\n",
        "\n",
        "    if any(player_award['winner'] == True):\n",
        "        dsPlayers.loc[dsPlayers['player'] == player, 'dpoy'] += 1\n"
      ],
      "metadata": {
        "id": "qF_A-Ft6ntrr"
      },
      "execution_count": 299,
      "outputs": []
    },
    {
      "cell_type": "code",
      "source": [
        "#add mip\n",
        "\n",
        "for player in awardShares[awardShares['award'] == 'mip']['player']:\n",
        "  if player in player_name_data_map:\n",
        "\n",
        "    player_award =  awardShares[awardShares['player'] == player]\n",
        "\n",
        "\n",
        "    if any(player_award['winner'] == True):\n",
        "        dsPlayers.loc[dsPlayers['player'] == player, 'mip'] += 1"
      ],
      "metadata": {
        "id": "1MSFa2T9pI4h"
      },
      "execution_count": 300,
      "outputs": []
    },
    {
      "cell_type": "code",
      "source": [
        "#add nba mvp\n",
        "\n",
        "for player in awardShares[awardShares['award'] == 'nba mvp']['player']:\n",
        "  if player in player_name_data_map:\n",
        "\n",
        "    player_award =  awardShares[awardShares['player'] == player]\n",
        "\n",
        "\n",
        "    if any(player_award['winner'] == True):\n",
        "        dsPlayers.loc[dsPlayers['player'] == player, 'nba-mvp'] += 1\n",
        "\n"
      ],
      "metadata": {
        "id": "QQ12m3xhpSdx"
      },
      "execution_count": 301,
      "outputs": []
    },
    {
      "cell_type": "code",
      "source": [
        "#add nba roy\n",
        "\n",
        "for player in awardShares[awardShares['award'] == 'nba roy']['player']:\n",
        "  if player in player_name_data_map:\n",
        "\n",
        "    player_award =  awardShares[awardShares['player'] == player]\n",
        "\n",
        "\n",
        "    if any(player_award['winner'] == True):\n",
        "        dsPlayers.loc[dsPlayers['player'] == player, 'nba-roy'] += 1\n",
        "\n"
      ],
      "metadata": {
        "id": "_TZIPchXqBlw"
      },
      "execution_count": 302,
      "outputs": []
    },
    {
      "cell_type": "code",
      "source": [
        "#add nba smoy\n",
        "\n",
        "for player in awardShares[awardShares['award'] == 'smoy']['player']:\n",
        "  if player in player_name_data_map:\n",
        "\n",
        "    player_award =  awardShares[awardShares['player'] == player]\n",
        "\n",
        "\n",
        "    if any(player_award['winner'] == True):\n",
        "        dsPlayers.loc[dsPlayers['player'] == player, 'smoy'] += 1\n"
      ],
      "metadata": {
        "id": "T6oFhRptqIqG"
      },
      "execution_count": 303,
      "outputs": []
    },
    {
      "cell_type": "code",
      "source": [
        "\n"
      ],
      "metadata": {
        "id": "CGaxoPQ0h23O"
      },
      "execution_count": 303,
      "outputs": []
    },
    {
      "cell_type": "markdown",
      "source": [],
      "metadata": {
        "id": "8H3nWFdzoh0l"
      }
    },
    {
      "cell_type": "markdown",
      "source": [
        "Okay, so now all our data is collated, and we are ready to run a machine learning program onto it. We will use the sklearn toolkit with its machine learning properties. However, we will first do some graphical analysis on the data we have already collected."
      ],
      "metadata": {
        "id": "7M5JB5B4qxol"
      }
    },
    {
      "cell_type": "code",
      "source": [
        "fig, ax = plt.subplots()\n",
        "sns.boxplot(x='hof',y='PTS',data=dsPlayers)\n",
        "plt.title(\"PTS vs Present in the HOF\")\n",
        "plt.show()"
      ],
      "metadata": {
        "colab": {
          "base_uri": "https://localhost:8080/",
          "height": 472
        },
        "id": "sn_pQCspsIkx",
        "outputId": "77d62111-82a1-4414-93cf-1240a5957f0d"
      },
      "execution_count": 304,
      "outputs": [
        {
          "output_type": "display_data",
          "data": {
            "text/plain": [
              "<Figure size 640x480 with 1 Axes>"
            ],
            "image/png": "[encoded data removed]"
          },
          "metadata": {}
        }
      ]
    },
    {
      "cell_type": "markdown",
      "source": [
        "Clearly, by looking at this plotting of data, we can see there is a clear relation between the number of points and a player appearing in the hall of fame. We can do a few more for aother pieces of data."
      ],
      "metadata": {
        "id": "LR6ThPBmjEFg"
      }
    },
    {
      "cell_type": "code",
      "source": [
        "fig, ax = plt.subplots()\n",
        "sns.boxplot(x='hof',y='Championships',data=dsPlayers)\n",
        "plt.title(\"Championships vs Present in the HOF\")\n",
        "plt.show()"
      ],
      "metadata": {
        "colab": {
          "base_uri": "https://localhost:8080/",
          "height": 472
        },
        "id": "V81QqRUNkjVz",
        "outputId": "69fe589b-997a-45a7-95d6-4de4b9c1dbd4"
      },
      "execution_count": 305,
      "outputs": [
        {
          "output_type": "display_data",
          "data": {
            "text/plain": [
              "<Figure size 640x480 with 1 Axes>"
            ],
            "image/png": "[encoded data removed]"
          },
          "metadata": {}
        }
      ]
    },
    {
      "cell_type": "code",
      "source": [
        "fig, ax = plt.subplots()\n",
        "sns.boxplot(x='hof',y='AST',data=dsPlayers)\n",
        "plt.title(\"Assists vs Present in the HOF\")\n",
        "plt.show()"
      ],
      "metadata": {
        "colab": {
          "base_uri": "https://localhost:8080/",
          "height": 472
        },
        "id": "051g0fOxlpEg",
        "outputId": "60d518e9-46f6-4609-e578-95cdcc216a8c"
      },
      "execution_count": 306,
      "outputs": [
        {
          "output_type": "display_data",
          "data": {
            "text/plain": [
              "<Figure size 640x480 with 1 Axes>"
            ],
            "image/png": "[encoded data removed]"
          },
          "metadata": {}
        }
      ]
    },
    {
      "cell_type": "markdown",
      "source": [
        "Interestingly, here we see that there is no relation between height and being placed in the HOF, as this does not seem to be the limiting factor for whether a player makes it, and seems to be fairly consistent with the height statistics for the league as a whole."
      ],
      "metadata": {
        "id": "Jcs0vI6dk-vd"
      }
    },
    {
      "cell_type": "code",
      "source": [
        "fig, ax = plt.subplots()\n",
        "sns.boxplot(x='hof',y='Height',data=dsPlayers)\n",
        "plt.title(\"Championships vs Present in the HOF\")\n",
        "plt.show()"
      ],
      "metadata": {
        "colab": {
          "base_uri": "https://localhost:8080/",
          "height": 472
        },
        "id": "woQC8c1pkzmi",
        "outputId": "9b26de81-efe5-444c-a4da-2017dc3cc61c"
      },
      "execution_count": 307,
      "outputs": [
        {
          "output_type": "display_data",
          "data": {
            "text/plain": [
              "<Figure size 640x480 with 1 Axes>"
            ],
            "image/png": "[encoded data removed]"
          },
          "metadata": {}
        }
      ]
    },
    {
      "cell_type": "markdown",
      "source": [
        "We can also here do an analysis in terms of a scatter plot of the total amount of games played vs the amount of points scored for the players and see how the hall of fame players compare to the rest of the league."
      ],
      "metadata": {
        "id": "hrF7C2pRmRne"
      }
    },
    {
      "cell_type": "code",
      "source": [
        "fig = px.scatter(\n",
        "    dsPlayers[dsPlayers['num_seasons'] > 4], x=\"PTS\", y=\"G\", color='hof',\n",
        "    hover_data=['player']\n",
        ")\n",
        "\n",
        "\n",
        "fig.update_layout(title='Scatter Plot of PTS vs G for Players with more than 4 seasons')\n",
        "\n",
        "\n",
        "fig.show()\n"
      ],
      "metadata": {
        "colab": {
          "base_uri": "https://localhost:8080/",
          "height": 542
        },
        "id": "uSzf1oSbmm6S",
        "outputId": "5cb8c75a-0e41-4c64-e9d3-edd9dcb83439"
      },
      "execution_count": 308,
      "outputs": [
        {
          "output_type": "display_data",
          "data": {
            "text/html": [
              "<html>\n",
              "<head><meta charset=\"utf-8\" /></head>\n",
              "<body>\n",
              "    <div>            <script src=\"https://cdnjs.cloudflare.com/ajax/libs/mathjax/2.7.5/MathJax.js?config=TeX-AMS-MML_SVG\"></script><script type=\"text/javascript\">if (window.MathJax && window.MathJax.Hub && window.MathJax.Hub.Config) {window.MathJax.Hub.Config({SVG: {font: \"STIX-Web\"}});}</script>                <script type=\"text/javascript\">window.PlotlyConfig = {MathJaxConfig: 'local'};</script>\n",
              "        <script charset=\"utf-8\" src=\"https://cdn.plot.ly/plotly-2.24.1.min.js\"></script>                <div id=\"03c6f492-0c97-4acc-a657-d920c3a2ae37\" class=\"plotly-graph-div\" style=\"height:525px; width:100%;\"></div>            <script type=\"text/javascript\">                                    window.PLOTLYENV=window.PLOTLYENV || {};                                    if (document.getElementById(\"03c6f492-0c97-4acc-a657-d920c3a2ae37\")) {                    Plotly.newPlot(                        \"03c6f492-0c97-4acc-a657-d920c3a2ae37\",                        [{\"customdata\":[[\"Ariel Maughan\"],[\"Belus Smawley\"],[\"Bones McKinney\"],[\"Chick Halbert\"],[\"Chuck Gilmur\"],[\"Connie Simmons\"],[\"Fred Scolari\"],[\"George Senesky\"],[\"Jerry Fleishman\"],[\"John Logan\"],[\"John Mahnken\"],[\"Johnny Norlander\"],[\"Kenny Sailors\"],[\"Kleggie Hermsen\"],[\"Max Zaslofsky\"],[\"Noble Jorgensen\"],[\"Sonny Hertzberg\"],[\"Stan Miasek\"],[\"Tommy Byrnes\"],[\"Gene Vance\"],[\"Paul Hoffman\"],[\"Paul Noel\"],[\"Paul Seymour\"],[\"Red Rocha\"],[\"Arnie Johnson\"],[\"Bill Calhoun\"],[\"Ed Mikan\"],[\"George Kaftan\"],[\"Jack Nichols\"],[\"Joe Graboski\"],[\"Odie Spears\"],[\"Ray Lumpp\"],[\"Bill Gabor\"],[\"Bob Brannum\"],[\"Bob Harris\"],[\"Bob Harrison\"],[\"Ernie Vandeweghe\"],[\"Frankie Brian\"],[\"Fred Schaus\"],[\"George Ratkovicz\"],[\"Jack Coleman\"],[\"Leo Barnhorst\"],[\"Paul Walther\"],[\"Pep Saul\"],[\"Vince Boryla\"],[\"Cal Christensen\"],[\"Dick Schnittker\"],[\"Larry Foust\"],[\"Chuck Share\"],[\"George King\"],[\"Lew Hitch\"],[\"Mel Hutchins\"],[\"Whitey Skoog\"],[\"Gene Conley\"],[\"Jack McMahon\"],[\"Jim Baechtold\"],[\"Monk Meineke\"],[\"Billy Kenville\"],[\"Ernie Beck\"],[\"Jack George\"],[\"Ray Felix\"],[\"Walt Davis\"],[\"Frank Selvy\"],[\"Gene Shue\"],[\"George Dempsey\"],[\"Red Kerr\"],[\"Togo Palazzi\"],[\"Al Ferrari\"],[\"Chuck Noble\"],[\"Dick Garmaker\"],[\"Ed Conlin\"],[\"Ed Fleming\"],[\"Jim Loscutoff\"],[\"Kenny Sears\"],[\"Med Park\"],[\"Walter Dukes\"],[\"Al Bianchi\"],[\"Dave Piontek\"],[\"Johnny McCarthy\"],[\"Phil Jordon\"],[\"Si Green\"],[\"Willie Naulls\"],[\"Charlie Tyra\"],[\"Hot Rod Hundley\"],[\"Jim Krebs\"],[\"Woody Sauldsberry\"],[\"Barney Cable\"],[\"Bucky Bockhorn\"],[\"Connie Dierking\"],[\"Dave Gambee\"],[\"Hub Reed\"],[\"Larry Staverman\"],[\"Mike Farmer\"],[\"Bob Ferry\"],[\"Dick Barnett\"],[\"Johnny Green\"],[\"Rudy LaRusso\"],[\"Tom Hawkins\"],[\"Bob Boozer\"],[\"Darrall Imhoff\"],[\"Dave Budd\"],[\"Don Ohl\"],[\"George Lee\"],[\"Jackie Moreland\"],[\"Willie Jones\"],[\"Adrian Smith\"],[\"Donnie Butcher\"],[\"Gary Phillips\"],[\"Johnny Egan\"],[\"Paul Neumann\"],[\"Ray Scott\"],[\"Tom Meschery\"],[\"Ben Warley\"],[\"Bill Bridges\"],[\"Bill McGill\"],[\"Bud Olsen\"],[\"Chico Vaughn\"],[\"Gene Tormohlen\"],[\"Gene Wiley\"],[\"John Barnhill\"],[\"Kevin Loughery\"],[\"Len Chappell\"],[\"Leroy Ellis\"],[\"Terry Dischinger\"],[\"Wayne Hightower\"],[\"Art Heyman\"],[\"Don Kojis\"],[\"Eddie Miles\"],[\"Jim King\"],[\"Larry Siegfried\"],[\"Tom Hoover\"],[\"Tom Thacker\"],[\"Em Bryant\"],[\"Gary Bradds\"],[\"George Wilson\"],[\"Happy Hairston\"],[\"Howard Komives\"],[\"Jeff Mullins\"],[\"Jim Barnes\"],[\"Joe Caldwell\"],[\"John Tresvant\"],[\"Larry Jones\"],[\"Les Hunter\"],[\"Luke Jackson\"],[\"McCoy McLemore\"],[\"Mel Counts\"],[\"Paul Silas\"],[\"Wali Jones\"],[\"Walt Hazzard\"],[\"Barry Clemens\"],[\"Bob Warlick\"],[\"Bob Weiss\"],[\"Dave Stallworth\"],[\"Dick Van Arsdale\"],[\"Fred Hetzel\"],[\"Jim Washington\"],[\"Jon McGlocklin\"],[\"Keith Erickson\"],[\"Tom Van Arsdale\"],[\"Archie Clark\"],[\"Bill Melchionni\"],[\"Bob Love\"],[\"Cazzie Russell\"],[\"Clyde Lee\"],[\"Dick Snyder\"],[\"Dorie Murrey\"],[\"Erwin Mueller\"],[\"Flynn Robinson\"],[\"Freddie Crawford\"],[\"Freddie Lewis\"],[\"Hank Finkel\"],[\"Jack Marin\"],[\"Jerry Chambers\"],[\"Jim Barnett\"],[\"Joe Ellis\"],[\"John Block\"],[\"Matt Guokas\"],[\"Nate Bowman\"],[\"Neil Johnson\"],[\"Toby Kimball\"],[\"Walt Wesley\"],[\"Al Tucker\"],[\"Art Williams\"],[\"Arthur Becker\"],[\"Arvesta Kelly\"],[\"Bill Turner\"],[\"Bob Netolicky\"],[\"Bob Rule\"],[\"Bob Verga\"],[\"Byron Beck\"],[\"Charlie Williams\"],[\"Cincinnatus Powell\"],[\"Clem Haskins\"],[\"Darel Carrier\"],[\"Dave Lattin\"],[\"Donnie Freeman\"],[\"Doug Moe\"],[\"Ed Manning\"],[\"George Carter\"],[\"George Lehmann\"],[\"George Peeples\"],[\"Gerald Govan\"],[\"Goose Ligon\"],[\"Ira Harge\"],[\"Jeffrey Congdon\"],[\"Jim Davis\"],[\"Jim Fox\"],[\"Jimmy Jones\"],[\"Jimmy Walker\"],[\"John Beasley\"],[\"John Wetzel\"],[\"Julian Hammond\"],[\"Lonnie Wright\"],[\"Nick Jones\"],[\"Red Robbins\"],[\"Ronald Franz\"],[\"Sonny Dove\"],[\"Stan McKenzie\"],[\"Steve Jones\"],[\"Stew Johnson\"],[\"Trooper Washington\"],[\"Walter Simon\"],[\"Warren Davis\"],[\"Bill Hewitt\"],[\"Bob Kauffman\"],[\"Bob Warren\"],[\"Craig Raymond\"],[\"Dale Schlueter\"],[\"Dick Cunningham\"],[\"Don Chaney\"],[\"Don May\"],[\"Frank Card\"],[\"Fred Foster\"],[\"Gary Gregor\"],[\"Gene Moore\"],[\"Glen Combs\"],[\"Greg Smith\"],[\"Jim Eakins\"],[\"John Trapp\"],[\"Larry Miller\"],[\"Lee Davis\"],[\"Manny Leaks\"],[\"Mervin Jackson\"],[\"Mike Lewis\"],[\"Mike Riordan\"],[\"Otto Moore\"],[\"Ron Boone\"],[\"Ron Williams\"],[\"Shaler Halimon\"],[\"Stu Lantz\"],[\"Tom Boerwinkle\"],[\"Warren Jabali\"],[\"Zaid Abdul-Aziz\"],[\"Bernie Williams\"],[\"Bill Keller\"],[\"Bingo Smith\"],[\"Bob Christian\"],[\"Butch Beard\"],[\"Dick Garrett\"],[\"Fatty Taylor\"],[\"Fred Carter\"],[\"Gene Littles\"],[\"George Thompson\"],[\"Herm Gilliam\"],[\"John Brisker\"],[\"John Warren\"],[\"Johnny Baum\"],[\"Julius Keye\"],[\"Lamar Green\"],[\"Lee Winfield\"],[\"Lucius Allen\"],[\"Luther Rackley\"],[\"Mack Calvin\"],[\"Neal Walk\"],[\"Norm Van Lier\"],[\"Rich Jones\"],[\"Rick Roberson\"],[\"Skeeter Swift\"],[\"Steve Kuberski\"],[\"Steve Mix\"],[\"Wil Jones\"],[\"Willie Wise\"],[\"Billy Paultz\"],[\"Chuck Williams\"],[\"Coby Dietrick\"],[\"Cornell Warner\"],[\"Curtis Perry\"],[\"Dennis Awtrey\"],[\"Don Adams\"],[\"Gar Heard\"],[\"Geoff Petrie\"],[\"George Irvine\"],[\"Jim Ard\"],[\"Jim McMillian\"],[\"Joe Hamilton\"],[\"John Hummer\"],[\"John Johnson\"],[\"Paul Ruffner\"],[\"Ralph Simpson\"],[\"Rick Mount\"],[\"Sam Lacey\"],[\"Terry Driscoll\"],[\"Wendell Ladner\"],[\"Al Smith\"],[\"Austin Carr\"],[\"Cliff Meely\"],[\"Clifford Ray\"],[\"Curtis Rowe\"],[\"Darnell Hillman\"],[\"Dave Robisch\"],[\"Dave Wohl\"],[\"Dean Meminger\"],[\"Dick Gibbs\"],[\"Elmore Smith\"],[\"Fred Brown\"],[\"George Trapp\"],[\"Goo Kennedy\"],[\"Howard Porter\"],[\"Jim Cleamons\"],[\"Jim McDaniels\"],[\"John Mengelt\"],[\"John Roche\"],[\"Johnny Neumann\"],[\"Larry Steele\"],[\"Marv Roberts\"],[\"Mickey Davis\"],[\"Mike Gale\"],[\"Mike Newlin\"],[\"Mo Layton\"],[\"Nate Williams\"],[\"Phil Chenier\"],[\"Randy Denton\"],[\"Randy Smith\"],[\"Sidney Wicks\"],[\"Steve Patterson\"],[\"Ted McClain\"],[\"Tom Owens\"],[\"Willie Norwood\"],[\"Bob Nash\"],[\"Brian Taylor\"],[\"Bud Stallworth\"],[\"Charles Dudley\"],[\"Charles Johnson\"],[\"Chris Ford\"],[\"Chuck Terry\"],[\"Claude Terry\"],[\"Corky Calhoun\"],[\"Dave Twardzik\"],[\"Don Buse\"],[\"Dwight Davis\"],[\"Freddie Boyd\"],[\"George Johnson\"],[\"Henry Bibby\"],[\"James Silas\"],[\"Jim Chones\"],[\"Jim Price\"],[\"John Gianelli\"],[\"Kevin Porter\"],[\"Lloyd Neal\"],[\"Mike Barr\"],[\"Ollie Johnson\"],[\"Roger Brown\"],[\"Rowland Garrett\"],[\"Allan Bristow\"],[\"Bird Averitt\"],[\"Bruce Seals\"],[\"Caldwell Jones\"],[\"Derrek Dickey\"],[\"Doug Collins\"],[\"Dwight Jones\"],[\"E.C. Coleman\"],[\"Ed Ratleff\"],[\"Ernie DiGregorio\"],[\"Jim Brewer\"],[\"John Brown\"],[\"John Williamson\"],[\"Ken Charles\"],[\"Kermit Washington\"],[\"Kevin Kunnert\"],[\"Larry Kenon\"],[\"Larry McNeill\"],[\"Louie Nelson\"],[\"Mike Bantom\"],[\"Mike Green\"],[\"Nick Weatherspoon\"],[\"Ron Behagen\"],[\"Slick Watts\"],[\"Swen Nater\"],[\"Tim Bassett\"],[\"Aaron James\"],[\"Al Skinner\"],[\"Billy Knight\"],[\"Brian Winters\"],[\"Campy Russell\"],[\"Eric Money\"],[\"Foots Walker\"],[\"Gus Bailey\"],[\"Gus Gerard\"],[\"Harvey Catchings\"],[\"Jan van Breda Kolff\"],[\"John Drew\"],[\"Kevin Restani\"],[\"Kevin Stacom\"],[\"Len Elmore\"],[\"Marvin Barnes\"],[\"Maurice Lucas\"],[\"Mickey Johnson\"],[\"Phil Smith\"],[\"Scott Wedman\"],[\"Steve Hawes\"],[\"Tom Burleson\"],[\"Tom Henderson\"],[\"Truck Robinson\"],[\"Alvan Adams\"],[\"Bill Robinzine\"],[\"Bill Willoughby\"],[\"Bob Gross\"],[\"Dan Roundfield\"],[\"Darryl Dawkins\"],[\"Don Ford\"],[\"Eric Fernsten\"],[\"Gus Williams\"],[\"Jim McElroy\"],[\"Joe Bryant\"],[\"Joe Meriweather\"],[\"John Lambert\"],[\"John Shumate\"],[\"Junior Bridgeman\"],[\"Kevin Grevey\"],[\"Kim Hughes\"],[\"Lionel Hollins\"],[\"M.L. Carr\"],[\"Mark Olberding\"],[\"Marvin Webster\"],[\"Mel Bennett\"],[\"Rich Kelley\"],[\"Ricky Sobers\"],[\"Rudy White\"],[\"Tom Boswell\"],[\"Tom McMillen\"],[\"World B. Free\"],[\"Armond Hill\"],[\"Bob Wilkerson\"],[\"John Lucas\"],[\"Johnny Davis\"],[\"Larry Wright\"],[\"Leon Douglas\"],[\"Lloyd Walton\"],[\"Lonnie Shelton\"],[\"Mike Dunleavy\"],[\"Mitch Kupchak\"],[\"Paul Griffin\"],[\"Quinn Buckner\"],[\"Richard Washington\"],[\"Ron Lee\"],[\"Scott Lloyd\"],[\"Scott May\"],[\"Sonny Parker\"],[\"Tom Abernethy\"],[\"Wally Walker\"],[\"Alvin Scott\"],[\"Anthony Roberts\"],[\"Ben Poquette\"],[\"Brad Davis\"],[\"Cedric Maxwell\"],[\"Charlie Criss\"],[\"Eddie Johnson\"],[\"Eddie Jordan\"],[\"Ernie Grunfeld\"],[\"Glen Gondrezick\"],[\"Greg Ballard\"],[\"James Edwards\"],[\"Joe Hassett\"],[\"Kenny Carr\"],[\"Kent Benson\"],[\"Mark Landsberger\"],[\"Marques Johnson\"],[\"Mike Bratz\"],[\"Mike Glenn\"],[\"Norm Nixon\"],[\"Otis Birdsong\"],[\"Ray Williams\"],[\"Rickey Green\"],[\"Robert Reid\"],[\"Robert Smith\"],[\"T.R. Dunn\"],[\"Tom LaGarde\"],[\"Tree Rollins\"],[\"Walter Davis\"],[\"Billy McKinney\"],[\"Clemon Johnson\"],[\"Dave Corzine\"],[\"Freeman Williams\"],[\"Geoff Crompton\"],[\"George Johnson\"],[\"Jeff Judkins\"],[\"Jerome Whitehead\"],[\"Joel Kramer\"],[\"John Long\"],[\"Michael Cooper\"],[\"Micheal Ray Richardson\"],[\"Mike Mitchell\"],[\"Mychal Thompson\"],[\"Phil Ford\"],[\"Purvis Short\"],[\"Reggie Theus\"],[\"Rick Robey\"],[\"Roger Phegley\"],[\"Ron Brewer\"],[\"Terry Tyler\"],[\"Wayne Cooper\"],[\"Allen Leavell\"],[\"Bill Cartwright\"],[\"Calvin Natt\"],[\"Cliff Robinson\"],[\"Clint Richardson\"],[\"Dave Greenwood\"],[\"Dudley Bradley\"],[\"Geoff Huston\"],[\"Gerald Henderson\"],[\"Greg Kelser\"],[\"James Bailey\"],[\"Jeff Cook\"],[\"Jim Paxson\"],[\"Jim Spanarkel\"],[\"Major Jones\"],[\"Mike Evans\"],[\"Pat Cummings\"],[\"Paul Mokeski\"],[\"Phil Hubbard\"],[\"Reggie King\"],[\"Sly Williams\"],[\"Vinnie Johnson\"],[\"Andrew Toney\"],[\"Bill Hanzlik\"],[\"Bill Laimbeer\"],[\"Butch Carter\"],[\"Darrell Griffith\"],[\"Darwin Cook\"],[\"Don Collins\"],[\"Earl Cureton\"],[\"Edgar Jones\"],[\"James Donaldson\"],[\"Jawann Oldham\"],[\"Jeff Wilkins\"],[\"Jerry Sichting\"],[\"Joe Barry Carroll\"],[\"Johnny Moore\"],[\"Kelvin Ransey\"],[\"Kiki Vandeweghe\"],[\"Kyle Macy\"],[\"Larry Drew\"],[\"Larry Smith\"],[\"Lorenzo Romar\"],[\"Louis Orr\"],[\"Michael Brooks\"],[\"Mike Gminski\"],[\"Mike O'Koren\"],[\"Mike Woodson\"],[\"Rick Mahorn\"],[\"Rickey Brown\"],[\"Ronnie Lester\"],[\"Rory Sparrow\"],[\"Wes Matthews\"],[\"Al Wood\"],[\"Albert King\"],[\"Alton Lister\"],[\"Buck Williams\"],[\"Charles Davis\"],[\"Danny Ainge\"],[\"Danny Schayes\"],[\"Danny Vranes\"],[\"Darnell Valentine\"],[\"Eddie Johnson\"],[\"Elston Turner\"],[\"Frank Johnson\"],[\"Franklin Edwards\"],[\"Gene Banks\"],[\"Hank McDowell\"],[\"Herb Williams\"],[\"Jay Vincent\"],[\"Jeff Lamp\"],[\"Jeff Ruland\"],[\"Kelly Tripucka\"],[\"Kevin McKenna\"],[\"Kurt Nimphius\"],[\"Kurt Rambis\"],[\"Larry Nance\"],[\"Larry Spriggs\"],[\"Lewis Lloyd\"],[\"Mark Aguirre\"],[\"Mike McGee\"],[\"Orlando Woolridge\"],[\"Pete Verhoeven\"],[\"Ray Tolbert\"],[\"Rolando Blackman\"],[\"Steve Hayes\"],[\"Steve Johnson\"],[\"Tom Chambers\"],[\"Brook Steppe\"],[\"Chris Engler\"],[\"Chuck Nevitt\"],[\"Clark Kellogg\"],[\"Cliff Levingston\"],[\"Craig Hodges\"],[\"David Thirdkill\"],[\"Derek Smith\"],[\"Ed Nealy\"],[\"Fat Lever\"],[\"John Bagley\"],[\"LaSalle Thompson\"],[\"Lester Conner\"],[\"Marc Iavaroni\"],[\"Mark Eaton\"],[\"Mark McNamara\"],[\"Mike Sanders\"],[\"Paul Pressey\"],[\"Quintin Dailey\"],[\"Richard Anderson\"],[\"Ricky Pierce\"],[\"Rod Higgins\"],[\"Rory White\"],[\"Scott Hastings\"],[\"Sleepy Floyd\"],[\"Terry Cummings\"],[\"Terry Teagle\"],[\"Trent Tucker\"],[\"Walker Russell\"],[\"Bob Hansen\"],[\"Byron Scott\"],[\"Charles Jones\"],[\"Craig Ehlo\"],[\"Dale Ellis\"],[\"Darrell Walker\"],[\"Darren Daye\"],[\"Derek Harper\"],[\"Doc Rivers\"],[\"Ennis Whatley\"],[\"Fred Roberts\"],[\"Granville Waiters\"],[\"Greg Kite\"],[\"Jeff Malone\"],[\"John Paxson\"],[\"Jon Sundvold\"],[\"Kevin Williams\"],[\"Mark West\"],[\"Mitchell Wiggins\"],[\"Pace Mannion\"],[\"Randy Breuer\"],[\"Randy Wittman\"],[\"Rodney McCray\"],[\"Roy Hinson\"],[\"Sedale Threatt\"],[\"Sidney Green\"],[\"Steve Stipanovich\"],[\"Thurl Bailey\"],[\"Alvin Robertson\"],[\"Antoine Carr\"],[\"Bernard Thompson\"],[\"Danny Young\"],[\"Eddie Lee Wilkins\"],[\"Frank Brickowski\"],[\"Jay Humphries\"],[\"Jeff Turner\"],[\"Jerome Kersey\"],[\"Jim Petersen\"],[\"Ken Bannister\"],[\"Kevin Willis\"],[\"Leon Wood\"],[\"Melvin Turpin\"],[\"Michael Cage\"],[\"Michael Holton\"],[\"Otis Thorpe\"],[\"Rick Carlisle\"],[\"Ron Anderson\"],[\"Sam Bowie\"],[\"Sam Perkins\"],[\"Steve Colter\"],[\"Stuart Gray\"],[\"Tim McCormick\"],[\"Tony Brown\"],[\"Tony Campbell\"],[\"Vern Fleming\"],[\"A.C. Green\"],[\"Benoit Benjamin\"],[\"Bill Wennington\"],[\"Blair Rasmussen\"],[\"Bob Thornton\"],[\"Charles Oakley\"],[\"Detlef Schrempf\"],[\"Ed Pinckney\"],[\"Gerald Wilkins\"],[\"Jerry Reynolds\"],[\"Joe Kleine\"],[\"John Battle\"],[\"Jon Koncak\"],[\"Manute Bol\"],[\"Michael Adams\"],[\"Mike Smrek\"],[\"Sam Vincent\"],[\"Sedric Toney\"],[\"Spud Webb\"],[\"Steve Harris\"],[\"Terry Catledge\"],[\"Terry Porter\"],[\"Tyrone Corbin\"],[\"Uwe Blab\"],[\"Wayman Tisdale\"],[\"Xavier McDaniel\"],[\"Andre Turner\"],[\"Ben Coleman\"],[\"Billy Thompson\"],[\"Brad Daugherty\"],[\"Brad Sellers\"],[\"Buck Johnson\"],[\"Chuck Person\"],[\"Dave Feitl\"],[\"David Wingate\"],[\"Dell Curry\"],[\"Greg Dreiling\"],[\"Hot Rod Williams\"],[\"Jeff Hornacek\"],[\"John Salley\"],[\"John Williams\"],[\"Johnny Dawkins\"],[\"Johnny Newman\"],[\"Kenny Gattison\"],[\"Kenny Walker\"],[\"Kevin Duckworth\"],[\"Larry Krystkowiak\"],[\"Mark Alarie\"],[\"Mark Price\"],[\"Mike Brown\"],[\"Nate McMillan\"],[\"Otis Smith\"],[\"Pete Myers\"],[\"Rafael Addison\"],[\"Ron Harper\"],[\"Roy Tarpley\"],[\"Scott Skiles\"],[\"Tim Kempton\"],[\"William Bedford\"],[\"Armen Gilliam\"],[\"Bart Kofoed\"],[\"Brad Lohaus\"],[\"Chris Dudley\"],[\"Dave Hoppen\"],[\"Dennis Hopson\"],[\"Derrick McKey\"],[\"Greg Anderson\"],[\"Horace Grant\"],[\"Jim Farmer\"],[\"Joe Wolf\"],[\"Ken Norman\"],[\"Kenny Smith\"],[\"Kevin Gamble\"],[\"Kevin Johnson\"],[\"Mark Acres\"],[\"Mark Jackson\"],[\"Muggsy Bogues\"],[\"Olden Polynice\"],[\"Reggie Lewis\"],[\"Reggie Williams\"],[\"Tellis Frank\"],[\"Tod Murphy\"],[\"Vincent Askew\"],[\"Winston Garland\"],[\"Andrew Lang\"],[\"Anthony Bowie\"],[\"Avery Johnson\"],[\"Brian Shaw\"],[\"Charles Shackleford\"],[\"Charles Smith\"],[\"Chris Morris\"],[\"Corey Gaines\"],[\"Dan Majerle\"],[\"Danny Manning\"],[\"David Wood\"],[\"Duane Ferrell\"],[\"Eric Leckner\"],[\"Gary Grant\"],[\"Grant Long\"],[\"Harvey Grant\"],[\"Hersey Hawkins\"],[\"Jack Haley\"],[\"Jeff Grayer\"],[\"Jerome Lane\"],[\"Jim Les\"],[\"John Starks\"],[\"Kevin Edwards\"],[\"Ledell Eackles\"],[\"Mark Bryant\"],[\"Micheal Williams\"],[\"Morlon Wiley\"],[\"Randolph Keys\"],[\"Rex Chapman\"],[\"Rik Smits\"],[\"Rod Strickland\"],[\"Rony Seikaly\"],[\"Scott Brooks\"],[\"Steve Kerr\"],[\"Tim Perry\"],[\"Tom Tolbert\"],[\"Vernon Maxwell\"],[\"Vinny Del Negro\"],[\"Will Perdue\"],[\"Willie Anderson\"],[\"Adrian Caldwell\"],[\"Anthony Mason\"],[\"B.J. Armstrong\"],[\"Blue Edwards\"],[\"Bob McCann\"],[\"Chucky Brown\"],[\"Clifford Robinson\"],[\"Dana Barros\"],[\"Donald Royal\"],[\"Doug West\"],[\"George McCloud\"],[\"Glen Rice\"],[\"Greg Grant\"],[\"Haywoode Workman\"],[\"J.R. Reid\"],[\"Jaren Jackson\"],[\"Mookie Blaylock\"],[\"Nick Anderson\"],[\"Pervis Ellison\"],[\"Pooh Richardson\"],[\"Randy White\"],[\"Sam Mitchell\"],[\"Sean Elliott\"],[\"Shawn Kemp\"],[\"Sherman Douglas\"],[\"Stacey King\"],[\"Terry Davis\"],[\"Tim Legler\"],[\"Todd Lichti\"],[\"Tom Hammonds\"],[\"Alaa Abdelnaby\"],[\"Anthony Bonner\"],[\"Bimbo Coles\"],[\"Cedric Ceballos\"],[\"Danny Ferry\"],[\"Dee Brown\"],[\"Dennis Scott\"],[\"Derrick Coleman\"],[\"Duane Causwell\"],[\"Dwayne Schintzius\"],[\"Elden Campbell\"],[\"Felton Spencer\"],[\"Greg Foster\"],[\"Henry James\"],[\"Jayson Williams\"],[\"Jud Buechler\"],[\"Keith Askins\"],[\"Kendall Gill\"],[\"Larry Robinson\"],[\"Lionel Simmons\"],[\"Loy Vaught\"],[\"Mahmoud Abdul-Rauf\"],[\"Mario Elie\"],[\"Matt Bullard\"],[\"Negele Knight\"],[\"Rumeal Robinson\"],[\"Scott Williams\"],[\"Sean Higgins\"],[\"Steve Henson\"],[\"Steve Scheffler\"],[\"Stojko Vrankovi\\u0107\"],[\"Terry Mills\"],[\"Tony Massenburg\"],[\"Tony Smith\"],[\"Tyrone Hill\"],[\"Willie Burton\"],[\"Billy Owens\"],[\"Bison Dele\"],[\"Bobby Phills\"],[\"Carl Herrera\"],[\"Chris Gatling\"],[\"Dale Davis\"],[\"David Benoit\"],[\"Derek Strong\"],[\"Donald Hodge\"],[\"Doug Smith\"],[\"Elliot Perry\"],[\"Eric Murdock\"],[\"Greg Anthony\"],[\"Isaac Austin\"],[\"Jimmy Oliver\"],[\"Kenny Anderson\"],[\"Larry Johnson\"],[\"Larry Stewart\"],[\"Luc Longley\"],[\"Mark Macon\"],[\"Marty Conlon\"],[\"Pete Chilcutt\"],[\"Randy Brown\"],[\"Rick Fox\"],[\"Robert Pack\"],[\"Stacey Augmon\"],[\"Stanley Roberts\"],[\"Steve Smith\"],[\"Terrell Brandon\"],[\"Tracy Moore\"],[\"Victor Alexander\"],[\"Adam Keefe\"],[\"Anthony Avent\"],[\"Anthony Peeler\"],[\"Brent Price\"],[\"Bryant Stith\"],[\"Christian Laettner\"],[\"Clarence Weatherspoon\"],[\"Don MacLean\"],[\"Doug Christie\"],[\"Doug Overton\"],[\"Elmore Spencer\"],[\"Hubert Davis\"],[\"Jim Jackson\"],[\"John Crotty\"],[\"Jon Barry\"],[\"LaPhonso Ellis\"],[\"Latrell Sprewell\"],[\"Lee Mayberry\"],[\"Litterial Green\"],[\"Lloyd Daniels\"],[\"Lorenzo Williams\"],[\"Malik Sealy\"],[\"Matt Geiger\"],[\"Oliver Miller\"],[\"Robert Horry\"],[\"Sam Mack\"],[\"Sean Rooks\"],[\"Todd Day\"],[\"Tom Gugliotta\"],[\"Tracy Murray\"],[\"Walt Williams\"],[\"Aaron Williams\"],[\"Allan Houston\"],[\"Anfernee Hardaway\"],[\"Antonio Davis\"],[\"Antonio Harvey\"],[\"Bo Outlaw\"],[\"Bobby Hurley\"],[\"Bryon Russell\"],[\"Calbert Cheaney\"],[\"Chris Mills\"],[\"Chris Whitney\"],[\"Corie Blount\"],[\"David Wesley\"],[\"Eric Riley\"],[\"Ervin Johnson\"],[\"George Lynch\"],[\"Gheorghe Mure\\u0219an\"],[\"Greg Graham\"],[\"Isaiah Rider\"],[\"Jamal Mashburn\"],[\"James Robinson\"],[\"Lindsey Hunter\"],[\"Lucious Harris\"],[\"Michael Curry\"],[\"Mitchell Butler\"],[\"Nick Van Exel\"],[\"P.J. Brown\"],[\"Popeye Jones\"],[\"Reggie Jordan\"],[\"Rex Walters\"],[\"Rodney Rogers\"],[\"Sam Cassell\"],[\"Scott Burrell\"],[\"Shawn Bradley\"],[\"Terry Dehere\"],[\"Vin Baker\"],[\"Aaron McKie\"],[\"Anthony Miller\"],[\"Antonio Lang\"],[\"Bill Curley\"],[\"Brian Grant\"],[\"Carlos Rogers\"],[\"Charlie Ward\"],[\"Chris Childs\"],[\"Darrell Armstrong\"],[\"Darrick Martin\"],[\"Dickey Simpkins\"],[\"Donyell Marshall\"],[\"Eddie Jones\"],[\"Eldridge Recasner\"],[\"Eric Montross\"],[\"Eric Piatkowski\"],[\"Glenn Robinson\"],[\"Greg Minor\"],[\"Howard Eisley\"],[\"Jalen Rose\"],[\"Jim McIlvaine\"],[\"Juwan Howard\"],[\"Khalid Reeves\"],[\"Lamond Murray\"],[\"Mark Strickland\"],[\"Michael Smith\"],[\"Monty Williams\"],[\"Reggie Slater\"],[\"Wesley Person\"],[\"\\u017dan Tabak\"],[\"Alan Henderson\"],[\"Andrew DeClercq\"],[\"Anthony Goldwire\"],[\"Antonio McDyess\"],[\"Bob Sura\"],[\"Brent Barry\"],[\"Bryant Reeves\"],[\"Cherokee Parks\"],[\"Chris Carr\"],[\"Corliss Williamson\"],[\"Cory Alexander\"],[\"Damon Stoudamire\"],[\"Don Reid\"],[\"Donny Marshall\"],[\"Eric Snow\"],[\"Eric Williams\"],[\"Fred Hoiberg\"],[\"Gary Trent\"],[\"Greg Ostertag\"],[\"Jason Caffey\"],[\"Jerry Stackhouse\"],[\"Joe Smith\"],[\"John Amaechi\"],[\"Kurt Thomas\"],[\"Mark Davis\"],[\"Michael Finley\"],[\"Rasheed Wallace\"],[\"Theo Ratliff\"],[\"Travis Best\"],[\"Voshon Lenard\"],[\"Antoine Walker\"],[\"Bruce Bowen\"],[\"Darvin Ham\"],[\"Dean Garrett\"],[\"Derek Fisher\"],[\"Emanual Davis\"],[\"Erick Dampier\"],[\"Erick Strickland\"],[\"Jamie Feick\"],[\"Jeff McInnis\"],[\"Jermaine O'Neal\"],[\"Jerome Williams\"],[\"John Wallace\"],[\"Kerry Kittles\"],[\"Lorenzen Wright\"],[\"Malik Rose\"],[\"Marcus Camby\"],[\"Matt Maloney\"],[\"Moochie Norris\"],[\"Othella Harrington\"],[\"Randy Livingston\"],[\"Samaki Walker\"],[\"Shandon Anderson\"],[\"Shareef Abdur-Rahim\"],[\"Stephon Marbury\"],[\"Todd Fuller\"],[\"Tony Delk\"],[\"Travis Knight\"],[\"Vitaly Potapenko\"],[\"Walter McCarty\"],[\"Adonal Foyle\"],[\"Alvin Williams\"],[\"Anthony Johnson\"],[\"Anthony Parker\"],[\"Antonio Daniels\"],[\"Austin Croshere\"],[\"Bobby Jackson\"],[\"Brevin Knight\"],[\"Cedric Henderson\"],[\"Charles Smith\"],[\"Chauncey Billups\"],[\"Chris Crawford\"],[\"Danny Fortson\"],[\"Derek Anderson\"],[\"Jacque Vaughn\"],[\"John Thomas\"],[\"Keith Van Horn\"],[\"Kelvin Cato\"],[\"Kevin Ollie\"],[\"Lawrence Funderburke\"],[\"Mark Pope\"],[\"Maurice Taylor\"],[\"Michael Stewart\"],[\"Rick Brunson\"],[\"Ron Mercer\"],[\"Rusty LaRue\"],[\"Scot Pollard\"],[\"Tariq Abdul-Wahad\"],[\"Tim Thomas\"],[\"Tony Battie\"],[\"Troy Hudson\"],[\"Zydrunas Ilgauskas\"],[\"Al Harrington\"],[\"Antawn Jamison\"],[\"Bonzi Wells\"],[\"Brad Miller\"],[\"Brian Skinner\"],[\"Bruno \\u0160undov\"],[\"Bryce Drew\"],[\"Cuttino Mobley\"],[\"Damon Jones\"],[\"Earl Boykins\"],[\"Jahidi White\"],[\"Jason Williams\"],[\"Jelani McCoy\"],[\"Jerome James\"],[\"Keon Clark\"],[\"Larry Hughes\"],[\"Matt Harpring\"],[\"Michael Dickerson\"],[\"Michael Doleac\"],[\"Michael Olowokandi\"],[\"Mike Bibby\"],[\"Mikki Moore\"],[\"Nazr Mohammed\"],[\"Pat Garrity\"],[\"Peja Stojakovi\\u0107\"],[\"Raef LaFrentz\"],[\"Rashard Lewis\"],[\"Rasho Nesterovi\\u0107\"],[\"Ricky Davis\"],[\"Robert Traylor\"],[\"Ruben Patterson\"],[\"Sean Marks\"],[\"Shammond Williams\"],[\"Tyronn Lue\"],[\"Vince Carter\"],[\"Vladimir Stepania\"],[\"Adrian Griffin\"],[\"Andre Miller\"],[\"Anthony Carter\"],[\"Baron Davis\"],[\"Calvin Booth\"],[\"Chucky Atkins\"],[\"Corey Maggette\"],[\"Devean George\"],[\"Dion Glover\"],[\"Eddie Robinson\"],[\"Elton Brand\"],[\"Greg Buckner\"],[\"James Posey\"],[\"Jason Terry\"],[\"Jeff Foster\"],[\"Jermaine Jackson\"],[\"Jonathan Bender\"],[\"Jumaine Jones\"],[\"Kenny Thomas\"],[\"Lamar Odom\"],[\"Metta World Peace\"],[\"Michael Ruffin\"],[\"Milt Palacio\"],[\"Rafer Alston\"],[\"Richard Hamilton\"],[\"Rodney Buford\"],[\"Ryan Bowen\"],[\"Scott Padgett\"],[\"Shawn Marion\"],[\"Steve Francis\"],[\"Wally Szczerbiak\"],[\"Brian Cardinal\"],[\"Chris Mihm\"],[\"Darius Miles\"],[\"DerMarr Johnson\"],[\"DeShawn Stevenson\"],[\"Desmond Mason\"],[\"Donnell Harvey\"],[\"Eddie Gill\"],[\"Eddie House\"],[\"Eduardo N\\u00e1jera\"],[\"Hedo T\\u00fcrko\\u011flu\"],[\"Ira Newble\"],[\"Jake Tsakalidis\"],[\"Jake Voskuhl\"],[\"Jamaal Magloire\"],[\"Jamal Crawford\"],[\"Jason Collier\"],[\"Jason Hart\"],[\"J\\u00e9r\\u00f4me Mo\\u00efso\"],[\"Joel Przybilla\"],[\"Kenyon Martin\"],[\"Keyon Dooling\"],[\"Lee Nailon\"],[\"Mamadou N'Diaye\"],[\"Marc Jackson\"],[\"Marcus Fizer\"],[\"Mark Blount\"],[\"Mark Madsen\"],[\"Mateen Cleaves\"],[\"Michael Redd\"],[\"Mike Miller\"],[\"Morris Peterson\"],[\"Quentin Richardson\"],[\"Raja Bell\"],[\"Stanislav Medvedenko\"],[\"Stephen Jackson\"],[\"Stromile Swift\"],[\"Wang Zhizhi\"],[\"Zendon Hamilton\"],[\"Andrei Kirilenko\"],[\"Bobby Simmons\"],[\"Brendan Haywood\"],[\"Brian Scalabrine\"],[\"Carlos Arroyo\"],[\"Charlie Bell\"],[\"Chris Andersen\"],[\"DeSagana Diop\"],[\"Earl Watson\"],[\"Eddie Griffin\"],[\"Eddy Curry\"],[\"Etan Thomas\"],[\"Gerald Wallace\"],[\"Gilbert Arenas\"],[\"Jamaal Tinsley\"],[\"Jarron Collins\"],[\"Jason Collins\"],[\"Jason Richardson\"],[\"Joe Johnson\"],[\"Kwame Brown\"],[\"Loren Woods\"],[\"Malik Allen\"],[\"Maurice Evans\"],[\"Michael Bradley\"],[\"Mike James\"],[\"Primo\\u017e Brezec\"],[\"Richard Jefferson\"],[\"Samuel Dalembert\"],[\"Shane Battier\"],[\"Speedy Claxton\"],[\"Steven Hunter\"],[\"Trenton Hassell\"],[\"Troy Murphy\"],[\"Tyson Chandler\"],[\"Vladimir Radmanovi\\u0107\"],[\"Zach Randolph\"],[\"\\u017deljko Rebra\\u010da\"],[\"Amar'e Stoudemire\"],[\"Bo\\u0161tjan Nachbar\"],[\"Carlos Boozer\"],[\"Caron Butler\"],[\"Chris Wilcox\"],[\"Dan Dickau\"],[\"Dan Gadzuric\"],[\"Devin Brown\"],[\"Drew Gooden\"],[\"Fred Jones\"],[\"Gordan Giri\\u010dek\"],[\"Jamal Sampson\"],[\"Jannero Pargo\"],[\"Jared Jeffries\"],[\"John Salmons\"],[\"Juan Dixon\"],[\"Kareem Rush\"],[\"Marko Jari\\u0107\"],[\"Mehmet Okur\"],[\"Melvin Ely\"],[\"Mike Dunleavy\"],[\"Mike Wilks\"],[\"Nen\\u00ea\"],[\"Rasual Butler\"],[\"Reggie Evans\"],[\"Roger Mason\"],[\"Ronald Murray\"],[\"Smush Parker\"],[\"Tayshaun Prince\"],[\"Boris Diaw\"],[\"Brian Cook\"],[\"Carmelo Anthony\"],[\"Chris Kaman\"],[\"Dahntay Jones\"],[\"Darius Songaila\"],[\"Darko Mili\\u010di\\u0107\"],[\"David West\"],[\"Francisco Elson\"],[\"Ime Udoka\"],[\"James Jones\"],[\"Jarvis Hayes\"],[\"Jason Kapono\"],[\"Josh Howard\"],[\"Keith Bogans\"],[\"Kendrick Perkins\"],[\"Kirk Hinrich\"],[\"Kyle Korver\"],[\"Leandro Barbosa\"],[\"LeBron James\"],[\"Linton Johnson\"],[\"Luke Ridnour\"],[\"Luke Walton\"],[\"Marcus Banks\"],[\"Marquis Daniels\"],[\"Matt Barnes\"],[\"Matt Carroll\"],[\"Micka\\u00ebl Pi\\u00e9trus\"],[\"Mo Williams\"],[\"Ronald Dupree\"],[\"Sasha Pavlovi\\u0107\"],[\"Steve Blake\"],[\"T.J. Ford\"],[\"Travis Outlaw\"],[\"Udonis Haslem\"],[\"Willie Green\"],[\"Zaza Pachulia\"],[\"Al Jefferson\"],[\"Anderson Varej\\u00e3o\"],[\"Andre Iguodala\"],[\"Andr\\u00e9s Nocioni\"],[\"Andris Biedri\\u0146\\u0161\"],[\"Ben Gordon\"],[\"Beno Udrih\"],[\"Carlos Delfino\"],[\"Chris Duhon\"],[\"D.J. Mbenga\"],[\"Damien Wilkins\"],[\"Delonte West\"],[\"Devin Harris\"],[\"Dorell Wright\"],[\"Dwight Howard\"],[\"Emeka Okafor\"],[\"J.R. Smith\"],[\"Jameer Nelson\"],[\"Josh Childress\"],[\"Josh Smith\"],[\"Kevin Martin\"],[\"Kris Humphries\"],[\"Luol Deng\"],[\"Matt Bonner\"],[\"Nenad Krsti\\u0107\"],[\"Nick Collison\"],[\"Quinton Ross\"],[\"Royal Ivey\"],[\"Sasha Vuja\\u010di\\u0107\"],[\"Sebastian Telfair\"],[\"Shaun Livingston\"],[\"Tony Allen\"],[\"Trevor Ariza\"],[\"Alan Anderson\"],[\"Amir Johnson\"],[\"Andray Blatche\"],[\"Andrew Bogut\"],[\"Andrew Bynum\"],[\"Antoine Wright\"],[\"Brandon Bass\"],[\"C.J. Miles\"],[\"Channing Frye\"],[\"Charlie Villanueva\"],[\"Chris Paul\"],[\"Chuck Hayes\"],[\"Danny Granger\"],[\"David Lee\"],[\"Deron Williams\"],[\"Dwayne Jones\"],[\"Earl Barron\"],[\"Fabricio Oberto\"],[\"Francisco Garc\\u00eda\"],[\"Gerald Green\"],[\"Hakim Warrick\"],[\"Ike Diogu\"],[\"James Singleton\"],[\"Jarrett Jack\"],[\"Jason Maxiell\"],[\"Joey Graham\"],[\"Johan Petro\"],[\"John Lucas III\"],[\"Jos\\u00e9 Calder\\u00f3n\"],[\"Josh Powell\"],[\"Linas Kleiza\"],[\"Lou Williams\"],[\"Luther Head\"],[\"Martell Webster\"],[\"Marvin Williams\"],[\"Monta Ellis\"],[\"Nate Robinson\"],[\"Raymond Felton\"],[\"Ronnie Price\"],[\"Ronny Turiaf\"],[\"Ryan Gomes\"],[\"Shavlik Randolph\"],[\"Stephen Graham\"],[\"Travis Diener\"],[\"Von Wafer\"],[\"Will Bynum\"],[\"Andrea Bargnani\"],[\"Brandon Roy\"],[\"Chris Quinn\"],[\"Craig Smith\"],[\"Daniel Gibson\"],[\"Ersan \\u0130lyasova\"],[\"Hilton Armstrong\"],[\"J.J. Barea\"],[\"J.J. Redick\"],[\"Jordan Farmar\"],[\"Kelenna Azubuike\"],[\"Kyle Lowry\"],[\"LaMarcus Aldridge\"],[\"Leon Powe\"],[\"Lou Amundson\"],[\"P.J. Tucker\"],[\"Paul Millsap\"],[\"Rajon Rondo\"],[\"Randy Foye\"],[\"Renaldo Balkman\"],[\"Rodney Carney\"],[\"Ronnie Brewer\"],[\"Rudy Gay\"],[\"Ryan Hollins\"],[\"Sergio Rodr\\u00edguez\"],[\"Shannon Brown\"],[\"Shawne Williams\"],[\"Shelden Williams\"],[\"Solomon Jones\"],[\"Steve Novak\"],[\"Thabo Sefolosha\"],[\"Tyrus Thomas\"],[\"Aaron Brooks\"],[\"Aaron Gray\"],[\"Al Horford\"],[\"Arron Afflalo\"],[\"Brandan Wright\"],[\"C.J. Watson\"],[\"Carl Landry\"],[\"Corey Brewer\"],[\"Daequan Cook\"],[\"Dominic McGuire\"],[\"Glen Davis\"],[\"Ian Mahinmi\"],[\"Jamario Moon\"],[\"Jared Dudley\"],[\"Jason Smith\"],[\"Jeff Green\"],[\"Joakim Noah\"],[\"Joel Anthony\"],[\"Josh McRoberts\"],[\"Kevin Durant\"],[\"Kyrylo Fesenko\"],[\"Luis Scola\"],[\"Marcin Gortat\"],[\"Marco Belinelli\"],[\"Mike Conley\"],[\"Nick Young\"],[\"Ramon Sessions\"],[\"Rodney Stuckey\"],[\"Spencer Hawes\"],[\"Thaddeus Young\"],[\"Wilson Chandler\"],[\"Yi Jianlian\"],[\"Alexis Ajin\\u00e7a\"],[\"Anthony Morrow\"],[\"Anthony Randolph\"],[\"Anthony Tolliver\"],[\"Brandon Rush\"],[\"Brook Lopez\"],[\"Cartier Martin\"],[\"Chris Douglas-Roberts\"],[\"Courtney Lee\"],[\"D.J. Augustin\"],[\"D.J. White\"],[\"Danilo Gallinari\"],[\"Darrell Arthur\"],[\"DeAndre Jordan\"],[\"Derrick Rose\"],[\"Eric Gordon\"],[\"George Hill\"],[\"Goran Dragi\\u0107\"],[\"Hamed Haddadi\"],[\"Henry Walker\"],[\"J.J. Hickson\"],[\"Jason Thompson\"],[\"JaVale McGee\"],[\"Jerryd Bayless\"],[\"Kevin Love\"],[\"Kosta Koufos\"],[\"Luc Mbah a Moute\"],[\"Marc Gasol\"],[\"Mario Chalmers\"],[\"Marreese Speights\"],[\"Michael Beasley\"],[\"Nicolas Batum\"],[\"O.J. Mayo\"],[\"Robin Lopez\"],[\"Roy Hibbert\"],[\"Russell Westbrook\"],[\"Ryan Anderson\"],[\"A.J. Price\"],[\"Alonzo Gee\"],[\"Austin Daye\"],[\"Brandon Jennings\"],[\"Byron Mullens\"],[\"Chase Budinger\"],[\"Danny Green\"],[\"Dante Cunningham\"],[\"Darren Collison\"],[\"DeJuan Blair\"],[\"DeMar DeRozan\"],[\"DeMarre Carroll\"],[\"Earl Clark\"],[\"Eric Maynor\"],[\"Garrett Temple\"],[\"Gerald Henderson\"],[\"Hasheem Thabeet\"],[\"James Harden\"],[\"James Johnson\"],[\"Jeff Ayres\"],[\"Jeff Teague\"],[\"Jodie Meeks\"],[\"Jonas Jerebko\"],[\"Jordan Hill\"],[\"Jrue Holiday\"],[\"Marcus Thornton\"],[\"Omri Casspi\"],[\"Patty Mills\"],[\"Reggie Williams\"],[\"Serge Ibaka\"],[\"Stephen Curry\"],[\"Taj Gibson\"],[\"Toney Douglas\"],[\"Ty Lawson\"],[\"Tyler Hansbrough\"],[\"Tyreke Evans\"],[\"Wayne Ellington\"],[\"Wesley Matthews\"],[\"Al-Farouq Aminu\"],[\"Avery Bradley\"],[\"Blake Griffin\"],[\"Cole Aldrich\"],[\"DeMarcus Cousins\"],[\"Derrick Favors\"],[\"Ed Davis\"],[\"Ekpe Udoh\"],[\"Eric Bledsoe\"],[\"Evan Turner\"],[\"Gary Neal\"],[\"Gordon Hayward\"],[\"Greg Monroe\"],[\"Greivis V\\u00e1squez\"],[\"Hassan Whiteside\"],[\"Ish Smith\"],[\"James Anderson\"],[\"Jeff Adrien\"],[\"Jeremy Evans\"],[\"Jeremy Lin\"],[\"John Wall\"],[\"Jordan Crawford\"],[\"Kevin S\\u00e9raphin\"],[\"Lance Stephenson\"],[\"Landry Fields\"],[\"Larry Sanders\"],[\"Luke Babbitt\"],[\"Nikola Pekovi\\u0107\"],[\"\\u00d6mer A\\u015f\\u0131k\"],[\"Patrick Patterson\"],[\"Paul George\"],[\"Quincy Pondexter\"],[\"Tiago Splitter\"],[\"Timofey Mozgov\"],[\"Trevor Booker\"],[\"Wesley Johnson\"],[\"Xavier Henry\"],[\"Alec Burks\"],[\"Bismack Biyombo\"],[\"Brandon Knight\"],[\"Chandler Parsons\"],[\"Cory Joseph\"],[\"DeAndre Liggins\"],[\"Derrick Williams\"],[\"Donald Sloan\"],[\"E'Twaun Moore\"],[\"Enes Freedom\"],[\"Greg Smith\"],[\"Iman Shumpert\"],[\"Isaiah Thomas\"],[\"Jimmer Fredette\"],[\"Jimmy Butler\"],[\"Jon Leuer\"],[\"Jordan Hamilton\"],[\"Kawhi Leonard\"],[\"Kemba Walker\"],[\"Kenneth Faried\"],[\"Klay Thompson\"],[\"Kyrie Irving\"],[\"Lance Thomas\"],[\"Lavoy Allen\"],[\"Marcus Morris\"],[\"Markieff Morris\"],[\"MarShon Brooks\"],[\"Nikola Vu\\u010devi\\u0107\"],[\"Norris Cole\"],[\"Reggie Jackson\"],[\"Ricky Rubio\"],[\"Shelvin Mack\"],[\"Tobias Harris\"],[\"Tristan Thompson\"],[\"Andre Drummond\"],[\"Andrew Nicholson\"],[\"Anthony Davis\"],[\"Aron Baynes\"],[\"Austin Rivers\"],[\"Bradley Beal\"],[\"Brian Roberts\"],[\"Damian Lillard\"],[\"Darius Miller\"],[\"Dion Waiters\"],[\"Donatas Motiej\\u016bnas\"],[\"Draymond Green\"],[\"Evan Fournier\"],[\"Harrison Barnes\"],[\"Jae Crowder\"],[\"Jared Sullinger\"],[\"Jeremy Lamb\"],[\"John Henson\"],[\"John Jenkins\"],[\"Jonas Valan\\u010di\\u016bnas\"],[\"Justin Holiday\"],[\"Kent Bazemore\"],[\"Khris Middleton\"],[\"Kyle O'Quinn\"],[\"Kyle Singler\"],[\"Maurice Harkless\"],[\"Meyers Leonard\"],[\"Michael Kidd-Gilchrist\"],[\"Mike Scott\"],[\"Miles Plumlee\"],[\"Mirza Teletovi\\u0107\"],[\"Patrick Beverley\"],[\"Quincy Acy\"],[\"Terrence Jones\"],[\"Terrence Ross\"],[\"Thomas Robinson\"],[\"Tyler Zeller\"],[\"Will Barton\"],[\"Alex Len\"],[\"Allen Crabbe\"],[\"Andre Roberson\"],[\"Ben McLemore\"],[\"CJ McCollum\"],[\"Cody Zeller\"],[\"Dennis Schr\\u00f6der\"],[\"Dewayne Dedmon\"],[\"Giannis Antetokounmpo\"],[\"Gorgui Dieng\"],[\"Ian Clark\"],[\"Isaiah Canaan\"],[\"Jeff Withey\"],[\"Kelly Olynyk\"],[\"Kentavious Caldwell-Pope\"],[\"Lorenzo Brown\"],[\"Mason Plumlee\"],[\"Matthew Dellavedova\"],[\"Michael Carter-Williams\"],[\"Mike Muscala\"],[\"Otto Porter Jr.\"],[\"Reggie Bullock\"],[\"Robert Covington\"],[\"Rudy Gobert\"],[\"Seth Curry\"],[\"Shabazz Muhammad\"],[\"Solomon Hill\"],[\"Steven Adams\"],[\"Tim Hardaway Jr.\"],[\"Tony Snell\"],[\"Trey Burke\"],[\"Troy Daniels\"],[\"Victor Oladipo\"],[\"Aaron Gordon\"],[\"Andrew Wiggins\"],[\"Bojan Bogdanovi\\u0107\"],[\"Bruno Caboclo\"],[\"Clint Capela\"],[\"Dante Exum\"],[\"Doug McDermott\"],[\"Dwight Powell\"],[\"Elfrid Payton\"],[\"Gary Harris\"],[\"Glenn Robinson III\"],[\"Jabari Parker\"],[\"JaKarr Sampson\"],[\"James Ennis III\"],[\"JaMychal Green\"],[\"Jerami Grant\"],[\"Joe Harris\"],[\"Joe Ingles\"],[\"Jordan Clarkson\"],[\"Julius Randle\"],[\"Jusuf Nurki\\u0107\"],[\"Kyle Anderson\"],[\"Langston Galloway\"],[\"Marcus Smart\"],[\"Nerlens Noel\"],[\"Nik Stauskas\"],[\"Nikola Miroti\\u0107\"],[\"Noah Vonleh\"],[\"Rodney Hood\"],[\"Shabazz Napier\"],[\"Spencer Dinwiddie\"],[\"T.J. Warren\"],[\"Tim Frazier\"],[\"Tyler Johnson\"],[\"Zach LaVine\"],[\"Boban Marjanovi\\u0107\"],[\"Bobby Portis\"],[\"Cameron Payne\"],[\"Christian Wood\"],[\"Cristiano Fel\\u00edcio\"],[\"D'Angelo Russell\"],[\"Delon Wright\"],[\"Devin Booker\"],[\"Emmanuel Mudiay\"],[\"Frank Kaminsky\"],[\"Jahlil Okafor\"],[\"Jerian Grant\"],[\"Josh Richardson\"],[\"Justin Anderson\"],[\"Justise Winslow\"],[\"Karl-Anthony Towns\"],[\"Kelly Oubre Jr.\"],[\"Kevon Looney\"],[\"Kristaps Porzi\\u0146\\u0123is\"],[\"Larry Nance Jr.\"],[\"Mario Hezonja\"],[\"Montrezl Harrell\"],[\"Myles Turner\"],[\"Nemanja Bjelica\"],[\"Nikola Joki\\u0107\"],[\"Norman Powell\"],[\"Pat Connaughton\"],[\"Raul Neto\"],[\"Richaun Holmes\"],[\"Rondae Hollis-Jefferson\"],[\"Sam Dekker\"],[\"Stanley Johnson\"],[\"T.J. McConnell\"],[\"Terry Rozier\"],[\"Thanasis Antetokounmpo\"],[\"Trey Lyles\"],[\"Tyus Jones\"],[\"Willie Cauley-Stein\"],[\"Brandon Ingram\"],[\"Bryn Forbes\"],[\"Buddy Hield\"],[\"Caris LeVert\"],[\"Cheick Diallo\"],[\"Damian Jones\"],[\"Danuel House Jr.\"],[\"Dario \\u0160ari\\u0107\"],[\"David Nwaba\"],[\"D\\u0101vis Bert\\u0101ns\"],[\"DeAndre' Bembry\"],[\"Dejounte Murray\"],[\"Denzel Valentine\"],[\"Derrick Jones Jr.\"],[\"Domantas Sabonis\"],[\"Dorian Finney-Smith\"],[\"Fred VanVleet\"],[\"Gary Payton II\"],[\"Georges Niang\"],[\"Henry Ellenson\"],[\"Ivica Zubac\"],[\"Jake Layman\"],[\"Jakob Poeltl\"],[\"Jamal Murray\"],[\"Jaylen Brown\"],[\"Joel Embiid\"],[\"Juancho Hernang\\u00f3mez\"],[\"Kris Dunn\"],[\"Malcolm Brogdon\"],[\"Malik Beasley\"],[\"Marquese Chriss\"],[\"Pascal Siakam\"],[\"Patrick McCaw\"],[\"Quinn Cook\"],[\"Rodney McGruder\"],[\"Taurean Prince\"],[\"Thon Maker\"],[\"Timoth\\u00e9 Luwawu-Cabarrot\"],[\"Tom\\u00e1\\u0161 Satoransk\\u00fd\"],[\"Willy Hernang\\u00f3mez\"],[\"Yogi Ferrell\"],[\"Abdel Nader\"],[\"Alex Caruso\"],[\"Alfonzo McKinnie\"],[\"Bam Adebayo\"],[\"Ben Simmons\"],[\"Bogdan Bogdanovi\\u0107\"],[\"Cedi Osman\"],[\"Chris Boucher\"],[\"D.J. Wilson\"],[\"Damion Lee\"],[\"Damyean Dotson\"],[\"Daniel Theis\"],[\"De'Aaron Fox\"],[\"Dennis Smith Jr.\"],[\"Derrick White\"],[\"Dillon Brooks\"],[\"Donovan Mitchell\"],[\"Edmond Sumner\"],[\"Frank Ntilikina\"],[\"Furkan Korkmaz\"],[\"Jarrett Allen\"],[\"Jayson Tatum\"],[\"John Collins\"],[\"Jonathan Isaac\"],[\"Jordan Bell\"],[\"Josh Hart\"],[\"Josh Jackson\"],[\"Justin Jackson\"],[\"Khem Birch\"],[\"Kyle Kuzma\"],[\"Lauri Markkanen\"],[\"Lonzo Ball\"],[\"Luke Kennard\"],[\"Luke Kornet\"],[\"Malik Monk\"],[\"Markelle Fultz\"],[\"Maxi Kleber\"],[\"Monte Morris\"],[\"OG Anunoby\"],[\"PJ Dozier\"],[\"Royce O'Neale\"],[\"Ryan Arcidiacono\"],[\"Semi Ojeleye\"],[\"Shaquille Harrison\"],[\"Sterling Brown\"],[\"Thomas Bryant\"],[\"Tony Bradley\"],[\"Torrey Craig\"],[\"Wes Iwundu\"],[\"Zach Collins\"],[\"Aaron Holiday\"],[\"Alize Johnson\"],[\"Anfernee Simons\"],[\"Bruce Brown\"],[\"Chimezie Metu\"],[\"Collin Sexton\"],[\"De'Anthony Melton\"],[\"Deandre Ayton\"],[\"Devonte' Graham\"],[\"Donte DiVincenzo\"],[\"Drew Eubanks\"],[\"Duncan Robinson\"],[\"Frank Jackson\"],[\"Gary Trent Jr.\"],[\"Grayson Allen\"],[\"Hamidou Diallo\"],[\"Isaiah Hartenstein\"],[\"Jalen Brunson\"],[\"Jaren Jackson Jr.\"],[\"Jarred Vanderbilt\"],[\"Jevon Carter\"],[\"Josh Okogie\"],[\"Keita Bates-Diop\"],[\"Kenrich Williams\"],[\"Kevin Huerter\"],[\"Kevin Knox\"],[\"Landry Shamet\"],[\"Lonnie Walker IV\"],[\"Luka Don\\u010di\\u0107\"],[\"Marvin Bagley III\"],[\"Mikal Bridges\"],[\"Miles Bridges\"],[\"Mitchell Robinson\"],[\"Mo Bamba\"],[\"Moritz Wagner\"],[\"Robert Williams\"],[\"Shai Gilgeous-Alexander\"],[\"Shake Milton\"],[\"Svi Mykhailiuk\"],[\"Theo Pinson\"],[\"Trae Young\"],[\"Troy Brown Jr.\"],[\"Wendell Carter Jr.\"],[\"Yuta Watanabe\"]],\"hovertemplate\":\"hof=0\\u003cbr\\u003ePTS=%{x}\\u003cbr\\u003eG=%{y}\\u003cbr\\u003eplayer=%{customdata[0]}\\u003cextra\\u003e\\u003c\\u002fextra\\u003e\",\"legendgroup\":\"0\",\"marker\":{\"color\":\"#636efa\",\"symbol\":\"circle\"},\"mode\":\"markers\",\"name\":\"0\",\"showlegend\":true,\"x\":[7.9,12.7,9.4,8.8,5.8,9.8,11.3,7.2,5.8,12.4,5.8,8.3,12.6,9.3,14.8,8.8,8.7,10.6,6.5,8.3,10.2,3.3,9.4,10.9,8.7,7.8,6.7,7.5,10.4,11.0,8.7,8.2,9.8,7.3,6.8,7.2,9.5,12.3,12.2,9.2,10.6,9.4,7.7,5.6,11.2,5.2,8.3,13.7,8.3,0.2,5.0,11.1,8.2,5.9,8.1,9.7,6.8,7.1,6.3,10.2,10.9,4.8,10.8,14.4,5.0,13.8,7.4,6.8,8.0,13.3,10.1,8.6,6.2,13.9,6.1,10.4,8.1,7.2,7.8,10.9,9.2,15.8,8.9,8.4,8.0,10.7,6.6,11.5,10.0,10.6,5.5,4.7,6.7,9.1,15.8,11.6,15.6,8.7,14.8,7.2,7.1,15.9,7.5,9.8,7.4,11.3,6.1,6.7,7.8,11.1,14.3,12.7,8.5,11.9,10.5,4.3,11.9,4.4,4.2,8.6,15.3,9.3,9.7,13.8,11.6,13.0,12.2,13.4,7.2,10.8,5.9,3.2,6.6,12.2,5.4,14.8,10.2,16.2,8.8,16.1,9.2,19.1,12.3,3.5,8.8,8.3,9.4,9.8,12.6,6.7,7.9,7.6,9.3,16.4,11.2,10.6,11.6,9.5,15.3,16.3,10.6,17.6,15.1,7.7,12.2,4.7,7.4,14.0,6.8,16.0,5.1,14.8,8.3,11.7,8.8,11.9,5.8,2.9,6.9,6.1,8.5,10.1,5.3,12.5,8.0,5.4,16.0,17.4,20.2,11.5,16.2,16.3,12.8,20.0,7.2,18.9,16.3,5.9,18.1,11.9,8.1,7.7,12.8,10.3,6.5,6.7,9.3,16.6,16.7,13.7,3.4,10.8,10.7,5.2,13.1,11.7,11.1,9.0,15.2,16.3,10.6,11.9,12.2,5.7,11.5,8.9,6.9,5.3,2.8,8.4,8.8,9.5,7.8,8.9,12.0,16.5,4.0,10.8,7.2,13.6,7.8,11.9,11.6,12.1,9.9,8.2,16.8,9.3,6.2,12.4,7.2,17.1,9.0,9.3,11.8,12.6,3.8,9.3,10.3,8.0,15.2,9.0,18.6,10.8,20.7,6.0,6.1,7.6,5.2,7.3,13.4,6.3,16.1,12.6,11.8,15.6,9.0,11.6,5.5,10.6,11.7,17.6,11.7,10.8,6.1,6.4,9.5,4.8,8.8,8.7,21.8,9.5,4.4,13.8,12.0,6.9,12.9,4.2,16.7,11.8,10.3,4.1,11.6,9.8,15.4,8.4,7.4,11.6,9.8,11.4,6.2,6.1,5.2,13.4,14.6,8.8,8.2,9.2,8.3,10.0,9.8,11.2,13.2,8.2,8.3,5.0,7.4,14.9,6.9,12.0,17.2,11.5,16.7,16.8,4.4,8.4,11.3,7.5,4.7,13.1,7.7,5.3,8.1,9.2,3.8,5.5,5.3,9.3,7.1,8.6,8.5,9.1,8.6,16.1,12.5,10.0,7.8,11.6,11.1,5.9,7.7,2.4,5.1,7.8,12.1,8.9,7.9,6.1,17.9,8.1,7.2,8.3,9.6,5.8,7.4,17.5,8.5,9.2,8.3,17.2,8.5,9.4,12.1,11.5,9.0,10.3,8.9,12.4,6.2,10.8,9.1,16.9,16.2,15.8,12.2,6.4,2.6,8.4,3.2,6.2,20.7,6.2,5.1,6.0,16.0,14.6,14.1,15.1,13.2,8.4,9.4,9.4,15.5,14.1,10.5,6.0,8.9,14.3,12.0,6.4,2.4,17.1,9.9,8.7,8.1,3.8,12.3,13.6,11.0,3.8,11.6,10.0,9.5,7.0,6.9,7.6,13.3,3.1,7.7,8.1,20.3,6.9,10.1,10.7,12.9,8.2,7.9,4.2,12.0,11.2,10.2,5.1,8.2,9.8,7.3,4.6,10.4,9.9,5.6,7.0,4.9,7.8,6.8,8.2,12.5,8.5,16.0,8.1,7.4,5.8,12.4,12.7,5.9,11.6,9.1,5.6,20.1,7.0,7.6,15.7,18.0,15.5,9.4,11.4,5.0,5.1,7.6,5.4,18.9,8.0,5.4,8.5,14.7,1.2,9.1,5.4,6.5,3.8,13.6,8.9,14.8,19.8,13.7,11.6,17.3,18.5,7.6,8.7,11.9,10.2,7.9,9.5,13.2,17.2,17.2,7.0,10.2,5.2,8.8,11.2,9.7,8.8,5.3,14.3,9.7,4.4,7.7,9.6,4.0,10.9,8.9,10.9,12.0,15.9,7.2,12.9,8.7,16.2,9.5,9.8,5.4,9.0,8.6,4.4,7.9,6.9,17.7,9.4,11.4,19.7,9.5,11.4,6.7,5.9,9.7,12.8,11.7,8.2,14.0,6.9,4.4,7.3,9.0,7.9,11.8,12.1,6.6,12.8,5.3,11.5,7.7,5.1,8.7,16.0,4.7,8.3,6.1,11.3,2.9,10.8,15.2,5.1,17.4,17.2,5.4,6.4,5.2,17.1,5.2,13.2,20.0,9.6,16.0,3.5,3.6,18.0,2.6,11.7,18.1,5.4,1.8,1.6,18.9,7.1,8.5,2.8,12.8,2.7,13.9,8.7,7.9,6.3,4.4,6.0,3.5,8.0,10.6,14.1,5.6,14.9,9.0,7.4,2.8,12.8,16.4,11.6,8.2,3.0,6.9,14.1,3.5,8.6,15.7,8.9,6.8,13.3,10.9,5.6,7.3,2.4,2.5,19.0,7.2,7.7,4.9,5.7,10.0,3.1,6.8,7.4,11.7,14.2,9.8,7.5,13.2,12.8,14.0,9.3,5.3,4.6,4.8,10.0,11.1,6.0,10.3,6.9,5.9,12.1,6.4,8.5,7.3,6.2,14.0,2.2,10.6,10.9,11.9,6.3,2.3,8.3,6.0,11.6,11.3,9.6,11.4,4.6,9.6,3.0,9.7,13.9,6.8,13.0,9.1,4.8,8.7,4.5,2.6,14.7,2.9,7.8,3.7,9.9,7.0,12.7,12.2,9.2,2.1,15.3,15.6,4.5,6.6,8.6,19.0,6.3,9.1,14.7,4.3,5.6,11.7,2.1,11.0,14.5,7.0,10.1,11.1,11.0,7.9,7.0,11.8,8.2,7.5,15.2,5.0,5.9,10.5,4.8,5.8,13.8,12.6,11.1,4.5,4.1,13.7,1.5,5.9,3.9,5.0,10.9,11.0,7.3,11.2,5.3,4.2,13.5,12.8,9.5,17.9,3.6,9.6,7.7,7.8,17.6,7.8,6.5,5.5,7.1,9.4,6.0,6.4,8.4,6.9,5.4,5.1,11.0,3.1,11.4,14.0,3.9,6.4,4.1,7.9,9.5,9.9,14.7,3.5,7.4,5.3,3.8,12.5,10.9,10.8,5.4,11.0,3.7,5.2,14.6,14.8,13.2,14.7,4.9,6.0,6.8,6.5,12.8,9.1,4.7,12.2,2.0,10.9,9.8,10.8,4.2,5.9,14.2,10.5,6.3,9.6,9.0,18.3,2.8,5.5,8.5,5.5,13.5,14.4,9.5,11.1,7.4,8.7,14.2,14.6,11.0,6.4,6.4,7.0,7.9,5.3,5.7,6.9,7.8,14.3,7.0,2.1,12.9,16.5,4.9,2.7,10.3,5.2,3.9,6.1,7.3,3.3,3.8,13.4,4.5,12.8,10.1,14.6,8.6,5.3,6.2,7.6,5.1,6.3,3.1,1.9,2.8,10.6,6.2,5.5,9.4,10.3,11.7,11.0,11.0,5.3,10.3,8.0,7.0,6.8,4.7,8.0,6.3,10.1,7.3,7.6,4.2,12.6,16.2,7.4,7.2,6.7,6.5,4.3,4.8,9.6,8.9,8.0,8.5,14.3,13.8,7.0,8.9,5.0,5.6,9.7,5.9,10.1,12.8,11.5,10.9,11.2,4.5,5.9,8.2,14.3,4.0,5.7,11.9,18.3,5.1,2.9,7.1,3.0,10.1,9.2,7.4,7.0,7.8,6.2,12.3,13.0,9.0,11.8,5.8,17.3,15.2,10.0,3.0,5.4,3.8,7.9,9.5,11.2,6.5,3.6,12.5,3.1,4.1,6.6,9.8,4.5,16.7,19.1,7.6,8.5,7.2,4.5,5.2,14.4,9.1,7.0,2.7,4.6,10.9,15.7,6.9,8.1,8.0,15.0,7.4,2.8,2.3,2.7,10.5,7.4,6.3,6.9,9.2,6.9,4.2,11.2,14.8,5.9,4.5,7.5,20.7,6.9,6.5,14.3,2.7,13.4,7.8,11.3,4.6,5.6,6.3,5.6,11.2,5.0,7.8,4.8,6.3,12.0,8.6,9.3,12.5,4.4,6.7,11.1,5.5,13.4,3.6,2.5,6.8,8.6,5.4,8.6,4.6,7.3,16.9,10.9,6.2,8.1,5.5,15.7,14.4,7.2,7.6,11.9,17.5,6.1,2.7,4.8,8.3,4.9,7.4,7.5,4.5,9.4,13.2,6.6,7.6,14.1,8.0,6.2,9.5,7.4,5.1,7.4,3.8,5.3,7.4,18.1,19.3,3.7,9.1,3.4,6.5,5.2,4.1,9.0,5.6,9.1,7.6,6.8,9.7,7.3,7.3,5.1,15.2,6.6,8.2,12.0,4.5,2.7,16.0,5.5,3.8,6.4,1.9,11.0,2.2,3.2,13.6,5.0,4.4,7.8,11.5,6.1,9.0,13.0,13.5,18.5,12.1,11.2,4.7,1.7,4.4,16.0,6.6,8.9,5.9,10.5,4.6,4.3,8.2,14.1,11.5,15.4,4.9,8.3,14.7,5.8,5.8,7.3,17.0,10.1,14.9,6.8,13.5,4.8,10.7,2.8,5.8,8.5,16.7,4.1,4.0,12.5,4.8,16.1,3.3,9.9,16.0,5.6,8.2,7.0,15.9,5.0,8.6,13.4,4.9,1.9,5.5,7.1,9.3,13.3,13.2,1.7,4.8,10.1,17.1,6.4,2.6,4.2,15.2,18.1,14.1,4.6,7.5,10.1,6.2,7.2,12.1,5.6,3.1,7.5,4.9,11.1,5.1,4.8,4.0,7.2,14.6,5.6,4.8,2.7,3.9,12.3,7.0,8.6,3.8,8.4,9.6,8.2,2.2,3.6,19.0,10.6,10.7,10.3,9.9,5.3,15.1,8.4,4.4,4.4,11.8,9.0,6.8,3.1,6.6,8.5,5.4,2.0,6.4,7.2,12.9,5.7,11.9,20.7,8.5,3.9,3.6,17.1,16.0,6.6,2.6,4.9,6.7,2.8,8.9,7.2,12.6,7.7,8.6,9.3,4.5,5.8,10.8,8.2,8.0,16.6,5.9,18.9,7.1,16.2,14.1,8.2,5.8,4.7,7.2,11.0,7.5,9.6,2.0,6.4,4.8,9.3,8.4,6.4,7.1,13.5,5.3,11.2,2.5,11.3,7.5,4.1,6.3,9.9,9.0,11.1,8.6,5.5,22.5,11.2,5.4,6.9,6.0,13.6,3.7,5.2,5.2,8.3,6.7,14.3,6.3,5.4,10.9,9.7,10.6,27.1,3.9,9.3,4.7,5.9,7.9,8.2,6.6,8.3,13.2,3.5,4.9,6.5,11.2,8.5,7.5,8.3,6.8,15.7,7.2,11.4,10.5,6.3,14.9,8.4,8.1,6.5,1.8,6.2,9.7,10.8,8.4,15.7,12.0,12.4,11.3,9.1,14.5,17.4,6.7,14.8,5.8,10.0,5.9,4.1,3.3,5.3,7.4,6.3,8.1,10.4,7.3,7.0,10.1,9.6,11.5,5.4,8.7,9.6,8.7,10.4,18.1,3.7,16.8,13.5,16.3,1.3,4.6,3.2,7.9,9.7,9.4,6.0,3.9,10.8,5.6,5.9,4.7,4.7,8.9,3.9,8.7,13.9,8.2,8.7,10.2,17.8,11.0,11.2,3.7,4.7,10.1,2.3,4.0,4.8,5.3,8.1,14.3,18.8,4.5,7.6,7.8,10.1,3.0,8.9,12.8,7.7,10.5,14.8,19.1,6.2,3.7,7.1,13.4,9.8,10.3,4.0,5.9,7.8,16.3,3.7,4.9,7.6,5.6,4.5,3.0,4.7,5.7,7.7,9.7,3.4,13.7,10.8,7.0,7.2,10.8,8.7,6.4,2.7,8.0,5.2,6.3,7.3,6.1,12.6,8.8,2.2,5.4,27.2,2.3,12.0,9.9,9.7,14.8,11.4,10.3,12.6,8.7,12.8,12.5,7.9,5.3,9.4,7.1,6.1,6.8,16.4,5.1,7.1,9.6,9.5,5.9,15.6,6.5,9.1,18.2,16.4,10.7,13.7,2.2,6.0,9.5,8.9,8.0,8.4,17.6,5.7,6.4,14.0,8.9,7.9,12.4,11.1,13.8,8.7,10.0,22.8,12.3,5.8,6.6,5.2,14.1,7.4,7.9,8.7,5.8,12.5,6.8,20.8,8.9,4.4,4.3,6.4,11.2,2.2,24.9,7.7,2.9,12.2,9.3,6.2,7.9,16.2,11.9,7.9,9.2,7.8,12.1,24.3,9.0,7.6,12.7,6.7,15.7,8.0,12.2,7.5,11.0,19.8,3.1,19.6,10.6,5.9,3.5,13.7,9.7,9.9,15.6,13.0,9.0,12.6,7.6,5.8,4.6,3.5,11.6,19.1,12.2,5.9,8.6,6.8,6.4,4.8,12.6,5.3,6.7,20.4,4.5,7.9,6.8,6.9,7.0,5.7,10.6,5.2,14.0,12.7,7.1,2.0,8.9,5.5,7.9,11.2,4.0,7.2,17.7,6.0,17.7,6.4,5.9,19.2,19.5,11.4,19.5,23.1,5.1,4.8,12.4,10.9,8.0,16.9,7.0,13.1,11.1,6.6,16.4,9.0,13.8,6.0,23.8,6.0,8.8,22.1,6.6,24.6,5.9,13.1,7.3,8.7,14.3,14.1,9.6,10.8,10.1,7.6,5.0,13.4,8.7,8.2,17.1,5.4,6.5,6.9,5.6,8.4,6.7,4.9,8.1,8.8,4.9,10.4,11.2,4.9,6.9,11.6,7.7,9.1,4.5,9.0,19.2,8.5,14.2,6.4,21.8,7.5,5.6,8.1,3.2,10.1,11.6,2.8,8.3,5.5,10.3,6.2,10.6,7.8,11.6,12.4,11.3,9.0,5.5,9.3,13.9,6.1,9.6,6.6,17.4,13.0,19.3,15.0,4.2,12.4,5.7,9.2,7.7,10.1,11.8,5.9,14.1,5.2,6.7,7.9,11.4,11.1,8.6,15.4,17.7,12.2,6.7,8.1,10.5,7.3,6.7,12.3,4.9,10.4,7.1,13.0,15.5,4.9,9.8,19.8,5.9,11.1,7.6,14.2,4.3,17.7,7.2,23.5,10.9,9.4,10.4,6.1,12.0,5.3,8.4,23.2,12.0,4.7,18.9,8.1,6.9,12.9,12.7,7.6,19.7,11.3,5.9,6.0,9.6,9.0,5.4,6.3,6.9,12.7,3.1,7.8,6.2,8.7,18.5,9.1,15.9,14.6,5.2,5.6,8.5,11.7,6.8,8.2,5.9,12.5,7.0,6.5,14.4,8.2,13.7,5.2,6.1,4.1,8.3,4.8,7.3,16.3,16.5,26.0,5.4,8.1,15.5,10.4,7.6,15.7,3.8,6.4,5.8,10.5,4.6,5.9,6.9,7.4,7.7,4.6,6.2,4.0,13.5,15.9,14.2,10.0,9.0,4.4,8.2,7.5,7.6,19.1,10.7,11.5,14.5,23.9,5.7,5.2,7.9,11.6,20.9,16.5,9.3,3.7,9.9,11.3,6.5,5.2,15.6,15.4,11.9,10.0,5.5,10.3,10.9,7.1,10.5,10.4,6.4,6.2,4.6,3.4,5.2,5.4,10.2,4.6,5.7,4.4,6.0,7.3,2.5,10.2,7.6,6.1,20.0,8.4,16.3,12.8,9.0,5.9,11.9,8.5,13.5,9.4,8.4,5.8,11.9,15.8,5.4,4.4,6.4,5.2,6.5,11.4,7.7,9.0,9.4,26.4,13.6,11.3,13.4,8.4,7.7,7.5,7.2,18.2,9.7,6.6,2.9,25.3,6.4,12.2,3.8],\"xaxis\":\"x\",\"y\":[259,261,318,303,239,598,534,482,262,258,414,217,276,288,540,268,293,365,264,175,317,201,622,586,332,442,323,212,505,845,479,300,307,338,325,615,224,438,334,343,633,344,370,384,285,291,364,817,596,5,414,437,341,351,524,321,343,345,371,506,637,325,565,699,315,905,324,371,411,421,486,292,511,529,313,553,687,413,316,442,504,716,348,431,515,462,362,474,706,750,479,265,423,634,971,1057,736,764,874,801,353,727,297,582,272,772,279,348,712,451,811,778,436,926,295,453,491,271,309,589,755,670,1048,652,565,310,814,605,607,550,223,314,566,254,410,776,742,804,454,782,559,551,468,73,580,789,1254,678,724,790,186,783,522,921,416,774,792,766,929,725,646,789,817,742,964,357,445,543,297,750,551,849,320,732,524,597,735,261,380,571,590,352,548,414,188,294,618,403,342,747,372,599,681,350,263,648,378,604,479,376,309,681,434,427,306,597,743,686,698,506,357,329,335,198,586,403,222,396,704,647,426,541,447,361,525,486,241,586,358,790,379,306,524,361,465,465,149,767,303,486,453,446,262,337,639,682,1041,516,254,547,635,447,505,283,556,865,248,605,339,640,611,450,437,578,331,303,244,418,411,403,702,278,755,568,746,508,423,283,568,788,725,552,1124,638,842,445,480,733,523,787,446,325,431,631,344,327,869,133,705,283,1002,274,300,337,682,318,784,590,682,930,410,416,333,562,963,379,333,457,652,271,636,479,455,610,402,309,842,837,267,642,578,413,976,760,350,555,877,430,236,601,313,361,521,794,341,349,542,536,966,340,327,464,675,685,788,510,541,659,435,307,690,239,263,695,366,348,1299,321,415,766,357,338,312,703,486,516,322,507,555,752,297,224,706,459,453,388,437,722,473,356,337,821,650,566,426,658,147,446,725,598,739,550,347,658,315,1021,904,659,906,688,446,650,772,988,529,488,513,813,726,474,218,825,418,606,670,446,318,849,672,425,673,678,946,617,204,814,821,124,366,729,886,468,536,928,750,343,456,341,673,986,510,480,719,351,448,372,355,452,319,565,627,213,718,961,835,418,1199,420,693,435,802,1168,292,674,680,437,691,586,593,768,696,655,946,919,229,993,312,1156,1033,476,761,891,323,82,464,272,679,328,893,873,556,759,935,482,842,1026,493,345,501,871,984,700,963,599,629,586,823,600,496,535,305,595,518,784,259,374,591,683,694,665,438,305,984,468,748,1068,361,765,612,303,674,363,957,329,454,598,705,520,474,810,551,714,883,291,569,319,938,407,786,1117,340,250,836,465,417,534,953,1307,415,1042,1138,510,620,1199,505,596,296,468,206,1102,576,291,332,707,243,564,880,920,169,388,923,520,851,282,261,980,212,626,1107,238,195,155,260,830,695,179,408,540,752,665,985,687,531,875,278,648,724,528,407,969,779,324,578,957,1183,687,756,28,575,1073,85,873,1209,720,328,1199,864,385,818,249,680,905,772,502,260,1090,389,216,681,543,768,507,951,679,403,928,779,987,204,574,322,731,788,612,1153,491,253,1424,274,361,1140,325,1257,188,664,511,1286,526,386,483,360,690,893,1278,807,720,532,283,1282,1136,793,900,443,965,612,784,624,653,194,396,112,814,207,515,1274,1065,235,840,870,170,227,300,548,398,505,943,275,740,1083,474,887,1077,748,435,541,1159,494,448,684,420,325,722,626,796,375,377,379,1009,280,600,280,238,929,111,656,886,169,334,937,680,1165,136,592,646,737,649,735,375,1296,889,1058,450,206,264,191,467,511,737,461,1054,943,303,142,747,80,955,883,412,583,449,552,1003,783,983,341,438,218,321,866,604,441,797,413,295,241,666,867,1094,678,680,910,481,312,855,771,792,555,197,882,747,704,178,694,1380,850,504,676,766,1000,274,359,672,431,889,800,474,639,281,994,742,1051,765,438,480,310,237,687,256,318,852,609,917,68,629,781,541,217,1044,640,656,212,475,720,486,966,89,454,689,586,732,615,276,336,746,220,238,174,170,678,683,457,801,316,600,413,467,465,700,1094,492,456,249,296,549,508,757,432,78,858,707,270,567,251,379,584,655,930,552,1001,300,942,724,119,286,617,352,827,418,586,868,915,319,827,499,157,685,885,477,821,624,913,496,148,200,253,493,552,493,1107,259,749,483,763,659,708,715,839,704,903,187,914,269,841,825,568,579,644,949,186,845,774,307,207,563,611,381,937,800,667,362,880,1089,535,186,335,866,993,383,832,402,791,793,181,143,147,756,298,630,541,840,514,327,957,954,296,465,789,688,277,786,923,401,1208,277,736,281,449,456,259,733,247,652,587,266,1015,657,912,395,472,297,822,307,878,403,119,846,658,541,506,756,462,970,1030,294,1110,230,1103,1109,810,708,565,893,873,417,359,1287,226,987,501,201,576,1011,587,381,507,778,813,973,295,445,709,203,445,719,830,846,225,545,371,610,593,733,460,793,494,872,659,755,729,260,142,1043,252,440,615,776,208,575,541,662,318,153,534,286,337,432,98,506,236,824,837,517,843,981,1083,591,868,608,102,243,747,657,652,334,788,260,358,353,727,665,212,587,500,1001,564,1005,552,804,563,1049,811,736,438,649,230,325,554,1541,270,477,1304,623,835,366,696,827,630,294,278,1058,570,864,1410,764,135,262,471,632,961,991,414,470,671,921,230,507,448,1163,576,651,456,436,446,344,824,643,205,187,717,619,997,380,315,450,680,1327,151,341,145,592,757,728,306,69,387,289,605,453,167,629,1032,711,783,706,263,858,547,137,134,797,466,816,520,569,376,695,601,878,303,527,409,832,552,547,542,735,857,1277,607,215,478,562,173,49,342,1181,886,977,334,400,644,729,1160,737,1116,215,846,317,861,881,628,300,527,465,790,430,384,72,499,629,895,436,346,447,634,375,986,233,965,809,809,518,487,274,1017,1064,421,1260,735,624,495,468,1034,472,316,709,427,509,507,671,782,879,1232,850,1366,151,830,564,348,548,929,459,557,818,157,567,870,429,622,872,731,1098,915,632,1223,514,516,744,831,507,606,234,582,432,985,549,1242,616,977,878,391,894,714,800,902,792,419,910,458,492,581,564,833,820,1118,330,870,564,706,418,297,758,849,890,656,1155,644,586,829,845,82,140,336,549,658,526,225,243,867,618,377,473,242,895,316,409,1123,348,580,1072,833,618,971,544,473,487,146,239,179,200,360,550,326,241,403,397,825,292,831,940,504,208,1023,1076,239,428,777,1085,957,752,221,299,502,1064,518,353,408,314,361,281,467,869,402,645,318,950,762,428,600,513,819,328,342,514,618,286,904,616,1051,672,490,433,939,135,743,806,860,958,720,691,651,684,1085,676,272,293,564,252,730,481,868,243,222,811,976,138,728,503,980,672,749,869,888,151,181,534,588,821,586,812,686,689,891,646,705,609,915,547,939,662,1021,649,261,417,293,555,189,407,819,715,711,424,957,578,261,267,691,535,224,942,747,237,826,539,635,409,839,483,588,820,206,903,826,896,394,551,428,594,770,898,711,660,724,339,654,790,722,384,756,705,352,734,646,401,511,719,247,153,250,480,613,281,423,554,255,238,381,271,471,719,737,355,355,454,532,609,185,625,738,451,440,728,177,428,218,598,748,149,461,550,241,690,377,151,576,741,478,647,611,399,388,718,715,200,741,360,703,665,456,753,730,718,285,604,522,655,645,314,711,271,419,251,685,645,747,735,269,573,445,171,695,576,657,651,472,356,621,447,446,555,346,324,526,337,234,670,313,414,623,570,381,307,556,590,494,621,477,656,597,330,235,206,610,683,103,661,447,391,432,504,434,537,611,377,278,448,664,586,601,498,339,462,528,598,603,105,471,245,527,511,500,468,304,310,236,395,487,555,414,590,600,518,411,505,452,520,450,343,319,339,448,345,387,332,289,354,478,286,453,279,222,252,424,411,477,302,377,247,279,438,242,315,482,479,367,337,396,330,458,431,449,527,421,417,387,376,305,201,419,481,477,127,449,455,422,368,406,468,318,183,199,204,356,237,387,296,320,256,280,415,394,348,142,305,83,360,243,416,345,403,328,297,245,333,336,292,400,199,188,285,370,263,328,388,306,259,202,225,182,343,275,316,327,231,146,216,213,306,322,216,263,272,345,108,269,256,341,365,293,136,161,296,291,255,262,342,282,252,297,148,309,131,326,280,301,105,370,217,284,175,264,170,167,300,226,182,245,72,211,269,143,218,235,236,240,201,170,239,213,204,192,207,165,277,204,166,223,244,163,200,274,212,262,208,264,166,309,291,230,226,196,174,243,178,220,87,280,221,203,121],\"yaxis\":\"y\",\"type\":\"scattergl\"},{\"customdata\":[[\"Joe Fulks\"],[\"Andy Phillip\"],[\"Carl Braun\"],[\"Arnie Risen\"],[\"Bob Davies\"],[\"Bobby Wanzer\"],[\"George Mikan\"],[\"Harry Gallatin\"],[\"Jim Pollard\"],[\"Red Holzman\"],[\"Alex Hannum\"],[\"Dick McGuire\"],[\"Dolph Schayes\"],[\"Ed Macauley\"],[\"Slater Martin\"],[\"Vern Mikkelsen\"],[\"Bill Sharman\"],[\"Bob Cousy\"],[\"Chuck Cooper\"],[\"Earl Lloyd\"],[\"Nat Clifton\"],[\"Paul Arizin\"],[\"Neil Johnston\"],[\"Bob Houbregs\"],[\"Clyde Lovellette\"],[\"George Yardley\"],[\"Bob Pettit\"],[\"Frank Ramsey\"],[\"Larry Costello\"],[\"Jack Twyman\"],[\"Tom Gola\"],[\"Bill Russell\"],[\"Cliff Hagan\"],[\"Richie Guerin\"],[\"Slick Leonard\"],[\"Tom Heinsohn\"],[\"Sam Jones\"],[\"Elgin Baylor\"],[\"Guy Rodgers\"],[\"Hal Greer\"],[\"K.C. Jones\"],[\"Wayne Embry\"],[\"Bailey Howell\"],[\"Wilt Chamberlain\"],[\"Al Attles\"],[\"Jerry West\"],[\"Lenny Wilkens\"],[\"Oscar Robertson\"],[\"Tom Sanders\"],[\"Walt Bellamy\"],[\"Chet Walker\"],[\"Dave DeBusschere\"],[\"Don Nelson\"],[\"John Havlicek\"],[\"Zelmo Beaty\"],[\"Gus Johnson\"],[\"Jerry Lucas\"],[\"Nate Thurmond\"],[\"Rod Thorn\"],[\"Willis Reed\"],[\"Billy Cunningham\"],[\"Gail Goodrich\"],[\"Jerry Sloan\"],[\"Rick Barry\"],[\"Dave Bing\"],[\"Lou Hudson\"],[\"Bill Bradley\"],[\"Connie Hawkins\"],[\"Earl Monroe\"],[\"Larry Brown\"],[\"Louie Dampier\"],[\"Mel Daniels\"],[\"Pat Riley\"],[\"Phil Jackson\"],[\"Roger Brown\"],[\"Walt Frazier\"],[\"Elvin Hayes\"],[\"Rick Adelman\"],[\"Wes Unseld\"],[\"Bob Dandridge\"],[\"Jo Jo White\"],[\"Kareem Abdul-Jabbar\"],[\"Spencer Haywood\"],[\"Bob Lanier\"],[\"Calvin Murphy\"],[\"Charlie Scott\"],[\"Dan Issel\"],[\"Dave Cowens\"],[\"Pete Maravich\"],[\"Rudy Tomjanovich\"],[\"Tiny Archibald\"],[\"Artis Gilmore\"],[\"George McGinnis\"],[\"Julius Erving\"],[\"Bob McAdoo\"],[\"George Gervin\"],[\"Paul Westphal\"],[\"George Karl\"],[\"Bill Walton\"],[\"Bobby Jones\"],[\"Jamaal Wilkes\"],[\"Moses Malone\"],[\"David Thompson\"],[\"Adrian Dantley\"],[\"Alex English\"],[\"Dennis Johnson\"],[\"Robert Parish\"],[\"Bernard King\"],[\"Jack Sikma\"],[\"Maurice Cheeks\"],[\"Larry Bird\"],[\"Magic Johnson\"],[\"Sidney Moncrief\"],[\"Kevin McHale\"],[\"Isiah Thomas\"],[\"Dominique Wilkins\"],[\"James Worthy\"],[\"Clyde Drexler\"],[\"Ralph Sampson\"],[\"Charles Barkley\"],[\"Hakeem Olajuwon\"],[\"John Stockton\"],[\"Michael Jordan\"],[\"Chris Mullin\"],[\"Joe Dumars\"],[\"Karl Malone\"],[\"Patrick Ewing\"],[\"Dennis Rodman\"],[\"Reggie Miller\"],[\"Scottie Pippen\"],[\"Mitch Richmond\"],[\"David Robinson\"],[\"\\u0160ar\\u016bnas Mar\\u010diulionis\"],[\"Tim Hardaway\"],[\"Vlade Divac\"],[\"Gary Payton\"],[\"Dikembe Mutombo\"],[\"Alonzo Mourning\"],[\"Shaquille O'Neal\"],[\"Chris Webber\"],[\"Toni Kuko\\u010d\"],[\"Grant Hill\"],[\"Jason Kidd\"],[\"Arvydas Sabonis\"],[\"Kevin Garnett\"],[\"Allen Iverson\"],[\"Ben Wallace\"],[\"Kobe Bryant\"],[\"Ray Allen\"],[\"Steve Nash\"],[\"Tim Duncan\"],[\"Tracy McGrady\"],[\"Dirk Nowitzki\"],[\"Paul Pierce\"],[\"Pau Gasol\"],[\"Tony Parker\"],[\"Manu Gin\\u00f3bili\"],[\"Yao Ming\"],[\"Chris Bosh\"],[\"Dwyane Wade\"]],\"hovertemplate\":\"hof=1\\u003cbr\\u003ePTS=%{x}\\u003cbr\\u003eG=%{y}\\u003cbr\\u003eplayer=%{customdata[0]}\\u003cextra\\u003e\\u003c\\u002fextra\\u003e\",\"legendgroup\":\"1\",\"marker\":{\"color\":\"#EF553B\",\"symbol\":\"circle\"},\"mode\":\"markers\",\"name\":\"1\",\"showlegend\":true,\"x\":[16.4,9.1,13.5,12.0,14.3,12.2,23.1,13.0,13.2,6.1,6.0,8.0,18.5,17.5,9.8,14.4,17.8,18.4,6.7,8.4,10.0,22.8,19.4,9.3,17.0,19.2,26.4,13.4,12.2,19.2,11.3,15.1,17.7,17.3,9.9,18.6,17.7,27.4,11.7,19.2,7.4,12.5,18.7,30.1,8.9,27.0,16.5,25.7,9.6,20.1,18.2,16.1,10.3,20.8,17.1,16.2,17.0,15.0,10.8,18.7,21.2,18.6,14.0,24.8,20.3,20.2,12.4,18.7,18.8,11.2,15.9,18.4,7.4,6.7,2.4,18.9,21.0,7.7,10.8,18.5,17.2,24.6,20.3,20.1,17.9,20.7,22.6,17.6,24.2,17.4,18.8,18.8,20.2,24.2,22.1,25.1,15.6,6.5,13.3,3.2,17.7,20.3,22.7,24.3,21.5,14.1,14.5,22.5,15.6,11.1,24.3,19.5,15.6,17.9,19.2,24.8,17.6,20.4,15.4,22.1,21.8,13.1,30.1,18.2,16.1,25.0,0.4,7.3,18.2,16.1,21.0,21.1,12.8,17.7,11.8,16.3,9.8,17.1,23.7,20.7,11.6,16.7,12.6,12.0,17.8,26.7,5.7,25.0,18.9,14.3,19.0,19.6,20.7,19.7,17.0,15.5,13.3,19.0,19.2,22.0],\"xaxis\":\"x\",\"y\":[489,701,788,637,462,568,439,682,438,358,516,738,996,641,745,699,711,924,409,560,544,713,516,281,704,472,792,623,706,823,698,963,839,848,426,654,871,846,892,1122,676,831,950,1045,711,932,1077,1040,916,1043,1032,875,1053,1270,889,631,829,964,466,650,770,1031,755,1020,901,890,742,616,926,376,960,639,528,807,239,825,1303,462,984,839,837,1560,844,959,1002,717,1218,766,658,768,876,1329,842,1243,852,1060,823,264,468,91,828,1455,592,955,1193,1100,1611,874,1107,1101,897,906,767,971,979,1074,926,1086,456,1073,1238,1504,1072,986,1018,1476,7,911,1389,1178,976,987,363,867,1134,1335,1196,838,1207,831,846,1026,1391,470,1462,914,1088,1346,1300,1217,1392,938,1522,1343,1226,1254,1057,486,893,1054],\"yaxis\":\"y\",\"type\":\"scattergl\"}],                        {\"template\":{\"data\":{\"histogram2dcontour\":[{\"type\":\"histogram2dcontour\",\"colorbar\":{\"outlinewidth\":0,\"ticks\":\"\"},\"colorscale\":[[0.0,\"#0d0887\"],[0.1111111111111111,\"#46039f\"],[0.2222222222222222,\"#7201a8\"],[0.3333333333333333,\"#9c179e\"],[0.4444444444444444,\"#bd3786\"],[0.5555555555555556,\"#d8576b\"],[0.6666666666666666,\"#ed7953\"],[0.7777777777777778,\"#fb9f3a\"],[0.8888888888888888,\"#fdca26\"],[1.0,\"#f0f921\"]]}],\"choropleth\":[{\"type\":\"choropleth\",\"colorbar\":{\"outlinewidth\":0,\"ticks\":\"\"}}],\"histogram2d\":[{\"type\":\"histogram2d\",\"colorbar\":{\"outlinewidth\":0,\"ticks\":\"\"},\"colorscale\":[[0.0,\"#0d0887\"],[0.1111111111111111,\"#46039f\"],[0.2222222222222222,\"#7201a8\"],[0.3333333333333333,\"#9c179e\"],[0.4444444444444444,\"#bd3786\"],[0.5555555555555556,\"#d8576b\"],[0.6666666666666666,\"#ed7953\"],[0.7777777777777778,\"#fb9f3a\"],[0.8888888888888888,\"#fdca26\"],[1.0,\"#f0f921\"]]}],\"heatmap\":[{\"type\":\"heatmap\",\"colorbar\":{\"outlinewidth\":0,\"ticks\":\"\"},\"colorscale\":[[0.0,\"#0d0887\"],[0.1111111111111111,\"#46039f\"],[0.2222222222222222,\"#7201a8\"],[0.3333333333333333,\"#9c179e\"],[0.4444444444444444,\"#bd3786\"],[0.5555555555555556,\"#d8576b\"],[0.6666666666666666,\"#ed7953\"],[0.7777777777777778,\"#fb9f3a\"],[0.8888888888888888,\"#fdca26\"],[1.0,\"#f0f921\"]]}],\"heatmapgl\":[{\"type\":\"heatmapgl\",\"colorbar\":{\"outlinewidth\":0,\"ticks\":\"\"},\"colorscale\":[[0.0,\"#0d0887\"],[0.1111111111111111,\"#46039f\"],[0.2222222222222222,\"#7201a8\"],[0.3333333333333333,\"#9c179e\"],[0.4444444444444444,\"#bd3786\"],[0.5555555555555556,\"#d8576b\"],[0.6666666666666666,\"#ed7953\"],[0.7777777777777778,\"#fb9f3a\"],[0.8888888888888888,\"#fdca26\"],[1.0,\"#f0f921\"]]}],\"contourcarpet\":[{\"type\":\"contourcarpet\",\"colorbar\":{\"outlinewidth\":0,\"ticks\":\"\"}}],\"contour\":[{\"type\":\"contour\",\"colorbar\":{\"outlinewidth\":0,\"ticks\":\"\"},\"colorscale\":[[0.0,\"#0d0887\"],[0.1111111111111111,\"#46039f\"],[0.2222222222222222,\"#7201a8\"],[0.3333333333333333,\"#9c179e\"],[0.4444444444444444,\"#bd3786\"],[0.5555555555555556,\"#d8576b\"],[0.6666666666666666,\"#ed7953\"],[0.7777777777777778,\"#fb9f3a\"],[0.8888888888888888,\"#fdca26\"],[1.0,\"#f0f921\"]]}],\"surface\":[{\"type\":\"surface\",\"colorbar\":{\"outlinewidth\":0,\"ticks\":\"\"},\"colorscale\":[[0.0,\"#0d0887\"],[0.1111111111111111,\"#46039f\"],[0.2222222222222222,\"#7201a8\"],[0.3333333333333333,\"#9c179e\"],[0.4444444444444444,\"#bd3786\"],[0.5555555555555556,\"#d8576b\"],[0.6666666666666666,\"#ed7953\"],[0.7777777777777778,\"#fb9f3a\"],[0.8888888888888888,\"#fdca26\"],[1.0,\"#f0f921\"]]}],\"mesh3d\":[{\"type\":\"mesh3d\",\"colorbar\":{\"outlinewidth\":0,\"ticks\":\"\"}}],\"scatter\":[{\"fillpattern\":{\"fillmode\":\"overlay\",\"size\":10,\"solidity\":0.2},\"type\":\"scatter\"}],\"parcoords\":[{\"type\":\"parcoords\",\"line\":{\"colorbar\":{\"outlinewidth\":0,\"ticks\":\"\"}}}],\"scatterpolargl\":[{\"type\":\"scatterpolargl\",\"marker\":{\"colorbar\":{\"outlinewidth\":0,\"ticks\":\"\"}}}],\"bar\":[{\"error_x\":{\"color\":\"#2a3f5f\"},\"error_y\":{\"color\":\"#2a3f5f\"},\"marker\":{\"line\":{\"color\":\"#E5ECF6\",\"width\":0.5},\"pattern\":{\"fillmode\":\"overlay\",\"size\":10,\"solidity\":0.2}},\"type\":\"bar\"}],\"scattergeo\":[{\"type\":\"scattergeo\",\"marker\":{\"colorbar\":{\"outlinewidth\":0,\"ticks\":\"\"}}}],\"scatterpolar\":[{\"type\":\"scatterpolar\",\"marker\":{\"colorbar\":{\"outlinewidth\":0,\"ticks\":\"\"}}}],\"histogram\":[{\"marker\":{\"pattern\":{\"fillmode\":\"overlay\",\"size\":10,\"solidity\":0.2}},\"type\":\"histogram\"}],\"scattergl\":[{\"type\":\"scattergl\",\"marker\":{\"colorbar\":{\"outlinewidth\":0,\"ticks\":\"\"}}}],\"scatter3d\":[{\"type\":\"scatter3d\",\"line\":{\"colorbar\":{\"outlinewidth\":0,\"ticks\":\"\"}},\"marker\":{\"colorbar\":{\"outlinewidth\":0,\"ticks\":\"\"}}}],\"scattermapbox\":[{\"type\":\"scattermapbox\",\"marker\":{\"colorbar\":{\"outlinewidth\":0,\"ticks\":\"\"}}}],\"scatterternary\":[{\"type\":\"scatterternary\",\"marker\":{\"colorbar\":{\"outlinewidth\":0,\"ticks\":\"\"}}}],\"scattercarpet\":[{\"type\":\"scattercarpet\",\"marker\":{\"colorbar\":{\"outlinewidth\":0,\"ticks\":\"\"}}}],\"carpet\":[{\"aaxis\":{\"endlinecolor\":\"#2a3f5f\",\"gridcolor\":\"white\",\"linecolor\":\"white\",\"minorgridcolor\":\"white\",\"startlinecolor\":\"#2a3f5f\"},\"baxis\":{\"endlinecolor\":\"#2a3f5f\",\"gridcolor\":\"white\",\"linecolor\":\"white\",\"minorgridcolor\":\"white\",\"startlinecolor\":\"#2a3f5f\"},\"type\":\"carpet\"}],\"table\":[{\"cells\":{\"fill\":{\"color\":\"#EBF0F8\"},\"line\":{\"color\":\"white\"}},\"header\":{\"fill\":{\"color\":\"#C8D4E3\"},\"line\":{\"color\":\"white\"}},\"type\":\"table\"}],\"barpolar\":[{\"marker\":{\"line\":{\"color\":\"#E5ECF6\",\"width\":0.5},\"pattern\":{\"fillmode\":\"overlay\",\"size\":10,\"solidity\":0.2}},\"type\":\"barpolar\"}],\"pie\":[{\"automargin\":true,\"type\":\"pie\"}]},\"layout\":{\"autotypenumbers\":\"strict\",\"colorway\":[\"#636efa\",\"#EF553B\",\"#00cc96\",\"#ab63fa\",\"#FFA15A\",\"#19d3f3\",\"#FF6692\",\"#B6E880\",\"#FF97FF\",\"#FECB52\"],\"font\":{\"color\":\"#2a3f5f\"},\"hovermode\":\"closest\",\"hoverlabel\":{\"align\":\"left\"},\"paper_bgcolor\":\"white\",\"plot_bgcolor\":\"#E5ECF6\",\"polar\":{\"bgcolor\":\"#E5ECF6\",\"angularaxis\":{\"gridcolor\":\"white\",\"linecolor\":\"white\",\"ticks\":\"\"},\"radialaxis\":{\"gridcolor\":\"white\",\"linecolor\":\"white\",\"ticks\":\"\"}},\"ternary\":{\"bgcolor\":\"#E5ECF6\",\"aaxis\":{\"gridcolor\":\"white\",\"linecolor\":\"white\",\"ticks\":\"\"},\"baxis\":{\"gridcolor\":\"white\",\"linecolor\":\"white\",\"ticks\":\"\"},\"caxis\":{\"gridcolor\":\"white\",\"linecolor\":\"white\",\"ticks\":\"\"}},\"coloraxis\":{\"colorbar\":{\"outlinewidth\":0,\"ticks\":\"\"}},\"colorscale\":{\"sequential\":[[0.0,\"#0d0887\"],[0.1111111111111111,\"#46039f\"],[0.2222222222222222,\"#7201a8\"],[0.3333333333333333,\"#9c179e\"],[0.4444444444444444,\"#bd3786\"],[0.5555555555555556,\"#d8576b\"],[0.6666666666666666,\"#ed7953\"],[0.7777777777777778,\"#fb9f3a\"],[0.8888888888888888,\"#fdca26\"],[1.0,\"#f0f921\"]],\"sequentialminus\":[[0.0,\"#0d0887\"],[0.1111111111111111,\"#46039f\"],[0.2222222222222222,\"#7201a8\"],[0.3333333333333333,\"#9c179e\"],[0.4444444444444444,\"#bd3786\"],[0.5555555555555556,\"#d8576b\"],[0.6666666666666666,\"#ed7953\"],[0.7777777777777778,\"#fb9f3a\"],[0.8888888888888888,\"#fdca26\"],[1.0,\"#f0f921\"]],\"diverging\":[[0,\"#8e0152\"],[0.1,\"#c51b7d\"],[0.2,\"#de77ae\"],[0.3,\"#f1b6da\"],[0.4,\"#fde0ef\"],[0.5,\"#f7f7f7\"],[0.6,\"#e6f5d0\"],[0.7,\"#b8e186\"],[0.8,\"#7fbc41\"],[0.9,\"#4d9221\"],[1,\"#276419\"]]},\"xaxis\":{\"gridcolor\":\"white\",\"linecolor\":\"white\",\"ticks\":\"\",\"title\":{\"standoff\":15},\"zerolinecolor\":\"white\",\"automargin\":true,\"zerolinewidth\":2},\"yaxis\":{\"gridcolor\":\"white\",\"linecolor\":\"white\",\"ticks\":\"\",\"title\":{\"standoff\":15},\"zerolinecolor\":\"white\",\"automargin\":true,\"zerolinewidth\":2},\"scene\":{\"xaxis\":{\"backgroundcolor\":\"#E5ECF6\",\"gridcolor\":\"white\",\"linecolor\":\"white\",\"showbackground\":true,\"ticks\":\"\",\"zerolinecolor\":\"white\",\"gridwidth\":2},\"yaxis\":{\"backgroundcolor\":\"#E5ECF6\",\"gridcolor\":\"white\",\"linecolor\":\"white\",\"showbackground\":true,\"ticks\":\"\",\"zerolinecolor\":\"white\",\"gridwidth\":2},\"zaxis\":{\"backgroundcolor\":\"#E5ECF6\",\"gridcolor\":\"white\",\"linecolor\":\"white\",\"showbackground\":true,\"ticks\":\"\",\"zerolinecolor\":\"white\",\"gridwidth\":2}},\"shapedefaults\":{\"line\":{\"color\":\"#2a3f5f\"}},\"annotationdefaults\":{\"arrowcolor\":\"#2a3f5f\",\"arrowhead\":0,\"arrowwidth\":1},\"geo\":{\"bgcolor\":\"white\",\"landcolor\":\"#E5ECF6\",\"subunitcolor\":\"white\",\"showland\":true,\"showlakes\":true,\"lakecolor\":\"white\"},\"title\":{\"x\":0.05},\"mapbox\":{\"style\":\"light\"}}},\"xaxis\":{\"anchor\":\"y\",\"domain\":[0.0,1.0],\"title\":{\"text\":\"PTS\"}},\"yaxis\":{\"anchor\":\"x\",\"domain\":[0.0,1.0],\"title\":{\"text\":\"G\"}},\"legend\":{\"title\":{\"text\":\"hof\"},\"tracegroupgap\":0},\"margin\":{\"t\":60},\"title\":{\"text\":\"Scatter Plot of PTS vs G for Players with more than 4 seasons\"}},                        {\"responsive\": true}                    ).then(function(){\n",
              "                            \n",
              "var gd = document.getElementById('03c6f492-0c97-4acc-a657-d920c3a2ae37');\n",
              "var x = new MutationObserver(function (mutations, observer) {{\n",
              "        var display = window.getComputedStyle(gd).display;\n",
              "        if (!display || display === 'none') {{\n",
              "            console.log([gd, 'removed!']);\n",
              "            Plotly.purge(gd);\n",
              "            observer.disconnect();\n",
              "        }}\n",
              "}});\n",
              "\n",
              "// Listen for the removal of the full notebook cells\n",
              "var notebookContainer = gd.closest('#notebook-container');\n",
              "if (notebookContainer) {{\n",
              "    x.observe(notebookContainer, {childList: true});\n",
              "}}\n",
              "\n",
              "// Listen for the clearing of the current output cell\n",
              "var outputEl = gd.closest('.output');\n",
              "if (outputEl) {{\n",
              "    x.observe(outputEl, {childList: true});\n",
              "}}\n",
              "\n",
              "                        })                };                            </script>        </div>\n",
              "</body>\n",
              "</html>"
            ]
          },
          "metadata": {}
        }
      ]
    },
    {
      "cell_type": "markdown",
      "source": [
        "So clearly we can see that there is a trend for the HOF players having more point as well as more games played, with them being much more likely to appear in the top right of the diagram. Meaning our machine learning algorithm should hopefully be quite accurate, let us do it for one more data set."
      ],
      "metadata": {
        "id": "Yi8p4BEYpgWS"
      }
    },
    {
      "cell_type": "code",
      "source": [
        "fig = px.scatter(\n",
        "    dsPlayers[dsPlayers['num_seasons'] > 4], x=\"AST\", y=\"TRB\", color='hof',\n",
        "    hover_data=['player']\n",
        ")\n",
        "\n",
        "\n",
        "fig.update_layout(title='Scatter Plot of AST vs TRB for Players with more than 4 seasons')\n",
        "\n",
        "\n",
        "fig.show()"
      ],
      "metadata": {
        "colab": {
          "base_uri": "https://localhost:8080/",
          "height": 542
        },
        "id": "g5HOAhwWrNi9",
        "outputId": "530badac-08c0-4322-cbe9-de4cf3722256"
      },
      "execution_count": 309,
      "outputs": [
        {
          "output_type": "display_data",
          "data": {
            "text/html": [
              "<html>\n",
              "<head><meta charset=\"utf-8\" /></head>\n",
              "<body>\n",
              "    <div>            <script src=\"https://cdnjs.cloudflare.com/ajax/libs/mathjax/2.7.5/MathJax.js?config=TeX-AMS-MML_SVG\"></script><script type=\"text/javascript\">if (window.MathJax && window.MathJax.Hub && window.MathJax.Hub.Config) {window.MathJax.Hub.Config({SVG: {font: \"STIX-Web\"}});}</script>                <script type=\"text/javascript\">window.PlotlyConfig = {MathJaxConfig: 'local'};</script>\n",
              "        <script charset=\"utf-8\" src=\"https://cdn.plot.ly/plotly-2.24.1.min.js\"></script>                <div id=\"62c2e131-f128-45d2-8480-be12dd431f86\" class=\"plotly-graph-div\" style=\"height:525px; width:100%;\"></div>            <script type=\"text/javascript\">                                    window.PLOTLYENV=window.PLOTLYENV || {};                                    if (document.getElementById(\"62c2e131-f128-45d2-8480-be12dd431f86\")) {                    Plotly.newPlot(                        \"62c2e131-f128-45d2-8480-be12dd431f86\",                        [{\"customdata\":[[\"Ariel Maughan\"],[\"Belus Smawley\"],[\"Bones McKinney\"],[\"Chick Halbert\"],[\"Chuck Gilmur\"],[\"Connie Simmons\"],[\"Fred Scolari\"],[\"George Senesky\"],[\"Jerry Fleishman\"],[\"John Logan\"],[\"John Mahnken\"],[\"Johnny Norlander\"],[\"Kenny Sailors\"],[\"Kleggie Hermsen\"],[\"Max Zaslofsky\"],[\"Noble Jorgensen\"],[\"Sonny Hertzberg\"],[\"Stan Miasek\"],[\"Tommy Byrnes\"],[\"Gene Vance\"],[\"Paul Hoffman\"],[\"Paul Noel\"],[\"Paul Seymour\"],[\"Red Rocha\"],[\"Arnie Johnson\"],[\"Bill Calhoun\"],[\"Ed Mikan\"],[\"George Kaftan\"],[\"Jack Nichols\"],[\"Joe Graboski\"],[\"Odie Spears\"],[\"Ray Lumpp\"],[\"Bill Gabor\"],[\"Bob Brannum\"],[\"Bob Harris\"],[\"Bob Harrison\"],[\"Ernie Vandeweghe\"],[\"Frankie Brian\"],[\"Fred Schaus\"],[\"George Ratkovicz\"],[\"Jack Coleman\"],[\"Leo Barnhorst\"],[\"Paul Walther\"],[\"Pep Saul\"],[\"Vince Boryla\"],[\"Cal Christensen\"],[\"Dick Schnittker\"],[\"Larry Foust\"],[\"Chuck Share\"],[\"George King\"],[\"Lew Hitch\"],[\"Mel Hutchins\"],[\"Whitey Skoog\"],[\"Gene Conley\"],[\"Jack McMahon\"],[\"Jim Baechtold\"],[\"Monk Meineke\"],[\"Billy Kenville\"],[\"Ernie Beck\"],[\"Jack George\"],[\"Ray Felix\"],[\"Walt Davis\"],[\"Frank Selvy\"],[\"Gene Shue\"],[\"George Dempsey\"],[\"Red Kerr\"],[\"Togo Palazzi\"],[\"Al Ferrari\"],[\"Chuck Noble\"],[\"Dick Garmaker\"],[\"Ed Conlin\"],[\"Ed Fleming\"],[\"Jim Loscutoff\"],[\"Kenny Sears\"],[\"Med Park\"],[\"Walter Dukes\"],[\"Al Bianchi\"],[\"Dave Piontek\"],[\"Johnny McCarthy\"],[\"Phil Jordon\"],[\"Si Green\"],[\"Willie Naulls\"],[\"Charlie Tyra\"],[\"Hot Rod Hundley\"],[\"Jim Krebs\"],[\"Woody Sauldsberry\"],[\"Barney Cable\"],[\"Bucky Bockhorn\"],[\"Connie Dierking\"],[\"Dave Gambee\"],[\"Hub Reed\"],[\"Larry Staverman\"],[\"Mike Farmer\"],[\"Bob Ferry\"],[\"Dick Barnett\"],[\"Johnny Green\"],[\"Rudy LaRusso\"],[\"Tom Hawkins\"],[\"Bob Boozer\"],[\"Darrall Imhoff\"],[\"Dave Budd\"],[\"Don Ohl\"],[\"George Lee\"],[\"Jackie Moreland\"],[\"Willie Jones\"],[\"Adrian Smith\"],[\"Donnie Butcher\"],[\"Gary Phillips\"],[\"Johnny Egan\"],[\"Paul Neumann\"],[\"Ray Scott\"],[\"Tom Meschery\"],[\"Ben Warley\"],[\"Bill Bridges\"],[\"Bill McGill\"],[\"Bud Olsen\"],[\"Chico Vaughn\"],[\"Gene Tormohlen\"],[\"Gene Wiley\"],[\"John Barnhill\"],[\"Kevin Loughery\"],[\"Len Chappell\"],[\"Leroy Ellis\"],[\"Terry Dischinger\"],[\"Wayne Hightower\"],[\"Art Heyman\"],[\"Don Kojis\"],[\"Eddie Miles\"],[\"Jim King\"],[\"Larry Siegfried\"],[\"Tom Hoover\"],[\"Tom Thacker\"],[\"Em Bryant\"],[\"Gary Bradds\"],[\"George Wilson\"],[\"Happy Hairston\"],[\"Howard Komives\"],[\"Jeff Mullins\"],[\"Jim Barnes\"],[\"Joe Caldwell\"],[\"John Tresvant\"],[\"Larry Jones\"],[\"Les Hunter\"],[\"Luke Jackson\"],[\"McCoy McLemore\"],[\"Mel Counts\"],[\"Paul Silas\"],[\"Wali Jones\"],[\"Walt Hazzard\"],[\"Barry Clemens\"],[\"Bob Warlick\"],[\"Bob Weiss\"],[\"Dave Stallworth\"],[\"Dick Van Arsdale\"],[\"Fred Hetzel\"],[\"Jim Washington\"],[\"Jon McGlocklin\"],[\"Keith Erickson\"],[\"Tom Van Arsdale\"],[\"Archie Clark\"],[\"Bill Melchionni\"],[\"Bob Love\"],[\"Cazzie Russell\"],[\"Clyde Lee\"],[\"Dick Snyder\"],[\"Dorie Murrey\"],[\"Erwin Mueller\"],[\"Flynn Robinson\"],[\"Freddie Crawford\"],[\"Freddie Lewis\"],[\"Hank Finkel\"],[\"Jack Marin\"],[\"Jerry Chambers\"],[\"Jim Barnett\"],[\"Joe Ellis\"],[\"John Block\"],[\"Matt Guokas\"],[\"Nate Bowman\"],[\"Neil Johnson\"],[\"Toby Kimball\"],[\"Walt Wesley\"],[\"Al Tucker\"],[\"Art Williams\"],[\"Arthur Becker\"],[\"Arvesta Kelly\"],[\"Bill Turner\"],[\"Bob Netolicky\"],[\"Bob Rule\"],[\"Bob Verga\"],[\"Byron Beck\"],[\"Charlie Williams\"],[\"Cincinnatus Powell\"],[\"Clem Haskins\"],[\"Darel Carrier\"],[\"Dave Lattin\"],[\"Donnie Freeman\"],[\"Doug Moe\"],[\"Ed Manning\"],[\"George Carter\"],[\"George Lehmann\"],[\"George Peeples\"],[\"Gerald Govan\"],[\"Goose Ligon\"],[\"Ira Harge\"],[\"Jeffrey Congdon\"],[\"Jim Davis\"],[\"Jim Fox\"],[\"Jimmy Jones\"],[\"Jimmy Walker\"],[\"John Beasley\"],[\"John Wetzel\"],[\"Julian Hammond\"],[\"Lonnie Wright\"],[\"Nick Jones\"],[\"Red Robbins\"],[\"Ronald Franz\"],[\"Sonny Dove\"],[\"Stan McKenzie\"],[\"Steve Jones\"],[\"Stew Johnson\"],[\"Trooper Washington\"],[\"Walter Simon\"],[\"Warren Davis\"],[\"Bill Hewitt\"],[\"Bob Kauffman\"],[\"Bob Warren\"],[\"Craig Raymond\"],[\"Dale Schlueter\"],[\"Dick Cunningham\"],[\"Don Chaney\"],[\"Don May\"],[\"Frank Card\"],[\"Fred Foster\"],[\"Gary Gregor\"],[\"Gene Moore\"],[\"Glen Combs\"],[\"Greg Smith\"],[\"Jim Eakins\"],[\"John Trapp\"],[\"Larry Miller\"],[\"Lee Davis\"],[\"Manny Leaks\"],[\"Mervin Jackson\"],[\"Mike Lewis\"],[\"Mike Riordan\"],[\"Otto Moore\"],[\"Ron Boone\"],[\"Ron Williams\"],[\"Shaler Halimon\"],[\"Stu Lantz\"],[\"Tom Boerwinkle\"],[\"Warren Jabali\"],[\"Zaid Abdul-Aziz\"],[\"Bernie Williams\"],[\"Bill Keller\"],[\"Bingo Smith\"],[\"Bob Christian\"],[\"Butch Beard\"],[\"Dick Garrett\"],[\"Fatty Taylor\"],[\"Fred Carter\"],[\"Gene Littles\"],[\"George Thompson\"],[\"Herm Gilliam\"],[\"John Brisker\"],[\"John Warren\"],[\"Johnny Baum\"],[\"Julius Keye\"],[\"Lamar Green\"],[\"Lee Winfield\"],[\"Lucius Allen\"],[\"Luther Rackley\"],[\"Mack Calvin\"],[\"Neal Walk\"],[\"Norm Van Lier\"],[\"Rich Jones\"],[\"Rick Roberson\"],[\"Skeeter Swift\"],[\"Steve Kuberski\"],[\"Steve Mix\"],[\"Wil Jones\"],[\"Willie Wise\"],[\"Billy Paultz\"],[\"Chuck Williams\"],[\"Coby Dietrick\"],[\"Cornell Warner\"],[\"Curtis Perry\"],[\"Dennis Awtrey\"],[\"Don Adams\"],[\"Gar Heard\"],[\"Geoff Petrie\"],[\"George Irvine\"],[\"Jim Ard\"],[\"Jim McMillian\"],[\"Joe Hamilton\"],[\"John Hummer\"],[\"John Johnson\"],[\"Paul Ruffner\"],[\"Ralph Simpson\"],[\"Rick Mount\"],[\"Sam Lacey\"],[\"Terry Driscoll\"],[\"Wendell Ladner\"],[\"Al Smith\"],[\"Austin Carr\"],[\"Cliff Meely\"],[\"Clifford Ray\"],[\"Curtis Rowe\"],[\"Darnell Hillman\"],[\"Dave Robisch\"],[\"Dave Wohl\"],[\"Dean Meminger\"],[\"Dick Gibbs\"],[\"Elmore Smith\"],[\"Fred Brown\"],[\"George Trapp\"],[\"Goo Kennedy\"],[\"Howard Porter\"],[\"Jim Cleamons\"],[\"Jim McDaniels\"],[\"John Mengelt\"],[\"John Roche\"],[\"Johnny Neumann\"],[\"Larry Steele\"],[\"Marv Roberts\"],[\"Mickey Davis\"],[\"Mike Gale\"],[\"Mike Newlin\"],[\"Mo Layton\"],[\"Nate Williams\"],[\"Phil Chenier\"],[\"Randy Denton\"],[\"Randy Smith\"],[\"Sidney Wicks\"],[\"Steve Patterson\"],[\"Ted McClain\"],[\"Tom Owens\"],[\"Willie Norwood\"],[\"Bob Nash\"],[\"Brian Taylor\"],[\"Bud Stallworth\"],[\"Charles Dudley\"],[\"Charles Johnson\"],[\"Chris Ford\"],[\"Chuck Terry\"],[\"Claude Terry\"],[\"Corky Calhoun\"],[\"Dave Twardzik\"],[\"Don Buse\"],[\"Dwight Davis\"],[\"Freddie Boyd\"],[\"George Johnson\"],[\"Henry Bibby\"],[\"James Silas\"],[\"Jim Chones\"],[\"Jim Price\"],[\"John Gianelli\"],[\"Kevin Porter\"],[\"Lloyd Neal\"],[\"Mike Barr\"],[\"Ollie Johnson\"],[\"Roger Brown\"],[\"Rowland Garrett\"],[\"Allan Bristow\"],[\"Bird Averitt\"],[\"Bruce Seals\"],[\"Caldwell Jones\"],[\"Derrek Dickey\"],[\"Doug Collins\"],[\"Dwight Jones\"],[\"E.C. Coleman\"],[\"Ed Ratleff\"],[\"Ernie DiGregorio\"],[\"Jim Brewer\"],[\"John Brown\"],[\"John Williamson\"],[\"Ken Charles\"],[\"Kermit Washington\"],[\"Kevin Kunnert\"],[\"Larry Kenon\"],[\"Larry McNeill\"],[\"Louie Nelson\"],[\"Mike Bantom\"],[\"Mike Green\"],[\"Nick Weatherspoon\"],[\"Ron Behagen\"],[\"Slick Watts\"],[\"Swen Nater\"],[\"Tim Bassett\"],[\"Aaron James\"],[\"Al Skinner\"],[\"Billy Knight\"],[\"Brian Winters\"],[\"Campy Russell\"],[\"Eric Money\"],[\"Foots Walker\"],[\"Gus Bailey\"],[\"Gus Gerard\"],[\"Harvey Catchings\"],[\"Jan van Breda Kolff\"],[\"John Drew\"],[\"Kevin Restani\"],[\"Kevin Stacom\"],[\"Len Elmore\"],[\"Marvin Barnes\"],[\"Maurice Lucas\"],[\"Mickey Johnson\"],[\"Phil Smith\"],[\"Scott Wedman\"],[\"Steve Hawes\"],[\"Tom Burleson\"],[\"Tom Henderson\"],[\"Truck Robinson\"],[\"Alvan Adams\"],[\"Bill Robinzine\"],[\"Bill Willoughby\"],[\"Bob Gross\"],[\"Dan Roundfield\"],[\"Darryl Dawkins\"],[\"Don Ford\"],[\"Eric Fernsten\"],[\"Gus Williams\"],[\"Jim McElroy\"],[\"Joe Bryant\"],[\"Joe Meriweather\"],[\"John Lambert\"],[\"John Shumate\"],[\"Junior Bridgeman\"],[\"Kevin Grevey\"],[\"Kim Hughes\"],[\"Lionel Hollins\"],[\"M.L. Carr\"],[\"Mark Olberding\"],[\"Marvin Webster\"],[\"Mel Bennett\"],[\"Rich Kelley\"],[\"Ricky Sobers\"],[\"Rudy White\"],[\"Tom Boswell\"],[\"Tom McMillen\"],[\"World B. Free\"],[\"Armond Hill\"],[\"Bob Wilkerson\"],[\"John Lucas\"],[\"Johnny Davis\"],[\"Larry Wright\"],[\"Leon Douglas\"],[\"Lloyd Walton\"],[\"Lonnie Shelton\"],[\"Mike Dunleavy\"],[\"Mitch Kupchak\"],[\"Paul Griffin\"],[\"Quinn Buckner\"],[\"Richard Washington\"],[\"Ron Lee\"],[\"Scott Lloyd\"],[\"Scott May\"],[\"Sonny Parker\"],[\"Tom Abernethy\"],[\"Wally Walker\"],[\"Alvin Scott\"],[\"Anthony Roberts\"],[\"Ben Poquette\"],[\"Brad Davis\"],[\"Cedric Maxwell\"],[\"Charlie Criss\"],[\"Eddie Johnson\"],[\"Eddie Jordan\"],[\"Ernie Grunfeld\"],[\"Glen Gondrezick\"],[\"Greg Ballard\"],[\"James Edwards\"],[\"Joe Hassett\"],[\"Kenny Carr\"],[\"Kent Benson\"],[\"Mark Landsberger\"],[\"Marques Johnson\"],[\"Mike Bratz\"],[\"Mike Glenn\"],[\"Norm Nixon\"],[\"Otis Birdsong\"],[\"Ray Williams\"],[\"Rickey Green\"],[\"Robert Reid\"],[\"Robert Smith\"],[\"T.R. Dunn\"],[\"Tom LaGarde\"],[\"Tree Rollins\"],[\"Walter Davis\"],[\"Billy McKinney\"],[\"Clemon Johnson\"],[\"Dave Corzine\"],[\"Freeman Williams\"],[\"Geoff Crompton\"],[\"George Johnson\"],[\"Jeff Judkins\"],[\"Jerome Whitehead\"],[\"Joel Kramer\"],[\"John Long\"],[\"Michael Cooper\"],[\"Micheal Ray Richardson\"],[\"Mike Mitchell\"],[\"Mychal Thompson\"],[\"Phil Ford\"],[\"Purvis Short\"],[\"Reggie Theus\"],[\"Rick Robey\"],[\"Roger Phegley\"],[\"Ron Brewer\"],[\"Terry Tyler\"],[\"Wayne Cooper\"],[\"Allen Leavell\"],[\"Bill Cartwright\"],[\"Calvin Natt\"],[\"Cliff Robinson\"],[\"Clint Richardson\"],[\"Dave Greenwood\"],[\"Dudley Bradley\"],[\"Geoff Huston\"],[\"Gerald Henderson\"],[\"Greg Kelser\"],[\"James Bailey\"],[\"Jeff Cook\"],[\"Jim Paxson\"],[\"Jim Spanarkel\"],[\"Major Jones\"],[\"Mike Evans\"],[\"Pat Cummings\"],[\"Paul Mokeski\"],[\"Phil Hubbard\"],[\"Reggie King\"],[\"Sly Williams\"],[\"Vinnie Johnson\"],[\"Andrew Toney\"],[\"Bill Hanzlik\"],[\"Bill Laimbeer\"],[\"Butch Carter\"],[\"Darrell Griffith\"],[\"Darwin Cook\"],[\"Don Collins\"],[\"Earl Cureton\"],[\"Edgar Jones\"],[\"James Donaldson\"],[\"Jawann Oldham\"],[\"Jeff Wilkins\"],[\"Jerry Sichting\"],[\"Joe Barry Carroll\"],[\"Johnny Moore\"],[\"Kelvin Ransey\"],[\"Kiki Vandeweghe\"],[\"Kyle Macy\"],[\"Larry Drew\"],[\"Larry Smith\"],[\"Lorenzo Romar\"],[\"Louis Orr\"],[\"Michael Brooks\"],[\"Mike Gminski\"],[\"Mike O'Koren\"],[\"Mike Woodson\"],[\"Rick Mahorn\"],[\"Rickey Brown\"],[\"Ronnie Lester\"],[\"Rory Sparrow\"],[\"Wes Matthews\"],[\"Al Wood\"],[\"Albert King\"],[\"Alton Lister\"],[\"Buck Williams\"],[\"Charles Davis\"],[\"Danny Ainge\"],[\"Danny Schayes\"],[\"Danny Vranes\"],[\"Darnell Valentine\"],[\"Eddie Johnson\"],[\"Elston Turner\"],[\"Frank Johnson\"],[\"Franklin Edwards\"],[\"Gene Banks\"],[\"Hank McDowell\"],[\"Herb Williams\"],[\"Jay Vincent\"],[\"Jeff Lamp\"],[\"Jeff Ruland\"],[\"Kelly Tripucka\"],[\"Kevin McKenna\"],[\"Kurt Nimphius\"],[\"Kurt Rambis\"],[\"Larry Nance\"],[\"Larry Spriggs\"],[\"Lewis Lloyd\"],[\"Mark Aguirre\"],[\"Mike McGee\"],[\"Orlando Woolridge\"],[\"Pete Verhoeven\"],[\"Ray Tolbert\"],[\"Rolando Blackman\"],[\"Steve Hayes\"],[\"Steve Johnson\"],[\"Tom Chambers\"],[\"Brook Steppe\"],[\"Chris Engler\"],[\"Chuck Nevitt\"],[\"Clark Kellogg\"],[\"Cliff Levingston\"],[\"Craig Hodges\"],[\"David Thirdkill\"],[\"Derek Smith\"],[\"Ed Nealy\"],[\"Fat Lever\"],[\"John Bagley\"],[\"LaSalle Thompson\"],[\"Lester Conner\"],[\"Marc Iavaroni\"],[\"Mark Eaton\"],[\"Mark McNamara\"],[\"Mike Sanders\"],[\"Paul Pressey\"],[\"Quintin Dailey\"],[\"Richard Anderson\"],[\"Ricky Pierce\"],[\"Rod Higgins\"],[\"Rory White\"],[\"Scott Hastings\"],[\"Sleepy Floyd\"],[\"Terry Cummings\"],[\"Terry Teagle\"],[\"Trent Tucker\"],[\"Walker Russell\"],[\"Bob Hansen\"],[\"Byron Scott\"],[\"Charles Jones\"],[\"Craig Ehlo\"],[\"Dale Ellis\"],[\"Darrell Walker\"],[\"Darren Daye\"],[\"Derek Harper\"],[\"Doc Rivers\"],[\"Ennis Whatley\"],[\"Fred Roberts\"],[\"Granville Waiters\"],[\"Greg Kite\"],[\"Jeff Malone\"],[\"John Paxson\"],[\"Jon Sundvold\"],[\"Kevin Williams\"],[\"Mark West\"],[\"Mitchell Wiggins\"],[\"Pace Mannion\"],[\"Randy Breuer\"],[\"Randy Wittman\"],[\"Rodney McCray\"],[\"Roy Hinson\"],[\"Sedale Threatt\"],[\"Sidney Green\"],[\"Steve Stipanovich\"],[\"Thurl Bailey\"],[\"Alvin Robertson\"],[\"Antoine Carr\"],[\"Bernard Thompson\"],[\"Danny Young\"],[\"Eddie Lee Wilkins\"],[\"Frank Brickowski\"],[\"Jay Humphries\"],[\"Jeff Turner\"],[\"Jerome Kersey\"],[\"Jim Petersen\"],[\"Ken Bannister\"],[\"Kevin Willis\"],[\"Leon Wood\"],[\"Melvin Turpin\"],[\"Michael Cage\"],[\"Michael Holton\"],[\"Otis Thorpe\"],[\"Rick Carlisle\"],[\"Ron Anderson\"],[\"Sam Bowie\"],[\"Sam Perkins\"],[\"Steve Colter\"],[\"Stuart Gray\"],[\"Tim McCormick\"],[\"Tony Brown\"],[\"Tony Campbell\"],[\"Vern Fleming\"],[\"A.C. Green\"],[\"Benoit Benjamin\"],[\"Bill Wennington\"],[\"Blair Rasmussen\"],[\"Bob Thornton\"],[\"Charles Oakley\"],[\"Detlef Schrempf\"],[\"Ed Pinckney\"],[\"Gerald Wilkins\"],[\"Jerry Reynolds\"],[\"Joe Kleine\"],[\"John Battle\"],[\"Jon Koncak\"],[\"Manute Bol\"],[\"Michael Adams\"],[\"Mike Smrek\"],[\"Sam Vincent\"],[\"Sedric Toney\"],[\"Spud Webb\"],[\"Steve Harris\"],[\"Terry Catledge\"],[\"Terry Porter\"],[\"Tyrone Corbin\"],[\"Uwe Blab\"],[\"Wayman Tisdale\"],[\"Xavier McDaniel\"],[\"Andre Turner\"],[\"Ben Coleman\"],[\"Billy Thompson\"],[\"Brad Daugherty\"],[\"Brad Sellers\"],[\"Buck Johnson\"],[\"Chuck Person\"],[\"Dave Feitl\"],[\"David Wingate\"],[\"Dell Curry\"],[\"Greg Dreiling\"],[\"Hot Rod Williams\"],[\"Jeff Hornacek\"],[\"John Salley\"],[\"John Williams\"],[\"Johnny Dawkins\"],[\"Johnny Newman\"],[\"Kenny Gattison\"],[\"Kenny Walker\"],[\"Kevin Duckworth\"],[\"Larry Krystkowiak\"],[\"Mark Alarie\"],[\"Mark Price\"],[\"Mike Brown\"],[\"Nate McMillan\"],[\"Otis Smith\"],[\"Pete Myers\"],[\"Rafael Addison\"],[\"Ron Harper\"],[\"Roy Tarpley\"],[\"Scott Skiles\"],[\"Tim Kempton\"],[\"William Bedford\"],[\"Armen Gilliam\"],[\"Bart Kofoed\"],[\"Brad Lohaus\"],[\"Chris Dudley\"],[\"Dave Hoppen\"],[\"Dennis Hopson\"],[\"Derrick McKey\"],[\"Greg Anderson\"],[\"Horace Grant\"],[\"Jim Farmer\"],[\"Joe Wolf\"],[\"Ken Norman\"],[\"Kenny Smith\"],[\"Kevin Gamble\"],[\"Kevin Johnson\"],[\"Mark Acres\"],[\"Mark Jackson\"],[\"Muggsy Bogues\"],[\"Olden Polynice\"],[\"Reggie Lewis\"],[\"Reggie Williams\"],[\"Tellis Frank\"],[\"Tod Murphy\"],[\"Vincent Askew\"],[\"Winston Garland\"],[\"Andrew Lang\"],[\"Anthony Bowie\"],[\"Avery Johnson\"],[\"Brian Shaw\"],[\"Charles Shackleford\"],[\"Charles Smith\"],[\"Chris Morris\"],[\"Corey Gaines\"],[\"Dan Majerle\"],[\"Danny Manning\"],[\"David Wood\"],[\"Duane Ferrell\"],[\"Eric Leckner\"],[\"Gary Grant\"],[\"Grant Long\"],[\"Harvey Grant\"],[\"Hersey Hawkins\"],[\"Jack Haley\"],[\"Jeff Grayer\"],[\"Jerome Lane\"],[\"Jim Les\"],[\"John Starks\"],[\"Kevin Edwards\"],[\"Ledell Eackles\"],[\"Mark Bryant\"],[\"Micheal Williams\"],[\"Morlon Wiley\"],[\"Randolph Keys\"],[\"Rex Chapman\"],[\"Rik Smits\"],[\"Rod Strickland\"],[\"Rony Seikaly\"],[\"Scott Brooks\"],[\"Steve Kerr\"],[\"Tim Perry\"],[\"Tom Tolbert\"],[\"Vernon Maxwell\"],[\"Vinny Del Negro\"],[\"Will Perdue\"],[\"Willie Anderson\"],[\"Adrian Caldwell\"],[\"Anthony Mason\"],[\"B.J. Armstrong\"],[\"Blue Edwards\"],[\"Bob McCann\"],[\"Chucky Brown\"],[\"Clifford Robinson\"],[\"Dana Barros\"],[\"Donald Royal\"],[\"Doug West\"],[\"George McCloud\"],[\"Glen Rice\"],[\"Greg Grant\"],[\"Haywoode Workman\"],[\"J.R. Reid\"],[\"Jaren Jackson\"],[\"Mookie Blaylock\"],[\"Nick Anderson\"],[\"Pervis Ellison\"],[\"Pooh Richardson\"],[\"Randy White\"],[\"Sam Mitchell\"],[\"Sean Elliott\"],[\"Shawn Kemp\"],[\"Sherman Douglas\"],[\"Stacey King\"],[\"Terry Davis\"],[\"Tim Legler\"],[\"Todd Lichti\"],[\"Tom Hammonds\"],[\"Alaa Abdelnaby\"],[\"Anthony Bonner\"],[\"Bimbo Coles\"],[\"Cedric Ceballos\"],[\"Danny Ferry\"],[\"Dee Brown\"],[\"Dennis Scott\"],[\"Derrick Coleman\"],[\"Duane Causwell\"],[\"Dwayne Schintzius\"],[\"Elden Campbell\"],[\"Felton Spencer\"],[\"Greg Foster\"],[\"Henry James\"],[\"Jayson Williams\"],[\"Jud Buechler\"],[\"Keith Askins\"],[\"Kendall Gill\"],[\"Larry Robinson\"],[\"Lionel Simmons\"],[\"Loy Vaught\"],[\"Mahmoud Abdul-Rauf\"],[\"Mario Elie\"],[\"Matt Bullard\"],[\"Negele Knight\"],[\"Rumeal Robinson\"],[\"Scott Williams\"],[\"Sean Higgins\"],[\"Steve Henson\"],[\"Steve Scheffler\"],[\"Stojko Vrankovi\\u0107\"],[\"Terry Mills\"],[\"Tony Massenburg\"],[\"Tony Smith\"],[\"Tyrone Hill\"],[\"Willie Burton\"],[\"Billy Owens\"],[\"Bison Dele\"],[\"Bobby Phills\"],[\"Carl Herrera\"],[\"Chris Gatling\"],[\"Dale Davis\"],[\"David Benoit\"],[\"Derek Strong\"],[\"Donald Hodge\"],[\"Doug Smith\"],[\"Elliot Perry\"],[\"Eric Murdock\"],[\"Greg Anthony\"],[\"Isaac Austin\"],[\"Jimmy Oliver\"],[\"Kenny Anderson\"],[\"Larry Johnson\"],[\"Larry Stewart\"],[\"Luc Longley\"],[\"Mark Macon\"],[\"Marty Conlon\"],[\"Pete Chilcutt\"],[\"Randy Brown\"],[\"Rick Fox\"],[\"Robert Pack\"],[\"Stacey Augmon\"],[\"Stanley Roberts\"],[\"Steve Smith\"],[\"Terrell Brandon\"],[\"Tracy Moore\"],[\"Victor Alexander\"],[\"Adam Keefe\"],[\"Anthony Avent\"],[\"Anthony Peeler\"],[\"Brent Price\"],[\"Bryant Stith\"],[\"Christian Laettner\"],[\"Clarence Weatherspoon\"],[\"Don MacLean\"],[\"Doug Christie\"],[\"Doug Overton\"],[\"Elmore Spencer\"],[\"Hubert Davis\"],[\"Jim Jackson\"],[\"John Crotty\"],[\"Jon Barry\"],[\"LaPhonso Ellis\"],[\"Latrell Sprewell\"],[\"Lee Mayberry\"],[\"Litterial Green\"],[\"Lloyd Daniels\"],[\"Lorenzo Williams\"],[\"Malik Sealy\"],[\"Matt Geiger\"],[\"Oliver Miller\"],[\"Robert Horry\"],[\"Sam Mack\"],[\"Sean Rooks\"],[\"Todd Day\"],[\"Tom Gugliotta\"],[\"Tracy Murray\"],[\"Walt Williams\"],[\"Aaron Williams\"],[\"Allan Houston\"],[\"Anfernee Hardaway\"],[\"Antonio Davis\"],[\"Antonio Harvey\"],[\"Bo Outlaw\"],[\"Bobby Hurley\"],[\"Bryon Russell\"],[\"Calbert Cheaney\"],[\"Chris Mills\"],[\"Chris Whitney\"],[\"Corie Blount\"],[\"David Wesley\"],[\"Eric Riley\"],[\"Ervin Johnson\"],[\"George Lynch\"],[\"Gheorghe Mure\\u0219an\"],[\"Greg Graham\"],[\"Isaiah Rider\"],[\"Jamal Mashburn\"],[\"James Robinson\"],[\"Lindsey Hunter\"],[\"Lucious Harris\"],[\"Michael Curry\"],[\"Mitchell Butler\"],[\"Nick Van Exel\"],[\"P.J. Brown\"],[\"Popeye Jones\"],[\"Reggie Jordan\"],[\"Rex Walters\"],[\"Rodney Rogers\"],[\"Sam Cassell\"],[\"Scott Burrell\"],[\"Shawn Bradley\"],[\"Terry Dehere\"],[\"Vin Baker\"],[\"Aaron McKie\"],[\"Anthony Miller\"],[\"Antonio Lang\"],[\"Bill Curley\"],[\"Brian Grant\"],[\"Carlos Rogers\"],[\"Charlie Ward\"],[\"Chris Childs\"],[\"Darrell Armstrong\"],[\"Darrick Martin\"],[\"Dickey Simpkins\"],[\"Donyell Marshall\"],[\"Eddie Jones\"],[\"Eldridge Recasner\"],[\"Eric Montross\"],[\"Eric Piatkowski\"],[\"Glenn Robinson\"],[\"Greg Minor\"],[\"Howard Eisley\"],[\"Jalen Rose\"],[\"Jim McIlvaine\"],[\"Juwan Howard\"],[\"Khalid Reeves\"],[\"Lamond Murray\"],[\"Mark Strickland\"],[\"Michael Smith\"],[\"Monty Williams\"],[\"Reggie Slater\"],[\"Wesley Person\"],[\"\\u017dan Tabak\"],[\"Alan Henderson\"],[\"Andrew DeClercq\"],[\"Anthony Goldwire\"],[\"Antonio McDyess\"],[\"Bob Sura\"],[\"Brent Barry\"],[\"Bryant Reeves\"],[\"Cherokee Parks\"],[\"Chris Carr\"],[\"Corliss Williamson\"],[\"Cory Alexander\"],[\"Damon Stoudamire\"],[\"Don Reid\"],[\"Donny Marshall\"],[\"Eric Snow\"],[\"Eric Williams\"],[\"Fred Hoiberg\"],[\"Gary Trent\"],[\"Greg Ostertag\"],[\"Jason Caffey\"],[\"Jerry Stackhouse\"],[\"Joe Smith\"],[\"John Amaechi\"],[\"Kurt Thomas\"],[\"Mark Davis\"],[\"Michael Finley\"],[\"Rasheed Wallace\"],[\"Theo Ratliff\"],[\"Travis Best\"],[\"Voshon Lenard\"],[\"Antoine Walker\"],[\"Bruce Bowen\"],[\"Darvin Ham\"],[\"Dean Garrett\"],[\"Derek Fisher\"],[\"Emanual Davis\"],[\"Erick Dampier\"],[\"Erick Strickland\"],[\"Jamie Feick\"],[\"Jeff McInnis\"],[\"Jermaine O'Neal\"],[\"Jerome Williams\"],[\"John Wallace\"],[\"Kerry Kittles\"],[\"Lorenzen Wright\"],[\"Malik Rose\"],[\"Marcus Camby\"],[\"Matt Maloney\"],[\"Moochie Norris\"],[\"Othella Harrington\"],[\"Randy Livingston\"],[\"Samaki Walker\"],[\"Shandon Anderson\"],[\"Shareef Abdur-Rahim\"],[\"Stephon Marbury\"],[\"Todd Fuller\"],[\"Tony Delk\"],[\"Travis Knight\"],[\"Vitaly Potapenko\"],[\"Walter McCarty\"],[\"Adonal Foyle\"],[\"Alvin Williams\"],[\"Anthony Johnson\"],[\"Anthony Parker\"],[\"Antonio Daniels\"],[\"Austin Croshere\"],[\"Bobby Jackson\"],[\"Brevin Knight\"],[\"Cedric Henderson\"],[\"Charles Smith\"],[\"Chauncey Billups\"],[\"Chris Crawford\"],[\"Danny Fortson\"],[\"Derek Anderson\"],[\"Jacque Vaughn\"],[\"John Thomas\"],[\"Keith Van Horn\"],[\"Kelvin Cato\"],[\"Kevin Ollie\"],[\"Lawrence Funderburke\"],[\"Mark Pope\"],[\"Maurice Taylor\"],[\"Michael Stewart\"],[\"Rick Brunson\"],[\"Ron Mercer\"],[\"Rusty LaRue\"],[\"Scot Pollard\"],[\"Tariq Abdul-Wahad\"],[\"Tim Thomas\"],[\"Tony Battie\"],[\"Troy Hudson\"],[\"Zydrunas Ilgauskas\"],[\"Al Harrington\"],[\"Antawn Jamison\"],[\"Bonzi Wells\"],[\"Brad Miller\"],[\"Brian Skinner\"],[\"Bruno \\u0160undov\"],[\"Bryce Drew\"],[\"Cuttino Mobley\"],[\"Damon Jones\"],[\"Earl Boykins\"],[\"Jahidi White\"],[\"Jason Williams\"],[\"Jelani McCoy\"],[\"Jerome James\"],[\"Keon Clark\"],[\"Larry Hughes\"],[\"Matt Harpring\"],[\"Michael Dickerson\"],[\"Michael Doleac\"],[\"Michael Olowokandi\"],[\"Mike Bibby\"],[\"Mikki Moore\"],[\"Nazr Mohammed\"],[\"Pat Garrity\"],[\"Peja Stojakovi\\u0107\"],[\"Raef LaFrentz\"],[\"Rashard Lewis\"],[\"Rasho Nesterovi\\u0107\"],[\"Ricky Davis\"],[\"Robert Traylor\"],[\"Ruben Patterson\"],[\"Sean Marks\"],[\"Shammond Williams\"],[\"Tyronn Lue\"],[\"Vince Carter\"],[\"Vladimir Stepania\"],[\"Adrian Griffin\"],[\"Andre Miller\"],[\"Anthony Carter\"],[\"Baron Davis\"],[\"Calvin Booth\"],[\"Chucky Atkins\"],[\"Corey Maggette\"],[\"Devean George\"],[\"Dion Glover\"],[\"Eddie Robinson\"],[\"Elton Brand\"],[\"Greg Buckner\"],[\"James Posey\"],[\"Jason Terry\"],[\"Jeff Foster\"],[\"Jermaine Jackson\"],[\"Jonathan Bender\"],[\"Jumaine Jones\"],[\"Kenny Thomas\"],[\"Lamar Odom\"],[\"Metta World Peace\"],[\"Michael Ruffin\"],[\"Milt Palacio\"],[\"Rafer Alston\"],[\"Richard Hamilton\"],[\"Rodney Buford\"],[\"Ryan Bowen\"],[\"Scott Padgett\"],[\"Shawn Marion\"],[\"Steve Francis\"],[\"Wally Szczerbiak\"],[\"Brian Cardinal\"],[\"Chris Mihm\"],[\"Darius Miles\"],[\"DerMarr Johnson\"],[\"DeShawn Stevenson\"],[\"Desmond Mason\"],[\"Donnell Harvey\"],[\"Eddie Gill\"],[\"Eddie House\"],[\"Eduardo N\\u00e1jera\"],[\"Hedo T\\u00fcrko\\u011flu\"],[\"Ira Newble\"],[\"Jake Tsakalidis\"],[\"Jake Voskuhl\"],[\"Jamaal Magloire\"],[\"Jamal Crawford\"],[\"Jason Collier\"],[\"Jason Hart\"],[\"J\\u00e9r\\u00f4me Mo\\u00efso\"],[\"Joel Przybilla\"],[\"Kenyon Martin\"],[\"Keyon Dooling\"],[\"Lee Nailon\"],[\"Mamadou N'Diaye\"],[\"Marc Jackson\"],[\"Marcus Fizer\"],[\"Mark Blount\"],[\"Mark Madsen\"],[\"Mateen Cleaves\"],[\"Michael Redd\"],[\"Mike Miller\"],[\"Morris Peterson\"],[\"Quentin Richardson\"],[\"Raja Bell\"],[\"Stanislav Medvedenko\"],[\"Stephen Jackson\"],[\"Stromile Swift\"],[\"Wang Zhizhi\"],[\"Zendon Hamilton\"],[\"Andrei Kirilenko\"],[\"Bobby Simmons\"],[\"Brendan Haywood\"],[\"Brian Scalabrine\"],[\"Carlos Arroyo\"],[\"Charlie Bell\"],[\"Chris Andersen\"],[\"DeSagana Diop\"],[\"Earl Watson\"],[\"Eddie Griffin\"],[\"Eddy Curry\"],[\"Etan Thomas\"],[\"Gerald Wallace\"],[\"Gilbert Arenas\"],[\"Jamaal Tinsley\"],[\"Jarron Collins\"],[\"Jason Collins\"],[\"Jason Richardson\"],[\"Joe Johnson\"],[\"Kwame Brown\"],[\"Loren Woods\"],[\"Malik Allen\"],[\"Maurice Evans\"],[\"Michael Bradley\"],[\"Mike James\"],[\"Primo\\u017e Brezec\"],[\"Richard Jefferson\"],[\"Samuel Dalembert\"],[\"Shane Battier\"],[\"Speedy Claxton\"],[\"Steven Hunter\"],[\"Trenton Hassell\"],[\"Troy Murphy\"],[\"Tyson Chandler\"],[\"Vladimir Radmanovi\\u0107\"],[\"Zach Randolph\"],[\"\\u017deljko Rebra\\u010da\"],[\"Amar'e Stoudemire\"],[\"Bo\\u0161tjan Nachbar\"],[\"Carlos Boozer\"],[\"Caron Butler\"],[\"Chris Wilcox\"],[\"Dan Dickau\"],[\"Dan Gadzuric\"],[\"Devin Brown\"],[\"Drew Gooden\"],[\"Fred Jones\"],[\"Gordan Giri\\u010dek\"],[\"Jamal Sampson\"],[\"Jannero Pargo\"],[\"Jared Jeffries\"],[\"John Salmons\"],[\"Juan Dixon\"],[\"Kareem Rush\"],[\"Marko Jari\\u0107\"],[\"Mehmet Okur\"],[\"Melvin Ely\"],[\"Mike Dunleavy\"],[\"Mike Wilks\"],[\"Nen\\u00ea\"],[\"Rasual Butler\"],[\"Reggie Evans\"],[\"Roger Mason\"],[\"Ronald Murray\"],[\"Smush Parker\"],[\"Tayshaun Prince\"],[\"Boris Diaw\"],[\"Brian Cook\"],[\"Carmelo Anthony\"],[\"Chris Kaman\"],[\"Dahntay Jones\"],[\"Darius Songaila\"],[\"Darko Mili\\u010di\\u0107\"],[\"David West\"],[\"Francisco Elson\"],[\"Ime Udoka\"],[\"James Jones\"],[\"Jarvis Hayes\"],[\"Jason Kapono\"],[\"Josh Howard\"],[\"Keith Bogans\"],[\"Kendrick Perkins\"],[\"Kirk Hinrich\"],[\"Kyle Korver\"],[\"Leandro Barbosa\"],[\"LeBron James\"],[\"Linton Johnson\"],[\"Luke Ridnour\"],[\"Luke Walton\"],[\"Marcus Banks\"],[\"Marquis Daniels\"],[\"Matt Barnes\"],[\"Matt Carroll\"],[\"Micka\\u00ebl Pi\\u00e9trus\"],[\"Mo Williams\"],[\"Ronald Dupree\"],[\"Sasha Pavlovi\\u0107\"],[\"Steve Blake\"],[\"T.J. Ford\"],[\"Travis Outlaw\"],[\"Udonis Haslem\"],[\"Willie Green\"],[\"Zaza Pachulia\"],[\"Al Jefferson\"],[\"Anderson Varej\\u00e3o\"],[\"Andre Iguodala\"],[\"Andr\\u00e9s Nocioni\"],[\"Andris Biedri\\u0146\\u0161\"],[\"Ben Gordon\"],[\"Beno Udrih\"],[\"Carlos Delfino\"],[\"Chris Duhon\"],[\"D.J. Mbenga\"],[\"Damien Wilkins\"],[\"Delonte West\"],[\"Devin Harris\"],[\"Dorell Wright\"],[\"Dwight Howard\"],[\"Emeka Okafor\"],[\"J.R. Smith\"],[\"Jameer Nelson\"],[\"Josh Childress\"],[\"Josh Smith\"],[\"Kevin Martin\"],[\"Kris Humphries\"],[\"Luol Deng\"],[\"Matt Bonner\"],[\"Nenad Krsti\\u0107\"],[\"Nick Collison\"],[\"Quinton Ross\"],[\"Royal Ivey\"],[\"Sasha Vuja\\u010di\\u0107\"],[\"Sebastian Telfair\"],[\"Shaun Livingston\"],[\"Tony Allen\"],[\"Trevor Ariza\"],[\"Alan Anderson\"],[\"Amir Johnson\"],[\"Andray Blatche\"],[\"Andrew Bogut\"],[\"Andrew Bynum\"],[\"Antoine Wright\"],[\"Brandon Bass\"],[\"C.J. Miles\"],[\"Channing Frye\"],[\"Charlie Villanueva\"],[\"Chris Paul\"],[\"Chuck Hayes\"],[\"Danny Granger\"],[\"David Lee\"],[\"Deron Williams\"],[\"Dwayne Jones\"],[\"Earl Barron\"],[\"Fabricio Oberto\"],[\"Francisco Garc\\u00eda\"],[\"Gerald Green\"],[\"Hakim Warrick\"],[\"Ike Diogu\"],[\"James Singleton\"],[\"Jarrett Jack\"],[\"Jason Maxiell\"],[\"Joey Graham\"],[\"Johan Petro\"],[\"John Lucas III\"],[\"Jos\\u00e9 Calder\\u00f3n\"],[\"Josh Powell\"],[\"Linas Kleiza\"],[\"Lou Williams\"],[\"Luther Head\"],[\"Martell Webster\"],[\"Marvin Williams\"],[\"Monta Ellis\"],[\"Nate Robinson\"],[\"Raymond Felton\"],[\"Ronnie Price\"],[\"Ronny Turiaf\"],[\"Ryan Gomes\"],[\"Shavlik Randolph\"],[\"Stephen Graham\"],[\"Travis Diener\"],[\"Von Wafer\"],[\"Will Bynum\"],[\"Andrea Bargnani\"],[\"Brandon Roy\"],[\"Chris Quinn\"],[\"Craig Smith\"],[\"Daniel Gibson\"],[\"Ersan \\u0130lyasova\"],[\"Hilton Armstrong\"],[\"J.J. Barea\"],[\"J.J. Redick\"],[\"Jordan Farmar\"],[\"Kelenna Azubuike\"],[\"Kyle Lowry\"],[\"LaMarcus Aldridge\"],[\"Leon Powe\"],[\"Lou Amundson\"],[\"P.J. Tucker\"],[\"Paul Millsap\"],[\"Rajon Rondo\"],[\"Randy Foye\"],[\"Renaldo Balkman\"],[\"Rodney Carney\"],[\"Ronnie Brewer\"],[\"Rudy Gay\"],[\"Ryan Hollins\"],[\"Sergio Rodr\\u00edguez\"],[\"Shannon Brown\"],[\"Shawne Williams\"],[\"Shelden Williams\"],[\"Solomon Jones\"],[\"Steve Novak\"],[\"Thabo Sefolosha\"],[\"Tyrus Thomas\"],[\"Aaron Brooks\"],[\"Aaron Gray\"],[\"Al Horford\"],[\"Arron Afflalo\"],[\"Brandan Wright\"],[\"C.J. Watson\"],[\"Carl Landry\"],[\"Corey Brewer\"],[\"Daequan Cook\"],[\"Dominic McGuire\"],[\"Glen Davis\"],[\"Ian Mahinmi\"],[\"Jamario Moon\"],[\"Jared Dudley\"],[\"Jason Smith\"],[\"Jeff Green\"],[\"Joakim Noah\"],[\"Joel Anthony\"],[\"Josh McRoberts\"],[\"Kevin Durant\"],[\"Kyrylo Fesenko\"],[\"Luis Scola\"],[\"Marcin Gortat\"],[\"Marco Belinelli\"],[\"Mike Conley\"],[\"Nick Young\"],[\"Ramon Sessions\"],[\"Rodney Stuckey\"],[\"Spencer Hawes\"],[\"Thaddeus Young\"],[\"Wilson Chandler\"],[\"Yi Jianlian\"],[\"Alexis Ajin\\u00e7a\"],[\"Anthony Morrow\"],[\"Anthony Randolph\"],[\"Anthony Tolliver\"],[\"Brandon Rush\"],[\"Brook Lopez\"],[\"Cartier Martin\"],[\"Chris Douglas-Roberts\"],[\"Courtney Lee\"],[\"D.J. Augustin\"],[\"D.J. White\"],[\"Danilo Gallinari\"],[\"Darrell Arthur\"],[\"DeAndre Jordan\"],[\"Derrick Rose\"],[\"Eric Gordon\"],[\"George Hill\"],[\"Goran Dragi\\u0107\"],[\"Hamed Haddadi\"],[\"Henry Walker\"],[\"J.J. Hickson\"],[\"Jason Thompson\"],[\"JaVale McGee\"],[\"Jerryd Bayless\"],[\"Kevin Love\"],[\"Kosta Koufos\"],[\"Luc Mbah a Moute\"],[\"Marc Gasol\"],[\"Mario Chalmers\"],[\"Marreese Speights\"],[\"Michael Beasley\"],[\"Nicolas Batum\"],[\"O.J. Mayo\"],[\"Robin Lopez\"],[\"Roy Hibbert\"],[\"Russell Westbrook\"],[\"Ryan Anderson\"],[\"A.J. Price\"],[\"Alonzo Gee\"],[\"Austin Daye\"],[\"Brandon Jennings\"],[\"Byron Mullens\"],[\"Chase Budinger\"],[\"Danny Green\"],[\"Dante Cunningham\"],[\"Darren Collison\"],[\"DeJuan Blair\"],[\"DeMar DeRozan\"],[\"DeMarre Carroll\"],[\"Earl Clark\"],[\"Eric Maynor\"],[\"Garrett Temple\"],[\"Gerald Henderson\"],[\"Hasheem Thabeet\"],[\"James Harden\"],[\"James Johnson\"],[\"Jeff Ayres\"],[\"Jeff Teague\"],[\"Jodie Meeks\"],[\"Jonas Jerebko\"],[\"Jordan Hill\"],[\"Jrue Holiday\"],[\"Marcus Thornton\"],[\"Omri Casspi\"],[\"Patty Mills\"],[\"Reggie Williams\"],[\"Serge Ibaka\"],[\"Stephen Curry\"],[\"Taj Gibson\"],[\"Toney Douglas\"],[\"Ty Lawson\"],[\"Tyler Hansbrough\"],[\"Tyreke Evans\"],[\"Wayne Ellington\"],[\"Wesley Matthews\"],[\"Al-Farouq Aminu\"],[\"Avery Bradley\"],[\"Blake Griffin\"],[\"Cole Aldrich\"],[\"DeMarcus Cousins\"],[\"Derrick Favors\"],[\"Ed Davis\"],[\"Ekpe Udoh\"],[\"Eric Bledsoe\"],[\"Evan Turner\"],[\"Gary Neal\"],[\"Gordon Hayward\"],[\"Greg Monroe\"],[\"Greivis V\\u00e1squez\"],[\"Hassan Whiteside\"],[\"Ish Smith\"],[\"James Anderson\"],[\"Jeff Adrien\"],[\"Jeremy Evans\"],[\"Jeremy Lin\"],[\"John Wall\"],[\"Jordan Crawford\"],[\"Kevin S\\u00e9raphin\"],[\"Lance Stephenson\"],[\"Landry Fields\"],[\"Larry Sanders\"],[\"Luke Babbitt\"],[\"Nikola Pekovi\\u0107\"],[\"\\u00d6mer A\\u015f\\u0131k\"],[\"Patrick Patterson\"],[\"Paul George\"],[\"Quincy Pondexter\"],[\"Tiago Splitter\"],[\"Timofey Mozgov\"],[\"Trevor Booker\"],[\"Wesley Johnson\"],[\"Xavier Henry\"],[\"Alec Burks\"],[\"Bismack Biyombo\"],[\"Brandon Knight\"],[\"Chandler Parsons\"],[\"Cory Joseph\"],[\"DeAndre Liggins\"],[\"Derrick Williams\"],[\"Donald Sloan\"],[\"E'Twaun Moore\"],[\"Enes Freedom\"],[\"Greg Smith\"],[\"Iman Shumpert\"],[\"Isaiah Thomas\"],[\"Jimmer Fredette\"],[\"Jimmy Butler\"],[\"Jon Leuer\"],[\"Jordan Hamilton\"],[\"Kawhi Leonard\"],[\"Kemba Walker\"],[\"Kenneth Faried\"],[\"Klay Thompson\"],[\"Kyrie Irving\"],[\"Lance Thomas\"],[\"Lavoy Allen\"],[\"Marcus Morris\"],[\"Markieff Morris\"],[\"MarShon Brooks\"],[\"Nikola Vu\\u010devi\\u0107\"],[\"Norris Cole\"],[\"Reggie Jackson\"],[\"Ricky Rubio\"],[\"Shelvin Mack\"],[\"Tobias Harris\"],[\"Tristan Thompson\"],[\"Andre Drummond\"],[\"Andrew Nicholson\"],[\"Anthony Davis\"],[\"Aron Baynes\"],[\"Austin Rivers\"],[\"Bradley Beal\"],[\"Brian Roberts\"],[\"Damian Lillard\"],[\"Darius Miller\"],[\"Dion Waiters\"],[\"Donatas Motiej\\u016bnas\"],[\"Draymond Green\"],[\"Evan Fournier\"],[\"Harrison Barnes\"],[\"Jae Crowder\"],[\"Jared Sullinger\"],[\"Jeremy Lamb\"],[\"John Henson\"],[\"John Jenkins\"],[\"Jonas Valan\\u010di\\u016bnas\"],[\"Justin Holiday\"],[\"Kent Bazemore\"],[\"Khris Middleton\"],[\"Kyle O'Quinn\"],[\"Kyle Singler\"],[\"Maurice Harkless\"],[\"Meyers Leonard\"],[\"Michael Kidd-Gilchrist\"],[\"Mike Scott\"],[\"Miles Plumlee\"],[\"Mirza Teletovi\\u0107\"],[\"Patrick Beverley\"],[\"Quincy Acy\"],[\"Terrence Jones\"],[\"Terrence Ross\"],[\"Thomas Robinson\"],[\"Tyler Zeller\"],[\"Will Barton\"],[\"Alex Len\"],[\"Allen Crabbe\"],[\"Andre Roberson\"],[\"Ben McLemore\"],[\"CJ McCollum\"],[\"Cody Zeller\"],[\"Dennis Schr\\u00f6der\"],[\"Dewayne Dedmon\"],[\"Giannis Antetokounmpo\"],[\"Gorgui Dieng\"],[\"Ian Clark\"],[\"Isaiah Canaan\"],[\"Jeff Withey\"],[\"Kelly Olynyk\"],[\"Kentavious Caldwell-Pope\"],[\"Lorenzo Brown\"],[\"Mason Plumlee\"],[\"Matthew Dellavedova\"],[\"Michael Carter-Williams\"],[\"Mike Muscala\"],[\"Otto Porter Jr.\"],[\"Reggie Bullock\"],[\"Robert Covington\"],[\"Rudy Gobert\"],[\"Seth Curry\"],[\"Shabazz Muhammad\"],[\"Solomon Hill\"],[\"Steven Adams\"],[\"Tim Hardaway Jr.\"],[\"Tony Snell\"],[\"Trey Burke\"],[\"Troy Daniels\"],[\"Victor Oladipo\"],[\"Aaron Gordon\"],[\"Andrew Wiggins\"],[\"Bojan Bogdanovi\\u0107\"],[\"Bruno Caboclo\"],[\"Clint Capela\"],[\"Dante Exum\"],[\"Doug McDermott\"],[\"Dwight Powell\"],[\"Elfrid Payton\"],[\"Gary Harris\"],[\"Glenn Robinson III\"],[\"Jabari Parker\"],[\"JaKarr Sampson\"],[\"James Ennis III\"],[\"JaMychal Green\"],[\"Jerami Grant\"],[\"Joe Harris\"],[\"Joe Ingles\"],[\"Jordan Clarkson\"],[\"Julius Randle\"],[\"Jusuf Nurki\\u0107\"],[\"Kyle Anderson\"],[\"Langston Galloway\"],[\"Marcus Smart\"],[\"Nerlens Noel\"],[\"Nik Stauskas\"],[\"Nikola Miroti\\u0107\"],[\"Noah Vonleh\"],[\"Rodney Hood\"],[\"Shabazz Napier\"],[\"Spencer Dinwiddie\"],[\"T.J. Warren\"],[\"Tim Frazier\"],[\"Tyler Johnson\"],[\"Zach LaVine\"],[\"Boban Marjanovi\\u0107\"],[\"Bobby Portis\"],[\"Cameron Payne\"],[\"Christian Wood\"],[\"Cristiano Fel\\u00edcio\"],[\"D'Angelo Russell\"],[\"Delon Wright\"],[\"Devin Booker\"],[\"Emmanuel Mudiay\"],[\"Frank Kaminsky\"],[\"Jahlil Okafor\"],[\"Jerian Grant\"],[\"Josh Richardson\"],[\"Justin Anderson\"],[\"Justise Winslow\"],[\"Karl-Anthony Towns\"],[\"Kelly Oubre Jr.\"],[\"Kevon Looney\"],[\"Kristaps Porzi\\u0146\\u0123is\"],[\"Larry Nance Jr.\"],[\"Mario Hezonja\"],[\"Montrezl Harrell\"],[\"Myles Turner\"],[\"Nemanja Bjelica\"],[\"Nikola Joki\\u0107\"],[\"Norman Powell\"],[\"Pat Connaughton\"],[\"Raul Neto\"],[\"Richaun Holmes\"],[\"Rondae Hollis-Jefferson\"],[\"Sam Dekker\"],[\"Stanley Johnson\"],[\"T.J. McConnell\"],[\"Terry Rozier\"],[\"Thanasis Antetokounmpo\"],[\"Trey Lyles\"],[\"Tyus Jones\"],[\"Willie Cauley-Stein\"],[\"Brandon Ingram\"],[\"Bryn Forbes\"],[\"Buddy Hield\"],[\"Caris LeVert\"],[\"Cheick Diallo\"],[\"Damian Jones\"],[\"Danuel House Jr.\"],[\"Dario \\u0160ari\\u0107\"],[\"David Nwaba\"],[\"D\\u0101vis Bert\\u0101ns\"],[\"DeAndre' Bembry\"],[\"Dejounte Murray\"],[\"Denzel Valentine\"],[\"Derrick Jones Jr.\"],[\"Domantas Sabonis\"],[\"Dorian Finney-Smith\"],[\"Fred VanVleet\"],[\"Gary Payton II\"],[\"Georges Niang\"],[\"Henry Ellenson\"],[\"Ivica Zubac\"],[\"Jake Layman\"],[\"Jakob Poeltl\"],[\"Jamal Murray\"],[\"Jaylen Brown\"],[\"Joel Embiid\"],[\"Juancho Hernang\\u00f3mez\"],[\"Kris Dunn\"],[\"Malcolm Brogdon\"],[\"Malik Beasley\"],[\"Marquese Chriss\"],[\"Pascal Siakam\"],[\"Patrick McCaw\"],[\"Quinn Cook\"],[\"Rodney McGruder\"],[\"Taurean Prince\"],[\"Thon Maker\"],[\"Timoth\\u00e9 Luwawu-Cabarrot\"],[\"Tom\\u00e1\\u0161 Satoransk\\u00fd\"],[\"Willy Hernang\\u00f3mez\"],[\"Yogi Ferrell\"],[\"Abdel Nader\"],[\"Alex Caruso\"],[\"Alfonzo McKinnie\"],[\"Bam Adebayo\"],[\"Ben Simmons\"],[\"Bogdan Bogdanovi\\u0107\"],[\"Cedi Osman\"],[\"Chris Boucher\"],[\"D.J. Wilson\"],[\"Damion Lee\"],[\"Damyean Dotson\"],[\"Daniel Theis\"],[\"De'Aaron Fox\"],[\"Dennis Smith Jr.\"],[\"Derrick White\"],[\"Dillon Brooks\"],[\"Donovan Mitchell\"],[\"Edmond Sumner\"],[\"Frank Ntilikina\"],[\"Furkan Korkmaz\"],[\"Jarrett Allen\"],[\"Jayson Tatum\"],[\"John Collins\"],[\"Jonathan Isaac\"],[\"Jordan Bell\"],[\"Josh Hart\"],[\"Josh Jackson\"],[\"Justin Jackson\"],[\"Khem Birch\"],[\"Kyle Kuzma\"],[\"Lauri Markkanen\"],[\"Lonzo Ball\"],[\"Luke Kennard\"],[\"Luke Kornet\"],[\"Malik Monk\"],[\"Markelle Fultz\"],[\"Maxi Kleber\"],[\"Monte Morris\"],[\"OG Anunoby\"],[\"PJ Dozier\"],[\"Royce O'Neale\"],[\"Ryan Arcidiacono\"],[\"Semi Ojeleye\"],[\"Shaquille Harrison\"],[\"Sterling Brown\"],[\"Thomas Bryant\"],[\"Tony Bradley\"],[\"Torrey Craig\"],[\"Wes Iwundu\"],[\"Zach Collins\"],[\"Aaron Holiday\"],[\"Alize Johnson\"],[\"Anfernee Simons\"],[\"Bruce Brown\"],[\"Chimezie Metu\"],[\"Collin Sexton\"],[\"De'Anthony Melton\"],[\"Deandre Ayton\"],[\"Devonte' Graham\"],[\"Donte DiVincenzo\"],[\"Drew Eubanks\"],[\"Duncan Robinson\"],[\"Frank Jackson\"],[\"Gary Trent Jr.\"],[\"Grayson Allen\"],[\"Hamidou Diallo\"],[\"Isaiah Hartenstein\"],[\"Jalen Brunson\"],[\"Jaren Jackson Jr.\"],[\"Jarred Vanderbilt\"],[\"Jevon Carter\"],[\"Josh Okogie\"],[\"Keita Bates-Diop\"],[\"Kenrich Williams\"],[\"Kevin Huerter\"],[\"Kevin Knox\"],[\"Landry Shamet\"],[\"Lonnie Walker IV\"],[\"Luka Don\\u010di\\u0107\"],[\"Marvin Bagley III\"],[\"Mikal Bridges\"],[\"Miles Bridges\"],[\"Mitchell Robinson\"],[\"Mo Bamba\"],[\"Moritz Wagner\"],[\"Robert Williams\"],[\"Shai Gilgeous-Alexander\"],[\"Shake Milton\"],[\"Svi Mykhailiuk\"],[\"Theo Pinson\"],[\"Trae Young\"],[\"Troy Brown Jr.\"],[\"Wendell Carter Jr.\"],[\"Yuta Watanabe\"]],\"hovertemplate\":\"hof=0\\u003cbr\\u003eAST=%{x}\\u003cbr\\u003eTRB=%{y}\\u003cbr\\u003eplayer=%{customdata[0]}\\u003cextra\\u003e\\u003c\\u002fextra\\u003e\",\"legendgroup\":\"0\",\"marker\":{\"color\":\"#636efa\",\"symbol\":\"circle\"},\"mode\":\"markers\",\"name\":\"0\",\"showlegend\":true,\"x\":[1.2,2.3,1.6,1.4,1.5,1.6,2.6,3.2,1.6,3.0,1.3,1.0,2.8,1.3,2.0,1.2,2.1,1.4,1.2,2.3,2.9,0.7,3.8,2.0,2.2,2.3,0.9,1.9,1.9,1.8,1.9,2.2,2.0,2.1,1.5,2.7,2.4,2.6,2.9,2.3,2.8,3.2,2.6,1.6,2.1,1.6,1.3,1.7,1.4,0.0,1.2,3.0,2.6,0.6,3.7,2.1,1.3,2.1,1.8,4.3,0.7,0.7,2.8,3.7,2.3,2.2,0.7,2.5,3.3,2.6,2.0,1.9,0.7,1.6,1.7,1.1,2.2,1.2,3.7,1.7,3.3,1.6,0.9,3.4,0.8,1.1,1.1,3.5,1.5,1.0,0.8,0.9,1.3,1.4,2.8,1.4,2.1,1.1,1.4,1.8,1.0,3.1,0.9,1.6,2.0,2.3,2.1,1.9,3.0,3.2,2.2,1.7,0.8,2.8,1.1,1.2,2.1,0.9,0.8,2.9,3.7,0.8,1.3,1.8,1.7,2.8,1.4,2.0,2.3,3.5,1.1,1.5,3.0,0.9,0.7,1.6,4.0,3.8,0.8,3.4,1.4,3.7,1.6,0.8,1.3,1.4,2.1,3.1,4.9,1.1,2.1,3.7,1.7,3.3,1.1,1.4,2.9,2.6,2.2,4.8,5.0,1.4,2.2,1.1,2.9,0.6,2.0,3.0,2.1,4.0,0.8,2.1,0.8,3.0,1.4,1.3,3.0,0.7,1.7,1.0,0.7,1.0,4.4,1.0,1.8,0.6,1.4,1.5,2.9,1.3,2.7,2.2,3.5,2.6,0.7,3.5,3.2,0.8,2.0,4.5,1.0,3.2,2.1,1.7,3.3,1.2,1.6,4.5,3.5,1.2,1.4,1.3,1.9,1.3,1.7,1.7,1.0,1.5,2.2,1.5,2.4,2.7,2.1,1.3,2.7,1.8,1.4,1.6,0.6,2.2,1.0,1.2,1.1,1.3,1.4,3.5,0.3,1.8,1.0,2.4,1.0,1.1,3.1,3.0,2.4,1.6,3.7,3.5,1.7,2.9,3.2,5.3,1.2,2.0,3.6,2.0,0.8,3.6,2.5,4.0,3.5,3.0,3.6,3.8,2.4,1.9,0.6,1.6,0.8,2.5,4.5,0.6,4.8,2.1,7.0,2.7,1.4,2.9,0.6,1.8,2.0,2.9,2.0,4.5,2.1,1.1,1.9,2.0,1.9,1.6,4.6,1.3,0.6,2.5,3.5,1.7,3.8,0.5,3.3,2.4,3.7,0.8,2.1,5.3,2.8,1.3,2.2,1.6,1.4,1.8,3.4,2.5,0.8,1.4,3.3,1.0,0.9,0.5,3.9,1.1,2.1,3.9,3.0,2.8,1.3,1.0,3.7,4.0,2.6,1.5,3.0,1.3,4.6,3.2,1.3,3.4,1.7,0.8,0.7,4.1,0.7,3.4,1.9,3.4,0.8,1.3,1.1,3.4,4.6,1.6,3.0,1.8,3.3,3.8,1.6,3.7,1.5,8.1,1.5,2.8,1.8,0.5,0.4,3.2,2.9,1.0,1.4,1.1,3.3,1.2,1.3,2.7,5.1,1.5,1.4,2.8,2.5,1.4,1.4,2.2,0.8,1.9,2.3,1.3,0.9,1.6,6.1,1.7,1.2,1.0,2.8,2.3,4.1,3.0,3.8,4.7,1.1,1.3,0.8,2.0,1.7,1.4,1.5,0.9,2.1,2.4,3.0,3.9,2.0,1.9,1.3,4.8,1.7,4.1,1.1,0.8,2.9,2.0,1.3,1.4,0.4,5.6,3.5,1.7,0.9,0.6,1.8,2.4,1.9,0.9,4.5,2.0,2.5,1.2,1.0,2.6,4.3,0.9,1.6,1.1,3.7,4.7,3.4,7.0,4.5,3.4,1.1,3.6,2.2,2.2,0.7,2.3,4.3,1.2,3.8,1.0,1.7,2.1,1.2,1.5,1.4,1.2,1.2,4.9,2.2,3.2,2.1,3.8,2.0,1.4,2.2,1.3,1.3,1.4,1.8,0.5,3.6,3.2,1.6,8.3,3.2,5.8,5.5,2.7,1.8,1.6,1.5,0.6,3.8,3.5,1.0,1.7,1.6,0.3,1.8,1.0,0.6,1.0,1.9,4.2,7.0,1.3,2.3,6.4,2.5,6.3,1.2,1.4,1.8,1.2,0.9,4.8,1.4,2.2,2.0,2.5,2.0,1.9,5.1,1.9,1.3,0.8,1.4,2.9,2.2,0.6,2.6,1.2,0.7,1.3,1.6,2.0,3.3,4.2,2.8,2.0,1.9,2.1,3.7,1.8,1.0,0.9,0.8,0.5,1.0,3.3,1.8,7.4,5.2,2.1,4.0,5.2,1.1,3.5,1.5,2.6,1.3,2.1,2.3,1.0,0.4,4.0,5.0,4.2,1.8,2.2,1.0,1.3,0.7,4.0,1.1,1.2,5.0,2.1,1.8,4.2,2.6,2.9,0.5,1.7,2.0,0.9,3.0,3.0,1.4,1.2,1.1,2.6,1.3,2.9,3.1,1.2,1.9,0.5,0.5,3.0,0.4,1.2,2.1,1.2,0.2,0.1,2.9,0.9,2.5,0.5,2.1,0.7,6.2,6.0,1.2,3.9,1.0,1.0,0.3,1.4,5.1,2.3,1.5,1.9,1.6,0.7,0.5,5.4,1.9,1.4,2.0,2.1,1.6,2.5,1.6,2.8,1.4,4.6,2.0,5.5,5.7,4.6,1.2,0.5,0.5,2.4,3.6,2.9,1.2,0.4,1.6,1.1,0.9,2.2,3.6,1.0,3.8,0.9,2.3,1.4,5.0,1.1,1.3,2.9,0.2,1.9,5.5,1.0,1.9,1.0,0.4,0.9,3.2,0.5,0.9,3.0,2.2,1.1,1.4,2.1,1.5,2.8,0.4,1.0,1.6,1.5,4.8,1.1,1.3,0.6,0.9,0.3,2.5,3.4,0.9,3.0,2.0,0.6,2.1,1.0,0.3,6.4,0.3,3.9,2.1,5.3,1.1,0.9,5.6,1.8,0.4,1.3,2.0,3.1,0.6,1.7,3.7,1.1,1.7,2.8,0.5,1.9,1.8,0.4,1.8,4.9,1.2,2.9,5.5,1.5,0.9,0.7,0.9,1.2,1.1,6.7,0.7,6.1,1.8,2.1,0.9,3.9,1.0,6.5,1.1,0.5,1.2,1.0,1.1,0.4,0.6,1.6,2.4,0.6,2.2,0.8,1.0,2.1,5.5,2.0,9.1,0.5,8.0,7.6,0.7,2.6,1.5,1.0,1.0,2.2,4.7,0.6,1.8,5.5,4.2,0.6,0.9,1.6,3.1,2.9,2.3,0.7,0.9,0.5,5.5,1.7,1.6,2.9,0.2,1.4,1.5,2.9,3.6,2.7,1.7,0.6,5.8,2.4,0.8,2.7,1.4,7.3,1.3,2.4,1.8,0.9,0.9,3.4,3.2,0.8,3.8,0.2,3.4,3.3,2.0,0.6,0.8,2.2,3.3,1.0,1.9,2.3,2.1,2.7,3.9,1.0,1.2,6.7,2.6,1.5,6.5,0.6,1.1,2.6,1.6,5.9,0.9,0.6,1.3,1.4,0.6,0.3,1.4,3.9,1.2,1.3,1.8,2.1,2.5,0.4,0.4,1.1,0.3,0.5,0.4,0.6,0.8,0.8,3.0,0.9,3.3,0.9,3.5,2.6,0.9,2.8,3.5,0.6,1.0,2.0,0.1,0.3,1.3,0.4,1.9,0.8,1.2,2.8,1.1,2.7,0.6,0.7,0.9,0.6,0.6,0.8,1.4,3.1,4.9,4.0,1.2,0.7,6.1,3.3,1.3,1.5,1.7,1.0,0.8,2.2,2.8,4.6,1.6,0.6,3.1,6.1,1.0,0.9,0.7,0.8,2.4,3.0,2.0,2.6,1.5,1.3,3.6,2.1,0.7,1.7,3.2,2.1,2.2,1.6,4.0,3.6,1.2,1.6,1.0,1.7,0.7,2.2,2.1,1.3,0.8,1.5,2.8,0.8,2.3,0.7,2.4,5.0,1.1,0.3,1.6,3.3,1.3,1.7,1.9,2.8,0.7,4.4,0.3,0.5,1.4,0.5,1.0,2.7,4.0,1.9,2.7,1.4,1.2,0.9,6.6,1.5,1.3,1.0,1.7,2.0,6.0,1.4,0.7,2.6,1.9,2.7,0.4,0.3,0.4,1.2,0.6,4.0,4.9,4.0,2.9,0.9,1.4,2.9,1.8,0.4,1.0,2.7,1.4,3.5,3.8,0.3,2.2,3.2,1.3,0.4,1.5,1.2,0.6,1.7,0.7,0.6,0.6,2.8,1.3,3.8,3.2,1.6,0.6,1.0,1.2,2.7,6.1,0.4,0.3,5.0,1.4,1.6,1.0,0.6,0.9,3.3,1.0,0.8,1.1,1.3,2.9,1.8,0.6,3.5,2.1,3.5,1.2,0.5,0.6,3.0,1.8,0.8,2.4,0.7,4.4,1.4,0.8,0.7,2.6,0.8,0.8,1.9,2.9,2.8,0.6,2.0,0.6,1.4,2.5,7.6,0.2,1.9,0.6,0.7,1.1,0.5,4.1,2.9,2.3,3.4,1.0,2.6,6.1,1.6,0.9,5.4,0.6,0.7,3.4,2.5,0.3,1.6,0.5,2.3,0.6,0.4,1.2,0.3,2.6,2.1,1.6,0.4,1.1,1.5,0.6,3.4,1.1,1.7,1.6,2.1,2.8,0.5,0.2,2.2,2.7,2.7,3.2,0.2,5.9,0.5,0.3,0.9,3.1,1.4,2.6,0.6,0.7,5.5,0.7,0.4,0.8,1.8,1.1,1.7,1.0,3.3,0.7,1.8,0.2,2.4,3.1,3.1,0.3,1.4,6.5,3.8,7.2,0.4,3.4,2.1,0.9,1.5,0.9,2.1,1.3,1.6,3.8,0.9,1.4,0.6,0.9,1.5,3.7,2.7,0.6,2.5,4.8,3.4,0.8,0.5,0.7,1.9,6.0,2.4,1.0,0.5,1.9,0.9,1.6,1.6,0.8,1.2,1.6,0.8,2.8,0.9,0.3,0.5,0.6,3.4,0.3,2.3,0.3,0.4,1.9,2.2,1.0,0.1,0.8,1.2,0.8,0.4,1.9,2.1,2.6,1.5,1.5,1.7,0.5,3.1,0.5,0.3,0.2,2.7,1.5,0.5,0.8,3.1,2.3,0.5,0.4,4.4,0.8,0.5,0.4,2.1,5.3,6.1,0.8,0.9,2.7,3.9,0.9,0.3,0.5,0.7,0.5,3.7,0.5,2.0,0.5,1.8,4.3,0.2,1.8,1.5,0.8,1.4,1.8,0.4,1.2,0.9,2.2,2.3,0.7,2.5,0.4,1.5,1.1,2.3,1.5,0.4,2.0,1.3,2.4,1.8,1.0,3.6,1.7,0.7,2.2,1.2,1.8,0.8,0.6,1.3,2.3,2.9,2.4,3.5,0.6,2.7,1.3,0.8,1.2,0.9,2.2,0.6,1.0,0.5,1.1,0.8,1.6,1.3,1.0,4.8,1.7,2.1,7.4,0.4,4.5,2.3,2.1,1.8,1.8,0.7,0.8,4.9,0.6,0.9,4.0,5.8,0.8,0.8,1.4,1.3,1.5,1.2,4.2,1.2,0.9,2.5,3.4,1.7,4.4,0.2,1.4,3.6,3.9,1.5,1.3,0.8,2.1,5.1,1.6,3.1,1.9,0.7,2.3,0.7,0.8,1.0,0.9,1.0,1.3,3.5,3.0,1.3,2.1,1.1,1.2,1.4,2.2,1.2,1.0,0.8,1.1,1.0,0.8,9.5,1.2,1.9,2.2,8.1,0.1,0.5,0.9,1.4,0.9,0.8,0.3,0.4,4.6,0.4,0.5,0.5,1.5,5.8,0.5,0.8,3.4,2.1,1.0,1.3,4.6,3.0,5.2,1.8,1.3,1.5,0.2,0.5,2.4,0.7,3.3,1.2,4.7,1.9,0.8,2.0,1.1,0.3,3.9,2.0,2.9,1.1,6.3,1.9,0.3,0.4,1.5,2.2,7.9,2.8,0.6,0.4,1.6,2.1,0.3,3.4,1.1,0.7,0.5,0.4,0.3,1.4,0.9,3.0,0.7,3.3,1.8,0.5,2.5,0.7,1.5,0.7,1.2,0.9,0.6,1.0,1.5,0.7,1.5,2.8,0.2,2.1,4.3,0.3,1.6,1.1,1.7,5.6,1.0,4.1,3.6,1.9,1.8,1.8,0.7,0.5,0.9,0.7,0.9,1.0,1.4,0.5,1.1,1.7,3.9,0.6,1.9,0.8,1.0,5.4,2.8,3.1,4.8,0.3,0.8,0.8,1.1,0.4,2.9,2.4,0.5,0.9,3.4,3.7,0.7,1.3,3.5,2.9,0.8,1.3,8.4,0.9,2.2,1.1,0.7,5.7,0.8,1.2,1.6,0.7,5.0,0.8,3.9,1.3,0.5,2.8,1.7,1.9,0.1,6.8,2.1,0.4,5.6,1.1,0.8,0.8,6.4,1.4,1.1,2.3,1.5,0.8,6.5,1.0,2.3,6.0,0.4,4.8,1.1,2.0,1.2,1.7,4.1,0.5,3.0,1.1,0.7,0.7,4.7,3.5,1.6,3.5,2.1,4.8,0.6,3.9,1.2,0.7,0.4,4.3,9.1,3.1,0.6,2.9,1.6,0.7,0.6,0.7,0.6,1.0,3.6,0.7,1.2,0.6,1.1,1.1,0.6,2.0,0.6,3.9,2.7,3.0,0.7,0.7,3.0,1.8,0.9,0.3,1.8,4.8,1.4,4.1,0.8,0.8,2.9,5.3,1.0,2.3,5.7,0.7,1.0,1.5,1.6,1.4,2.7,2.7,4.3,7.6,3.1,2.3,1.0,1.4,0.4,2.3,0.8,2.2,4.2,2.3,6.6,1.4,2.8,1.1,5.4,2.6,1.8,1.6,1.8,1.6,1.1,0.8,1.2,1.5,1.8,3.8,1.4,0.8,0.9,0.9,1.2,0.9,0.5,0.8,3.5,0.6,1.0,1.3,0.6,0.9,2.7,0.9,1.1,0.9,1.0,3.5,1.4,4.7,0.7,4.6,1.3,1.2,1.9,0.3,2.0,1.7,1.8,2.4,3.7,4.4,0.9,1.5,1.2,1.5,1.3,2.2,0.5,1.5,1.5,1.9,1.1,3.1,0.5,3.9,2.5,2.3,1.6,0.7,1.0,2.1,0.9,1.0,5.7,2.1,0.8,2.0,0.7,0.9,0.9,1.3,1.6,3.8,2.5,3.6,2.2,2.3,1.6,4.5,1.1,1.5,1.3,0.8,1.6,2.5,5.0,1.2,4.0,2.3,3.9,0.5,1.2,3.2,1.3,0.7,5.6,3.0,4.7,3.8,1.6,0.9,2.9,2.7,0.8,2.5,3.1,1.0,1.4,1.6,1.9,1.3,1.4,1.2,1.8,6.2,1.5,1.2,2.2,1.1,1.9,0.8,1.5,5.0,3.2,0.7,1.1,3.7,1.4,3.8,1.2,2.5,4.0,0.4,0.8,1.3,2.0,1.0,1.0,1.8,4.8,1.8,0.7,3.6,1.4,4.9,1.1,0.8,0.6,1.1,0.5,1.4,3.8,2.0,3.3,0.6,4.2,4.8,1.2,1.0,3.1,1.4,1.6,1.2,1.7,0.6,0.9,4.1,1.1,2.3,0.5,2.7,0.3,3.5,7.7,3.4,2.1,0.5,0.7,1.4,1.5,1.3,6.2,4.2,3.8,2.0,4.5,1.1,2.3,1.3,1.4,3.0,1.6,1.1,1.2,2.1,1.8,1.1,1.0,2.2,1.3,6.2,2.0,1.0,2.0,4.8,1.1,3.7,1.4,1.8,2.1,2.1,0.4,1.5,1.0,1.3,0.5,0.9,0.9,1.1,2.4,0.4,2.0,2.1,0.8,3.3,2.8,1.6,5.0,2.5,0.9,1.5,1.0,1.4,1.5,1.1,1.5,3.7,1.2,1.1,1.4,1.1,0.6,2.0,3.2,0.8,1.6,1.6,8.0,0.9,2.1,2.3,0.6,0.9,1.1,1.4,4.3,2.6,1.4,1.1,9.1,1.6,2.0,0.6],\"xaxis\":\"x\",\"y\":[4.0,2.8,3.5,7.9,4.7,6.2,2.7,3.5,4.6,4.5,2.9,1.0,2.0,5.8,2.8,4.3,4.0,7.6,1.5,3.0,5.1,1.4,3.1,6.6,6.2,4.0,5.5,3.1,6.9,8.1,4.0,2.2,1.8,7.0,6.9,2.5,4.6,2.4,6.0,6.9,9.2,5.4,3.7,2.0,3.7,5.5,3.8,9.8,8.4,1.2,5.3,9.6,3.3,6.3,2.7,3.1,4.7,3.5,3.2,4.2,8.9,4.3,3.7,4.1,3.6,11.2,3.4,2.2,2.6,4.2,4.8,5.2,5.6,7.8,3.1,11.3,2.5,4.3,3.6,6.9,4.3,9.1,7.4,3.3,6.2,7.8,5.2,4.7,6.7,5.2,5.1,3.8,4.6,5.3,2.9,8.6,9.4,6.0,8.1,7.6,4.6,3.0,4.2,5.9,2.8,2.1,2.9,2.6,1.8,2.9,9.8,8.6,5.6,11.9,4.4,3.3,2.5,4.1,7.2,2.5,3.0,5.1,8.3,5.6,7.0,4.7,5.6,3.1,2.5,2.8,6.2,2.6,2.8,5.5,5.2,10.3,2.4,4.3,6.5,5.3,6.3,4.9,6.9,1.2,5.5,6.0,9.9,2.2,3.0,3.2,3.0,1.8,4.7,4.1,5.9,8.6,2.4,4.5,4.2,3.3,2.0,5.9,3.8,10.3,2.8,4.4,4.7,2.5,2.5,3.7,3.9,5.2,3.2,3.1,5.1,6.6,2.0,3.4,5.3,6.8,5.5,4.9,3.1,6.3,2.6,3.5,8.9,8.3,3.9,7.0,3.1,7.6,3.1,3.4,5.1,3.5,6.8,4.5,6.8,1.6,7.3,10.5,10.9,11.6,2.0,5.2,7.4,4.3,2.7,8.4,1.9,6.2,2.7,1.1,10.5,5.3,6.0,2.8,3.5,6.6,10.0,5.0,9.2,5.5,7.0,3.2,6.3,5.2,3.7,4.0,3.5,5.6,2.4,6.3,9.4,2.6,3.3,7.3,4.4,5.0,4.8,9.0,3.3,11.9,2.9,8.2,4.2,1.9,3.1,3.3,9.0,6.7,8.0,1.8,2.4,4.2,4.1,3.4,3.0,3.9,3.9,3.3,3.3,3.8,6.5,2.3,2.7,11.0,6.2,2.1,3.1,4.6,2.5,7.7,4.8,7.4,8.3,2.2,3.8,5.3,7.7,8.3,8.0,2.3,4.5,7.5,8.8,4.6,5.6,7.5,2.8,3.0,4.3,5.3,2.6,5.3,5.5,3.0,3.7,1.7,9.7,4.1,8.3,2.6,2.9,5.4,8.9,7.2,7.6,6.6,1.4,2.6,1.9,10.6,2.7,3.9,5.6,4.1,3.0,6.5,1.9,1.5,2.7,2.9,3.9,2.7,2.9,3.0,1.3,3.8,3.6,8.6,3.7,8.7,4.7,2.9,6.8,3.7,2.3,2.7,2.8,3.0,2.5,3.0,2.4,1.4,3.6,2.4,2.7,5.9,1.6,5.6,2.3,3.0,8.2,3.1,5.9,1.8,7.7,2.1,3.3,3.5,2.3,4.0,1.9,4.2,8.2,4.9,3.2,5.9,6.0,4.0,2.0,6.3,4.4,2.5,2.0,8.3,7.3,8.9,4.8,2.4,6.4,6.9,4.9,7.0,3.2,11.6,6.7,4.1,3.3,5.3,2.6,4.8,2.1,2.6,1.7,4.1,5.0,4.3,6.9,4.0,1.5,5.1,9.1,9.1,7.2,3.0,4.8,6.2,6.3,2.3,9.4,7.0,6.1,3.9,4.4,9.2,6.1,3.6,1.7,2.7,2.0,4.0,5.6,3.3,7.5,3.5,2.4,5.6,2.4,4.5,5.3,6.8,4.7,7.0,2.6,1.0,4.7,4.0,2.7,2.0,4.2,2.3,2.0,1.6,6.5,1.1,6.1,4.3,5.4,5.5,2.7,6.3,2.7,3.0,4.1,4.1,3.2,3.1,3.2,3.9,5.2,1.8,6.3,1.4,4.0,1.9,2.6,4.5,6.1,5.1,1.1,7.4,5.7,6.1,7.0,1.8,1.2,2.6,3.0,3.6,1.9,4.5,1.3,4.4,5.1,5.8,3.0,1.4,4.6,5.9,1.6,1.7,5.6,1.6,4.8,2.8,2.8,3.2,5.5,5.6,7.4,1.8,4.3,3.3,4.7,2.0,1.9,5.4,6.2,1.7,6.3,6.8,8.3,2.4,7.9,1.8,1.4,3.2,4.6,5.0,4.5,2.0,2.5,3.5,1.4,5.6,3.4,5.3,6.2,4.2,3.2,2.2,2.8,9.7,1.5,3.3,2.1,2.8,4.7,4.8,7.8,4.1,5.7,1.4,7.7,3.0,1.9,3.4,2.2,1.8,9.2,1.3,3.7,6.3,6.9,3.4,2.3,6.2,3.5,1.9,2.1,1.3,3.0,4.2,6.3,10.0,2.4,2.7,5.0,3.9,2.1,4.0,2.7,1.7,1.0,5.8,2.3,5.9,5.5,1.5,10.2,3.8,1.3,4.4,5.6,8.0,2.3,3.1,5.0,2.1,4.3,2.3,2.3,3.3,2.5,5.5,6.1,1.4,2.0,1.5,9.5,5.2,1.3,1.2,3.2,3.3,6.0,2.6,6.8,2.7,3.2,7.9,3.0,3.0,3.9,2.5,3.5,2.4,3.6,2.3,2.2,2.6,7.3,2.6,2.0,0.9,2.2,2.8,1.2,3.6,3.5,4.4,2.6,2.4,3.0,1.8,2.8,2.2,3.8,2.6,1.2,1.1,1.4,4.9,3.2,1.2,4.4,1.4,6.6,6.8,1.8,6.1,7.8,5.1,5.2,3.4,1.7,1.2,3.1,4.7,2.5,3.3,5.5,4.8,3.5,8.4,1.2,4.6,7.6,1.4,8.2,0.8,3.5,7.5,6.0,2.0,2.6,4.9,2.1,3.1,3.4,7.4,7.5,3.0,5.7,2.5,9.5,6.2,5.0,2.9,3.0,4.1,1.3,4.9,4.2,2.9,2.2,2.1,0.9,2.1,1.8,6.4,3.0,4.7,1.8,6.1,6.1,1.5,4.1,5.4,9.5,2.7,3.5,5.1,3.0,1.9,2.4,2.1,6.8,3.4,4.5,5.1,2.5,2.2,4.7,4.0,5.8,4.9,3.4,2.6,4.4,4.0,3.8,1.8,2.1,4.3,10.0,2.5,2.8,2.4,6.9,0.5,2.8,6.2,3.8,2.8,4.7,6.2,8.1,1.4,3.3,6.1,2.0,2.2,3.3,4.1,3.8,2.6,6.7,4.3,2.4,3.9,4.9,2.5,2.8,4.8,2.2,1.7,3.4,4.8,1.4,4.7,0.9,4.5,5.2,2.4,1.9,3.2,2.3,6.1,4.4,3.6,2.7,3.0,5.8,1.2,2.5,2.7,2.2,3.8,2.5,1.2,2.3,2.5,6.1,3.7,9.5,1.0,1.2,4.0,4.0,2.6,2.3,4.9,3.8,2.5,8.3,1.8,3.4,2.6,3.1,4.6,1.9,2.8,2.5,3.1,4.4,0.9,2.3,5.0,1.8,4.1,5.1,6.7,2.8,4.9,3.7,4.3,8.4,2.2,3.3,6.0,1.6,2.1,3.3,3.3,5.4,2.1,5.3,2.8,1.0,2.8,9.3,4.2,2.5,5.9,5.4,2.6,1.5,7.5,1.8,2.9,4.1,1.9,6.2,7.1,1.9,2.8,2.0,1.3,1.8,4.7,1.8,0.7,1.0,3.0,5.4,4.3,1.6,8.6,2.9,6.7,6.2,3.1,3.6,5.3,7.9,4.0,4.9,3.2,4.2,1.4,2.5,1.9,4.7,1.0,3.1,7.5,4.0,4.9,1.9,3.5,3.3,1.8,3.8,2.0,3.2,5.2,3.2,3.0,1.5,4.8,4.1,4.5,2.6,1.6,3.4,6.7,7.5,3.8,4.1,1.3,3.5,1.5,4.7,1.1,1.8,6.5,4.1,1.3,0.5,2.2,6.3,3.2,5.7,5.9,4.8,2.1,3.8,3.4,7.3,2.5,3.9,3.9,2.9,4.5,7.5,2.3,4.9,1.1,3.5,3.2,4.9,1.4,4.2,2.5,2.6,6.1,5.0,6.4,1.1,3.8,5.4,1.7,2.2,2.3,1.6,2.0,2.9,7.7,7.4,1.8,1.2,4.5,3.2,3.5,6.3,1.5,7.4,3.3,2.7,1.5,2.0,7.4,4.3,2.6,2.4,2.7,1.1,3.6,6.7,4.0,1.8,4.6,2.2,6.1,2.7,1.7,3.5,3.1,6.1,2.1,4.1,2.7,7.1,2.8,3.0,3.3,3.6,5.0,4.2,1.3,7.5,3.4,3.0,6.9,3.6,2.2,3.9,1.6,3.5,2.9,1.0,2.5,3.3,2.7,4.5,5.5,4.4,3.2,6.4,2.6,6.6,3.0,4.4,6.7,5.7,1.8,2.8,7.7,2.8,2.3,5.0,2.1,1.9,7.1,2.6,7.1,2.0,7.2,6.4,2.8,3.9,6.4,4.1,9.8,1.7,2.0,4.4,1.4,4.7,3.1,7.5,3.0,3.0,2.5,3.1,4.5,2.6,4.7,2.5,1.7,3.2,1.8,4.0,3.1,2.4,2.9,1.4,2.9,2.2,7.2,3.2,1.3,2.1,6.8,5.3,1.5,3.6,1.7,4.6,3.2,1.3,3.1,1.3,4.6,3.3,4.1,5.1,1.7,7.3,5.6,7.5,4.6,7.1,4.7,1.0,1.2,3.9,1.6,1.3,5.8,2.3,3.5,3.1,5.9,4.2,5.1,2.9,3.3,6.8,3.1,3.9,4.7,2.6,4.7,6.1,5.2,5.1,3.5,3.7,4.2,2.2,1.6,1.7,4.3,4.4,3.2,3.7,2.1,3.8,2.8,1.7,4.9,3.1,3.1,2.7,8.5,2.8,4.7,2.3,6.9,1.1,2.2,4.2,6.9,8.4,4.5,3.9,1.8,2.8,3.1,2.6,2.1,2.7,8.7,5.6,4.0,2.3,5.3,4.9,2.2,2.2,4.5,4.0,1.1,1.7,3.7,4.0,2.9,3.9,3.4,6.5,2.2,2.9,1.7,2.7,6.2,6.8,1.3,3.1,3.3,4.3,4.6,4.6,2.6,1.0,3.8,4.2,3.5,4.7,2.8,2.8,3.9,4.6,1.7,3.5,5.5,3.8,6.0,2.0,1.7,2.2,5.0,3.7,2.3,5.8,5.2,4.7,5.8,3.9,2.9,2.9,3.7,5.0,4.0,5.5,3.2,2.8,2.5,3.4,2.5,3.9,4.0,7.8,4.2,2.5,3.2,2.8,7.8,9.0,3.8,9.1,3.2,7.8,2.6,9.5,5.0,4.9,1.4,4.4,2.8,7.1,2.2,2.5,3.4,1.4,4.1,2.9,1.9,1.7,2.7,7.0,3.2,4.3,1.0,6.0,2.4,7.1,1.7,2.1,2.4,4.3,4.4,2.6,6.2,7.6,1.7,3.4,4.2,6.4,3.5,2.9,1.8,3.1,1.7,5.7,2.7,5.8,2.9,3.0,2.0,7.5,3.3,2.3,2.8,1.5,2.8,4.6,1.9,3.1,2.8,2.2,1.8,2.1,3.1,3.2,6.6,1.8,5.8,8.4,7.2,4.9,4.5,7.0,2.5,2.1,3.6,2.3,1.5,2.3,2.9,2.2,3.8,11.8,9.7,3.1,3.0,4.7,7.4,3.2,5.4,6.1,3.0,5.4,5.2,2.1,1.1,1.9,1.6,2.4,3.5,4.8,2.2,5.4,5.4,8.7,7.7,2.3,4.5,2.4,4.5,4.6,4.5,5.0,4.9,8.8,3.1,2.3,3.5,3.5,2.6,2.5,4.0,3.1,3.7,2.9,4.2,2.8,3.9,1.0,2.4,2.9,3.6,2.2,2.4,3.1,5.2,3.5,2.3,3.0,1.2,3.7,4.6,2.5,1.8,1.4,1.2,1.6,4.6,4.3,1.1,3.9,2.0,5.6,2.6,2.1,2.0,1.9,4.0,4.4,8.1,3.8,3.6,5.6,7.1,4.5,2.2,3.5,2.0,2.8,5.8,2.2,1.5,1.9,3.0,4.3,2.3,1.3,3.7,4.8,1.7,3.7,8.2,2.9,3.6,1.9,4.9,2.8,2.1,3.4,4.4,4.4,4.3,3.2,3.4,4.3,9.0,2.8,3.9,7.1,2.0,6.7,7.9,2.1,3.0,2.0,2.7,2.9,5.7,5.8,5.3,4.9,3.9,2.2,4.3,3.3,2.9,6.2,1.9,2.1,2.6,1.8,3.2,4.8,3.5,10.3,3.3,2.4,3.0,3.1,2.5,2.2,6.8,6.6,5.3,2.1,10.7,5.0,4.1,7.4,2.5,4.1,4.7,5.1,3.1,4.9,6.3,7.4,5.3,1.4,3.3,2.6,3.0,4.2,3.0,3.4,3.7,2.7,5.1,4.4,4.2,3.0,1.3,2.3,3.2,2.7,5.6,3.6,2.7,2.4,2.1,4.0,5.8,4.0,2.8,4.0,1.7,2.4,7.2,4.6,6.1,2.2,2.7,4.2,4.6,2.1,2.9,6.0,2.8,8.2,3.3,10.2,7.1,6.4,2.9,3.9,4.6,2.2,4.5,8.2,2.5,10.8,2.5,2.3,4.3,2.6,2.8,4.3,2.5,3.5,4.1,4.3,5.7,2.2,6.7,7.1,3.9,6.4,1.8,5.0,4.9,5.5,3.2,1.9,3.5,6.1,3.1,4.5,2.6,1.4,4.0,2.1,2.0,7.8,3.3,3.3,2.4,1.0,5.3,3.8,2.8,6.4,3.8,8.1,3.5,3.8,2.6,4.8,4.6,5.2,2.1,10.4,2.0,3.0,4.2,2.0,6.2,8.4,13.3,3.0,10.2,4.6,2.1,4.1,1.3,4.2,1.6,2.6,3.8,6.9,2.7,5.1,4.3,7.5,3.6,5.3,1.5,9.5,3.0,3.2,4.9,4.6,2.9,3.5,3.9,5.4,3.1,4.5,3.2,4.3,3.5,5.7,2.8,4.8,4.4,4.3,5.9,2.8,4.0,2.3,3.5,6.0,2.9,5.9,9.4,5.7,1.3,1.9,2.5,5.1,3.1,1.5,6.6,1.8,4.4,3.2,5.1,2.5,5.8,11.7,2.2,2.8,3.1,8.0,2.8,2.3,1.8,1.3,4.6,6.3,4.4,3.6,2.6,10.7,1.8,2.3,4.6,4.0,2.5,2.6,5.5,2.7,3.3,5.7,3.9,3.2,3.2,3.3,9.3,8.5,4.4,2.4,3.6,6.2,2.0,5.9,5.1,2.6,1.9,3.0,4.1,2.3,3.0,3.9,3.8,6.6,2.2,7.3,3.9,3.5,3.2,3.9,2.9,4.1,4.7,1.9,3.1,2.6,5.1,11.3,4.3,4.8,7.9,6.5,3.1,5.3,6.7,4.6,10.4,2.6,3.3,1.6,5.8,5.5,3.0,3.1,3.0,3.9,2.0,4.3,1.8,5.9,5.2,1.7,4.3,3.8,4.1,3.4,3.6,5.9,3.7,2.7,3.2,6.0,3.3,3.4,9.2,4.5,3.2,2.8,2.0,2.5,6.5,1.7,6.1,3.6,4.9,11.4,3.4,3.3,4.2,2.5,4.7,6.3,1.6,1.7,2.8,3.9,2.8,2.0,2.9,5.9,2.1,1.9,2.5,2.5,8.3,8.1,3.4,3.2,5.3,3.1,3.5,2.5,4.9,3.5,2.9,3.3,3.0,4.2,1.5,1.8,2.2,8.7,6.6,8.3,5.4,3.1,5.7,4.0,2.5,4.6,6.2,6.8,5.7,2.9,2.6,2.3,3.2,4.8,2.3,4.1,3.0,4.8,2.0,2.2,2.4,3.3,5.7,4.3,3.6,2.5,4.2,1.8,3.0,2.2,4.3,3.6,3.0,3.6,10.5,2.5,4.6,4.4,2.9,1.8,2.2,2.6,3.9,3.9,3.0,5.1,6.2,1.7,2.9,3.0,4.5,3.5,2.9,1.8,2.4,8.5,7.4,3.9,5.6,7.5,6.1,3.5,6.6,4.5,2.3,1.8,1.3,3.9,3.8,8.9,2.5],\"yaxis\":\"y\",\"type\":\"scattergl\"},{\"customdata\":[[\"Joe Fulks\"],[\"Andy Phillip\"],[\"Carl Braun\"],[\"Arnie Risen\"],[\"Bob Davies\"],[\"Bobby Wanzer\"],[\"George Mikan\"],[\"Harry Gallatin\"],[\"Jim Pollard\"],[\"Red Holzman\"],[\"Alex Hannum\"],[\"Dick McGuire\"],[\"Dolph Schayes\"],[\"Ed Macauley\"],[\"Slater Martin\"],[\"Vern Mikkelsen\"],[\"Bill Sharman\"],[\"Bob Cousy\"],[\"Chuck Cooper\"],[\"Earl Lloyd\"],[\"Nat Clifton\"],[\"Paul Arizin\"],[\"Neil Johnston\"],[\"Bob Houbregs\"],[\"Clyde Lovellette\"],[\"George Yardley\"],[\"Bob Pettit\"],[\"Frank Ramsey\"],[\"Larry Costello\"],[\"Jack Twyman\"],[\"Tom Gola\"],[\"Bill Russell\"],[\"Cliff Hagan\"],[\"Richie Guerin\"],[\"Slick Leonard\"],[\"Tom Heinsohn\"],[\"Sam Jones\"],[\"Elgin Baylor\"],[\"Guy Rodgers\"],[\"Hal Greer\"],[\"K.C. Jones\"],[\"Wayne Embry\"],[\"Bailey Howell\"],[\"Wilt Chamberlain\"],[\"Al Attles\"],[\"Jerry West\"],[\"Lenny Wilkens\"],[\"Oscar Robertson\"],[\"Tom Sanders\"],[\"Walt Bellamy\"],[\"Chet Walker\"],[\"Dave DeBusschere\"],[\"Don Nelson\"],[\"John Havlicek\"],[\"Zelmo Beaty\"],[\"Gus Johnson\"],[\"Jerry Lucas\"],[\"Nate Thurmond\"],[\"Rod Thorn\"],[\"Willis Reed\"],[\"Billy Cunningham\"],[\"Gail Goodrich\"],[\"Jerry Sloan\"],[\"Rick Barry\"],[\"Dave Bing\"],[\"Lou Hudson\"],[\"Bill Bradley\"],[\"Connie Hawkins\"],[\"Earl Monroe\"],[\"Larry Brown\"],[\"Louie Dampier\"],[\"Mel Daniels\"],[\"Pat Riley\"],[\"Phil Jackson\"],[\"Roger Brown\"],[\"Walt Frazier\"],[\"Elvin Hayes\"],[\"Rick Adelman\"],[\"Wes Unseld\"],[\"Bob Dandridge\"],[\"Jo Jo White\"],[\"Kareem Abdul-Jabbar\"],[\"Spencer Haywood\"],[\"Bob Lanier\"],[\"Calvin Murphy\"],[\"Charlie Scott\"],[\"Dan Issel\"],[\"Dave Cowens\"],[\"Pete Maravich\"],[\"Rudy Tomjanovich\"],[\"Tiny Archibald\"],[\"Artis Gilmore\"],[\"George McGinnis\"],[\"Julius Erving\"],[\"Bob McAdoo\"],[\"George Gervin\"],[\"Paul Westphal\"],[\"George Karl\"],[\"Bill Walton\"],[\"Bobby Jones\"],[\"Jamaal Wilkes\"],[\"Moses Malone\"],[\"David Thompson\"],[\"Adrian Dantley\"],[\"Alex English\"],[\"Dennis Johnson\"],[\"Robert Parish\"],[\"Bernard King\"],[\"Jack Sikma\"],[\"Maurice Cheeks\"],[\"Larry Bird\"],[\"Magic Johnson\"],[\"Sidney Moncrief\"],[\"Kevin McHale\"],[\"Isiah Thomas\"],[\"Dominique Wilkins\"],[\"James Worthy\"],[\"Clyde Drexler\"],[\"Ralph Sampson\"],[\"Charles Barkley\"],[\"Hakeem Olajuwon\"],[\"John Stockton\"],[\"Michael Jordan\"],[\"Chris Mullin\"],[\"Joe Dumars\"],[\"Karl Malone\"],[\"Patrick Ewing\"],[\"Dennis Rodman\"],[\"Reggie Miller\"],[\"Scottie Pippen\"],[\"Mitch Richmond\"],[\"David Robinson\"],[\"\\u0160ar\\u016bnas Mar\\u010diulionis\"],[\"Tim Hardaway\"],[\"Vlade Divac\"],[\"Gary Payton\"],[\"Dikembe Mutombo\"],[\"Alonzo Mourning\"],[\"Shaquille O'Neal\"],[\"Chris Webber\"],[\"Toni Kuko\\u010d\"],[\"Grant Hill\"],[\"Jason Kidd\"],[\"Arvydas Sabonis\"],[\"Kevin Garnett\"],[\"Allen Iverson\"],[\"Ben Wallace\"],[\"Kobe Bryant\"],[\"Ray Allen\"],[\"Steve Nash\"],[\"Tim Duncan\"],[\"Tracy McGrady\"],[\"Dirk Nowitzki\"],[\"Paul Pierce\"],[\"Pau Gasol\"],[\"Tony Parker\"],[\"Manu Gin\\u00f3bili\"],[\"Yao Ming\"],[\"Chris Bosh\"],[\"Dwyane Wade\"]],\"hovertemplate\":\"hof=1\\u003cbr\\u003eAST=%{x}\\u003cbr\\u003eTRB=%{y}\\u003cbr\\u003eplayer=%{customdata[0]}\\u003cextra\\u003e\\u003c\\u002fextra\\u003e\",\"legendgroup\":\"1\",\"marker\":{\"color\":\"#EF553B\",\"symbol\":\"circle\"},\"mode\":\"markers\",\"name\":\"1\",\"showlegend\":true,\"x\":[1.2,5.4,3.7,1.7,4.9,3.2,2.8,1.8,3.2,2.0,1.7,5.7,3.1,3.2,4.2,2.2,3.0,7.5,1.8,1.4,2.5,2.3,2.5,1.8,1.6,1.7,3.0,1.8,4.6,2.3,4.2,4.3,3.2,5.0,3.3,2.0,2.5,4.3,7.8,4.0,4.3,1.4,2.0,4.4,3.5,6.7,6.7,9.5,1.1,2.4,2.1,2.9,1.4,4.8,1.5,2.5,3.3,2.7,2.6,1.8,4.3,4.7,2.5,4.9,6.0,2.7,3.4,4.1,3.9,6.7,4.9,1.8,1.7,1.1,0.5,6.1,1.8,3.5,3.9,3.4,4.9,3.6,1.8,3.1,4.4,4.9,2.4,3.8,5.4,2.0,7.4,2.3,3.7,4.2,2.3,2.6,4.4,3.0,3.4,0.5,2.5,1.3,3.3,3.0,3.6,5.0,1.4,3.3,3.2,6.7,6.3,11.2,3.6,1.7,9.3,2.5,3.0,5.6,2.3,3.9,2.5,10.5,5.3,3.5,4.5,3.6,0.3,1.8,3.0,5.2,3.5,2.5,2.2,8.2,3.1,6.7,1.0,1.1,2.5,4.2,3.7,4.1,8.7,2.1,3.7,6.2,1.3,4.7,3.4,8.5,3.0,4.4,2.4,3.5,3.2,5.6,3.8,1.6,2.0,5.4],\"xaxis\":\"x\",\"y\":[5.3,4.4,3.4,9.7,2.9,4.5,13.4,11.9,7.8,1.5,4.5,4.2,12.1,7.5,3.4,9.4,3.9,5.2,5.9,6.4,8.2,8.6,11.3,5.5,9.5,8.9,16.2,5.5,3.8,6.6,8.0,22.5,6.6,5.0,2.9,8.8,4.9,13.5,4.3,5.0,3.5,9.1,9.9,22.9,3.5,5.8,4.7,7.5,6.3,13.7,7.1,11.0,4.9,6.3,10.9,12.1,15.6,15.0,3.1,12.9,10.4,3.2,7.4,6.7,3.8,4.4,3.2,8.8,3.0,2.7,2.6,14.9,1.6,4.3,3.5,5.9,12.5,2.4,14.0,6.8,4.0,11.2,10.3,10.1,2.1,4.0,9.1,13.6,4.2,8.1,2.3,12.3,11.0,8.5,9.4,5.3,1.9,1.4,10.5,1.6,6.2,12.3,4.1,5.7,5.5,3.9,9.1,5.8,9.8,2.8,10.0,7.2,4.7,7.3,3.6,6.7,5.1,6.1,8.8,11.7,11.1,2.7,6.2,4.1,2.2,10.1,0.3,13.1,3.0,6.4,3.9,10.6,2.3,3.3,8.2,3.9,10.3,8.5,10.9,9.8,4.2,6.0,6.3,7.3,10.0,3.7,9.6,5.2,4.1,3.0,10.8,5.6,7.5,5.6,9.2,2.7,3.5,9.2,8.5,4.7],\"yaxis\":\"y\",\"type\":\"scattergl\"}],                        {\"template\":{\"data\":{\"histogram2dcontour\":[{\"type\":\"histogram2dcontour\",\"colorbar\":{\"outlinewidth\":0,\"ticks\":\"\"},\"colorscale\":[[0.0,\"#0d0887\"],[0.1111111111111111,\"#46039f\"],[0.2222222222222222,\"#7201a8\"],[0.3333333333333333,\"#9c179e\"],[0.4444444444444444,\"#bd3786\"],[0.5555555555555556,\"#d8576b\"],[0.6666666666666666,\"#ed7953\"],[0.7777777777777778,\"#fb9f3a\"],[0.8888888888888888,\"#fdca26\"],[1.0,\"#f0f921\"]]}],\"choropleth\":[{\"type\":\"choropleth\",\"colorbar\":{\"outlinewidth\":0,\"ticks\":\"\"}}],\"histogram2d\":[{\"type\":\"histogram2d\",\"colorbar\":{\"outlinewidth\":0,\"ticks\":\"\"},\"colorscale\":[[0.0,\"#0d0887\"],[0.1111111111111111,\"#46039f\"],[0.2222222222222222,\"#7201a8\"],[0.3333333333333333,\"#9c179e\"],[0.4444444444444444,\"#bd3786\"],[0.5555555555555556,\"#d8576b\"],[0.6666666666666666,\"#ed7953\"],[0.7777777777777778,\"#fb9f3a\"],[0.8888888888888888,\"#fdca26\"],[1.0,\"#f0f921\"]]}],\"heatmap\":[{\"type\":\"heatmap\",\"colorbar\":{\"outlinewidth\":0,\"ticks\":\"\"},\"colorscale\":[[0.0,\"#0d0887\"],[0.1111111111111111,\"#46039f\"],[0.2222222222222222,\"#7201a8\"],[0.3333333333333333,\"#9c179e\"],[0.4444444444444444,\"#bd3786\"],[0.5555555555555556,\"#d8576b\"],[0.6666666666666666,\"#ed7953\"],[0.7777777777777778,\"#fb9f3a\"],[0.8888888888888888,\"#fdca26\"],[1.0,\"#f0f921\"]]}],\"heatmapgl\":[{\"type\":\"heatmapgl\",\"colorbar\":{\"outlinewidth\":0,\"ticks\":\"\"},\"colorscale\":[[0.0,\"#0d0887\"],[0.1111111111111111,\"#46039f\"],[0.2222222222222222,\"#7201a8\"],[0.3333333333333333,\"#9c179e\"],[0.4444444444444444,\"#bd3786\"],[0.5555555555555556,\"#d8576b\"],[0.6666666666666666,\"#ed7953\"],[0.7777777777777778,\"#fb9f3a\"],[0.8888888888888888,\"#fdca26\"],[1.0,\"#f0f921\"]]}],\"contourcarpet\":[{\"type\":\"contourcarpet\",\"colorbar\":{\"outlinewidth\":0,\"ticks\":\"\"}}],\"contour\":[{\"type\":\"contour\",\"colorbar\":{\"outlinewidth\":0,\"ticks\":\"\"},\"colorscale\":[[0.0,\"#0d0887\"],[0.1111111111111111,\"#46039f\"],[0.2222222222222222,\"#7201a8\"],[0.3333333333333333,\"#9c179e\"],[0.4444444444444444,\"#bd3786\"],[0.5555555555555556,\"#d8576b\"],[0.6666666666666666,\"#ed7953\"],[0.7777777777777778,\"#fb9f3a\"],[0.8888888888888888,\"#fdca26\"],[1.0,\"#f0f921\"]]}],\"surface\":[{\"type\":\"surface\",\"colorbar\":{\"outlinewidth\":0,\"ticks\":\"\"},\"colorscale\":[[0.0,\"#0d0887\"],[0.1111111111111111,\"#46039f\"],[0.2222222222222222,\"#7201a8\"],[0.3333333333333333,\"#9c179e\"],[0.4444444444444444,\"#bd3786\"],[0.5555555555555556,\"#d8576b\"],[0.6666666666666666,\"#ed7953\"],[0.7777777777777778,\"#fb9f3a\"],[0.8888888888888888,\"#fdca26\"],[1.0,\"#f0f921\"]]}],\"mesh3d\":[{\"type\":\"mesh3d\",\"colorbar\":{\"outlinewidth\":0,\"ticks\":\"\"}}],\"scatter\":[{\"fillpattern\":{\"fillmode\":\"overlay\",\"size\":10,\"solidity\":0.2},\"type\":\"scatter\"}],\"parcoords\":[{\"type\":\"parcoords\",\"line\":{\"colorbar\":{\"outlinewidth\":0,\"ticks\":\"\"}}}],\"scatterpolargl\":[{\"type\":\"scatterpolargl\",\"marker\":{\"colorbar\":{\"outlinewidth\":0,\"ticks\":\"\"}}}],\"bar\":[{\"error_x\":{\"color\":\"#2a3f5f\"},\"error_y\":{\"color\":\"#2a3f5f\"},\"marker\":{\"line\":{\"color\":\"#E5ECF6\",\"width\":0.5},\"pattern\":{\"fillmode\":\"overlay\",\"size\":10,\"solidity\":0.2}},\"type\":\"bar\"}],\"scattergeo\":[{\"type\":\"scattergeo\",\"marker\":{\"colorbar\":{\"outlinewidth\":0,\"ticks\":\"\"}}}],\"scatterpolar\":[{\"type\":\"scatterpolar\",\"marker\":{\"colorbar\":{\"outlinewidth\":0,\"ticks\":\"\"}}}],\"histogram\":[{\"marker\":{\"pattern\":{\"fillmode\":\"overlay\",\"size\":10,\"solidity\":0.2}},\"type\":\"histogram\"}],\"scattergl\":[{\"type\":\"scattergl\",\"marker\":{\"colorbar\":{\"outlinewidth\":0,\"ticks\":\"\"}}}],\"scatter3d\":[{\"type\":\"scatter3d\",\"line\":{\"colorbar\":{\"outlinewidth\":0,\"ticks\":\"\"}},\"marker\":{\"colorbar\":{\"outlinewidth\":0,\"ticks\":\"\"}}}],\"scattermapbox\":[{\"type\":\"scattermapbox\",\"marker\":{\"colorbar\":{\"outlinewidth\":0,\"ticks\":\"\"}}}],\"scatterternary\":[{\"type\":\"scatterternary\",\"marker\":{\"colorbar\":{\"outlinewidth\":0,\"ticks\":\"\"}}}],\"scattercarpet\":[{\"type\":\"scattercarpet\",\"marker\":{\"colorbar\":{\"outlinewidth\":0,\"ticks\":\"\"}}}],\"carpet\":[{\"aaxis\":{\"endlinecolor\":\"#2a3f5f\",\"gridcolor\":\"white\",\"linecolor\":\"white\",\"minorgridcolor\":\"white\",\"startlinecolor\":\"#2a3f5f\"},\"baxis\":{\"endlinecolor\":\"#2a3f5f\",\"gridcolor\":\"white\",\"linecolor\":\"white\",\"minorgridcolor\":\"white\",\"startlinecolor\":\"#2a3f5f\"},\"type\":\"carpet\"}],\"table\":[{\"cells\":{\"fill\":{\"color\":\"#EBF0F8\"},\"line\":{\"color\":\"white\"}},\"header\":{\"fill\":{\"color\":\"#C8D4E3\"},\"line\":{\"color\":\"white\"}},\"type\":\"table\"}],\"barpolar\":[{\"marker\":{\"line\":{\"color\":\"#E5ECF6\",\"width\":0.5},\"pattern\":{\"fillmode\":\"overlay\",\"size\":10,\"solidity\":0.2}},\"type\":\"barpolar\"}],\"pie\":[{\"automargin\":true,\"type\":\"pie\"}]},\"layout\":{\"autotypenumbers\":\"strict\",\"colorway\":[\"#636efa\",\"#EF553B\",\"#00cc96\",\"#ab63fa\",\"#FFA15A\",\"#19d3f3\",\"#FF6692\",\"#B6E880\",\"#FF97FF\",\"#FECB52\"],\"font\":{\"color\":\"#2a3f5f\"},\"hovermode\":\"closest\",\"hoverlabel\":{\"align\":\"left\"},\"paper_bgcolor\":\"white\",\"plot_bgcolor\":\"#E5ECF6\",\"polar\":{\"bgcolor\":\"#E5ECF6\",\"angularaxis\":{\"gridcolor\":\"white\",\"linecolor\":\"white\",\"ticks\":\"\"},\"radialaxis\":{\"gridcolor\":\"white\",\"linecolor\":\"white\",\"ticks\":\"\"}},\"ternary\":{\"bgcolor\":\"#E5ECF6\",\"aaxis\":{\"gridcolor\":\"white\",\"linecolor\":\"white\",\"ticks\":\"\"},\"baxis\":{\"gridcolor\":\"white\",\"linecolor\":\"white\",\"ticks\":\"\"},\"caxis\":{\"gridcolor\":\"white\",\"linecolor\":\"white\",\"ticks\":\"\"}},\"coloraxis\":{\"colorbar\":{\"outlinewidth\":0,\"ticks\":\"\"}},\"colorscale\":{\"sequential\":[[0.0,\"#0d0887\"],[0.1111111111111111,\"#46039f\"],[0.2222222222222222,\"#7201a8\"],[0.3333333333333333,\"#9c179e\"],[0.4444444444444444,\"#bd3786\"],[0.5555555555555556,\"#d8576b\"],[0.6666666666666666,\"#ed7953\"],[0.7777777777777778,\"#fb9f3a\"],[0.8888888888888888,\"#fdca26\"],[1.0,\"#f0f921\"]],\"sequentialminus\":[[0.0,\"#0d0887\"],[0.1111111111111111,\"#46039f\"],[0.2222222222222222,\"#7201a8\"],[0.3333333333333333,\"#9c179e\"],[0.4444444444444444,\"#bd3786\"],[0.5555555555555556,\"#d8576b\"],[0.6666666666666666,\"#ed7953\"],[0.7777777777777778,\"#fb9f3a\"],[0.8888888888888888,\"#fdca26\"],[1.0,\"#f0f921\"]],\"diverging\":[[0,\"#8e0152\"],[0.1,\"#c51b7d\"],[0.2,\"#de77ae\"],[0.3,\"#f1b6da\"],[0.4,\"#fde0ef\"],[0.5,\"#f7f7f7\"],[0.6,\"#e6f5d0\"],[0.7,\"#b8e186\"],[0.8,\"#7fbc41\"],[0.9,\"#4d9221\"],[1,\"#276419\"]]},\"xaxis\":{\"gridcolor\":\"white\",\"linecolor\":\"white\",\"ticks\":\"\",\"title\":{\"standoff\":15},\"zerolinecolor\":\"white\",\"automargin\":true,\"zerolinewidth\":2},\"yaxis\":{\"gridcolor\":\"white\",\"linecolor\":\"white\",\"ticks\":\"\",\"title\":{\"standoff\":15},\"zerolinecolor\":\"white\",\"automargin\":true,\"zerolinewidth\":2},\"scene\":{\"xaxis\":{\"backgroundcolor\":\"#E5ECF6\",\"gridcolor\":\"white\",\"linecolor\":\"white\",\"showbackground\":true,\"ticks\":\"\",\"zerolinecolor\":\"white\",\"gridwidth\":2},\"yaxis\":{\"backgroundcolor\":\"#E5ECF6\",\"gridcolor\":\"white\",\"linecolor\":\"white\",\"showbackground\":true,\"ticks\":\"\",\"zerolinecolor\":\"white\",\"gridwidth\":2},\"zaxis\":{\"backgroundcolor\":\"#E5ECF6\",\"gridcolor\":\"white\",\"linecolor\":\"white\",\"showbackground\":true,\"ticks\":\"\",\"zerolinecolor\":\"white\",\"gridwidth\":2}},\"shapedefaults\":{\"line\":{\"color\":\"#2a3f5f\"}},\"annotationdefaults\":{\"arrowcolor\":\"#2a3f5f\",\"arrowhead\":0,\"arrowwidth\":1},\"geo\":{\"bgcolor\":\"white\",\"landcolor\":\"#E5ECF6\",\"subunitcolor\":\"white\",\"showland\":true,\"showlakes\":true,\"lakecolor\":\"white\"},\"title\":{\"x\":0.05},\"mapbox\":{\"style\":\"light\"}}},\"xaxis\":{\"anchor\":\"y\",\"domain\":[0.0,1.0],\"title\":{\"text\":\"AST\"}},\"yaxis\":{\"anchor\":\"x\",\"domain\":[0.0,1.0],\"title\":{\"text\":\"TRB\"}},\"legend\":{\"title\":{\"text\":\"hof\"},\"tracegroupgap\":0},\"margin\":{\"t\":60},\"title\":{\"text\":\"Scatter Plot of AST vs TRB for Players with more than 4 seasons\"}},                        {\"responsive\": true}                    ).then(function(){\n",
              "                            \n",
              "var gd = document.getElementById('62c2e131-f128-45d2-8480-be12dd431f86');\n",
              "var x = new MutationObserver(function (mutations, observer) {{\n",
              "        var display = window.getComputedStyle(gd).display;\n",
              "        if (!display || display === 'none') {{\n",
              "            console.log([gd, 'removed!']);\n",
              "            Plotly.purge(gd);\n",
              "            observer.disconnect();\n",
              "        }}\n",
              "}});\n",
              "\n",
              "// Listen for the removal of the full notebook cells\n",
              "var notebookContainer = gd.closest('#notebook-container');\n",
              "if (notebookContainer) {{\n",
              "    x.observe(notebookContainer, {childList: true});\n",
              "}}\n",
              "\n",
              "// Listen for the clearing of the current output cell\n",
              "var outputEl = gd.closest('.output');\n",
              "if (outputEl) {{\n",
              "    x.observe(outputEl, {childList: true});\n",
              "}}\n",
              "\n",
              "                        })                };                            </script>        </div>\n",
              "</body>\n",
              "</html>"
            ]
          },
          "metadata": {}
        }
      ]
    },
    {
      "cell_type": "markdown",
      "source": [
        "Looking at this data set, we can clearly see that HOFers often will have higher total rebound percentage, and we can also see they are more likely to have higher numbers of assists, which further strengthens our idea that we can use this to differentiate HOF from non HOFers."
      ],
      "metadata": {
        "id": "o9gc3SLvrlFm"
      }
    },
    {
      "cell_type": "markdown",
      "source": [
        "##MACHINE LEARNING"
      ],
      "metadata": {
        "id": "8q-OIHRbr_O_"
      }
    },
    {
      "cell_type": "markdown",
      "source": [
        "Ok so now that all of our data collection is out of the way, we can now move on to the machine learning aspect of our analysis. We will use the SK Learn module with a random forest classifier as that is quite often a good model to use for this type of data sets. We will split the model up into two parts, our test set as well as our training set, where we will train our machine learn model on the train set and then test it on the test set so that we ensure it is not memorising data."
      ],
      "metadata": {
        "id": "-Dmiv1nIsD_d"
      }
    },
    {
      "cell_type": "code",
      "source": [
        "#first let us drop some columns we will not use.\n",
        "\n",
        "#make a copy to do this analysis\n",
        "#dropping some columns which should be irrelvant here\n",
        "x = dsPlayers.drop(columns=['hof','player','player_id'])\n",
        "y = dsPlayers['hof']\n",
        "\n",
        "\n",
        "x_train, x_test, y_train, y_test = train_test_split(x, y, test_size=0.2, random_state=5)\n",
        "\n",
        "y_train = y_train.astype(int)\n",
        "y_test = y_test.astype(int)\n"
      ],
      "metadata": {
        "id": "BJSUnl_3tjx0"
      },
      "execution_count": 310,
      "outputs": []
    },
    {
      "cell_type": "markdown",
      "source": [
        "Ok, so now our code is ready to preform the analysis and has been split up accordingly. Let's do this."
      ],
      "metadata": {
        "id": "hiApIJ8zum4R"
      }
    },
    {
      "cell_type": "code",
      "source": [
        "#let us create and initialise the random forest model\n",
        "rf_nba_model = RandomForestClassifier(random_state=5)\n",
        "#here we train our model\n",
        "rf_nba_model.fit(x_train, y_train)\n",
        "\n",
        "#we will make predicitions based on our x test data\n",
        "y_pred = rf_nba_model.predict(x_test)\n",
        "\n",
        "#we will then test the accuracy of the model here\n",
        "accuracy = accuracy_score(y_test, y_pred)\n",
        "print(\"Accuracy: \" + str(100 * accuracy.round(2)) + '%')"
      ],
      "metadata": {
        "colab": {
          "base_uri": "https://localhost:8080/"
        },
        "id": "LvnKlTGSvpPw",
        "outputId": "cdbef104-2008-42ec-f68c-0ae4a167a518"
      },
      "execution_count": 311,
      "outputs": [
        {
          "output_type": "stream",
          "name": "stdout",
          "text": [
            "Accuracy: 99.0%\n"
          ]
        }
      ]
    },
    {
      "cell_type": "markdown",
      "source": [
        "Awesome! Our machine learning process has worked here in this case, with it having a very high accuracy score for predicting in our random test set who will make it to the NBA HOF."
      ],
      "metadata": {
        "id": "7ZWmUIOFwyWU"
      }
    },
    {
      "cell_type": "markdown",
      "source": [
        "We can complete some extra tests just to see where the model has gone wrong, and potentially learn something from this."
      ],
      "metadata": {
        "id": "riFz5RG6xYGr"
      }
    },
    {
      "cell_type": "code",
      "source": [
        "#let us add the predicted data back to our original data set\n",
        "\n",
        "# Make predictions for both training and testing sets\n",
        "y_pred_train = rf_nba_model.predict(x_train)\n",
        "y_pred_test = rf_nba_model.predict(x_test)\n",
        "\n",
        "# Concatenate the predicted values vertically\n",
        "y_pred_combined = pd.concat([pd.Series(y_pred_train), pd.Series(y_pred_test)], axis=0)\n",
        "\n",
        "# Reset index to match original dataset\n",
        "y_pred_combined.reset_index(drop=True, inplace=True)\n",
        "\n",
        "# Add predicted values to the original dataset\n",
        "dsPlayers['predicted_hof'] = y_pred_combined"
      ],
      "metadata": {
        "id": "e1q81sRgzHln"
      },
      "execution_count": 312,
      "outputs": []
    },
    {
      "cell_type": "code",
      "source": [
        "sum = 0\n",
        "for index, row in dsPlayers.iterrows():\n",
        "    if row['hof'] != row['predicted_hof']:\n",
        "\n",
        "        sum +=1\n",
        "print(\"Incorrectly assigned: \" + str(sum))"
      ],
      "metadata": {
        "colab": {
          "base_uri": "https://localhost:8080/"
        },
        "id": "O6oR-V_KzXwX",
        "outputId": "624922d9-4f54-4498-ef86-2c23c96fd769"
      },
      "execution_count": 313,
      "outputs": [
        {
          "output_type": "stream",
          "name": "stdout",
          "text": [
            "Incorrectly assigned: 316\n"
          ]
        }
      ]
    },
    {
      "cell_type": "markdown",
      "source": [
        "Therefore we can see that we have 316/5200 incorrect in this case, which means the approxiamtely 94% of our data set has correctly been matched which is a great reesult for our machine learning algorithm.\n",
        "\n",
        "This is espcially good for this mode considering how it can be quite difficult to predict who will be inducted into the hall of fame, as it is not always purely on statistics, but can be also due to a players popularity and their effect off of the court, but we have only used on court data for this model prediction. Our model seemed to benefit more attacking players, as they were more likely to be inducted, as can be seen with Dennis Rodman below being in the hall of fame, despite our mode predicted he would not be. This is due to the fact that many of the players in the all def team as he was did not make it to the HOF so he was left off in this case, as well as his point scoring being quite low. So overall there will always be some players in the Hall of Fame who are quite hard to predict as they do not follow the pattern that others do in entering it, but we are still able to find the large majority to a high degree of accuracy."
      ],
      "metadata": {
        "id": "iTHB1Vl83rKy"
      }
    },
    {
      "cell_type": "code",
      "source": [
        "dsPlayers[dsPlayers['player'] == 'Dennis Rodman']"
      ],
      "metadata": {
        "colab": {
          "base_uri": "https://localhost:8080/",
          "height": 144
        },
        "id": "R3mbD46R4-LU",
        "outputId": "42ccf2b1-e1b4-4437-b325-fcded30d66b9"
      },
      "execution_count": 315,
      "outputs": [
        {
          "output_type": "execute_result",
          "data": {
            "text/plain": [
              "      player_id         player hof  num_seasons  first_seas  last_seas  \\\n",
              "2300       2301  Dennis Rodman   1           14        1987       2000   \n",
              "\n",
              "        Height     Wt    G  PTS  ...  all-def1  all-def2  all-rook1  \\\n",
              "2300  6.583333  210.0  911  7.3  ...         8         8          0   \n",
              "\n",
              "      all-rook2  dpoy  mip  nba-mvp  nba-roy  smoy  predicted_hof  \n",
              "2300          0    10    1        4        0     2              0  \n",
              "\n",
              "[1 rows x 41 columns]"
            ],
            "text/html": [
              "\n",
              "  <div id=\"df-cd10de6e-ea33-4640-a599-fd9e98b720bc\" class=\"colab-df-container\">\n",
              "    <div>\n",
              "<style scoped>\n",
              "    .dataframe tbody tr th:only-of-type {\n",
              "        vertical-align: middle;\n",
              "    }\n",
              "\n",
              "    .dataframe tbody tr th {\n",
              "        vertical-align: top;\n",
              "    }\n",
              "\n",
              "    .dataframe thead th {\n",
              "        text-align: right;\n",
              "    }\n",
              "</style>\n",
              "<table border=\"1\" class=\"dataframe\">\n",
              "  <thead>\n",
              "    <tr style=\"text-align: right;\">\n",
              "      <th></th>\n",
              "      <th>player_id</th>\n",
              "      <th>player</th>\n",
              "      <th>hof</th>\n",
              "      <th>num_seasons</th>\n",
              "      <th>first_seas</th>\n",
              "      <th>last_seas</th>\n",
              "      <th>Height</th>\n",
              "      <th>Wt</th>\n",
              "      <th>G</th>\n",
              "      <th>PTS</th>\n",
              "      <th>...</th>\n",
              "      <th>all-def1</th>\n",
              "      <th>all-def2</th>\n",
              "      <th>all-rook1</th>\n",
              "      <th>all-rook2</th>\n",
              "      <th>dpoy</th>\n",
              "      <th>mip</th>\n",
              "      <th>nba-mvp</th>\n",
              "      <th>nba-roy</th>\n",
              "      <th>smoy</th>\n",
              "      <th>predicted_hof</th>\n",
              "    </tr>\n",
              "  </thead>\n",
              "  <tbody>\n",
              "    <tr>\n",
              "      <th>2300</th>\n",
              "      <td>2301</td>\n",
              "      <td>Dennis Rodman</td>\n",
              "      <td>1</td>\n",
              "      <td>14</td>\n",
              "      <td>1987</td>\n",
              "      <td>2000</td>\n",
              "      <td>6.583333</td>\n",
              "      <td>210.0</td>\n",
              "      <td>911</td>\n",
              "      <td>7.3</td>\n",
              "      <td>...</td>\n",
              "      <td>8</td>\n",
              "      <td>8</td>\n",
              "      <td>0</td>\n",
              "      <td>0</td>\n",
              "      <td>10</td>\n",
              "      <td>1</td>\n",
              "      <td>4</td>\n",
              "      <td>0</td>\n",
              "      <td>2</td>\n",
              "      <td>0</td>\n",
              "    </tr>\n",
              "  </tbody>\n",
              "</table>\n",
              "<p>1 rows × 41 columns</p>\n",
              "</div>\n",
              "    <div class=\"colab-df-buttons\">\n",
              "\n",
              "  <div class=\"colab-df-container\">\n",
              "    <button class=\"colab-df-convert\" onclick=\"convertToInteractive('df-cd10de6e-ea33-4640-a599-fd9e98b720bc')\"\n",
              "            title=\"Convert this dataframe to an interactive table.\"\n",
              "            style=\"display:none;\">\n",
              "\n",
              "  <svg xmlns=\"http://www.w3.org/2000/svg\" height=\"24px\" viewBox=\"0 -960 960 960\">\n",
              "    <path d=\"M120-120v-720h720v720H120Zm60-500h600v-160H180v160Zm220 220h160v-160H400v160Zm0 220h160v-160H400v160ZM180-400h160v-160H180v160Zm440 0h160v-160H620v160ZM180-180h160v-160H180v160Zm440 0h160v-160H620v160Z\"/>\n",
              "  </svg>\n",
              "    </button>\n",
              "\n",
              "  <style>\n",
              "    .colab-df-container {\n",
              "      display:flex;\n",
              "      gap: 12px;\n",
              "    }\n",
              "\n",
              "    .colab-df-convert {\n",
              "      background-color: #E8F0FE;\n",
              "      border: none;\n",
              "      border-radius: 50%;\n",
              "      cursor: pointer;\n",
              "      display: none;\n",
              "      fill: #1967D2;\n",
              "      height: 32px;\n",
              "      padding: 0 0 0 0;\n",
              "      width: 32px;\n",
              "    }\n",
              "\n",
              "    .colab-df-convert:hover {\n",
              "      background-color: #E2EBFA;\n",
              "      box-shadow: 0px 1px 2px rgba(60, 64, 67, 0.3), 0px 1px 3px 1px rgba(60, 64, 67, 0.15);\n",
              "      fill: #174EA6;\n",
              "    }\n",
              "\n",
              "    .colab-df-buttons div {\n",
              "      margin-bottom: 4px;\n",
              "    }\n",
              "\n",
              "    [theme=dark] .colab-df-convert {\n",
              "      background-color: #3B4455;\n",
              "      fill: #D2E3FC;\n",
              "    }\n",
              "\n",
              "    [theme=dark] .colab-df-convert:hover {\n",
              "      background-color: #434B5C;\n",
              "      box-shadow: 0px 1px 3px 1px rgba(0, 0, 0, 0.15);\n",
              "      filter: drop-shadow(0px 1px 2px rgba(0, 0, 0, 0.3));\n",
              "      fill: #FFFFFF;\n",
              "    }\n",
              "  </style>\n",
              "\n",
              "    <script>\n",
              "      const buttonEl =\n",
              "        document.querySelector('#df-cd10de6e-ea33-4640-a599-fd9e98b720bc button.colab-df-convert');\n",
              "      buttonEl.style.display =\n",
              "        google.colab.kernel.accessAllowed ? 'block' : 'none';\n",
              "\n",
              "      async function convertToInteractive(key) {\n",
              "        const element = document.querySelector('#df-cd10de6e-ea33-4640-a599-fd9e98b720bc');\n",
              "        const dataTable =\n",
              "          await google.colab.kernel.invokeFunction('convertToInteractive',\n",
              "                                                    [key], {});\n",
              "        if (!dataTable) return;\n",
              "\n",
              "        const docLinkHtml = 'Like what you see? Visit the ' +\n",
              "          '<a target=\"_blank\" href=https://colab.research.google.com/notebooks/data_table.ipynb>data table notebook</a>'\n",
              "          + ' to learn more about interactive tables.';\n",
              "        element.innerHTML = '';\n",
              "        dataTable['output_type'] = 'display_data';\n",
              "        await google.colab.output.renderOutput(dataTable, element);\n",
              "        const docLink = document.createElement('div');\n",
              "        docLink.innerHTML = docLinkHtml;\n",
              "        element.appendChild(docLink);\n",
              "      }\n",
              "    </script>\n",
              "  </div>\n",
              "\n",
              "    </div>\n",
              "  </div>\n"
            ],
            "application/vnd.google.colaboratory.intrinsic+json": {
              "type": "dataframe"
            }
          },
          "metadata": {},
          "execution_count": 315
        }
      ]
    },
    {
      "cell_type": "markdown",
      "source": [
        "Ultimaly we have made quite a succsesful model which is able to predict HOF players in the NBA to quite a high accuracy. The techniques for machine learning here can be applied to many different use cases to predict outcomes with large data packages and get quite accurate results."
      ],
      "metadata": {
        "id": "HbP3VrtK47o9"
      }
    }
  ]
}